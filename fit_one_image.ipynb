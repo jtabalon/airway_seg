{
 "cells": [
  {
   "cell_type": "code",
   "execution_count": 91,
   "metadata": {},
   "outputs": [],
   "source": [
    "os.environ[\"CUDA_DEVICE_ORDER\"] = \"PCI_BUS_ID\"   # see issue #152\n",
    "os.environ[\"CUDA_VISIBLE_DEVICES\"] = \"0\""
   ]
  },
  {
   "cell_type": "code",
   "execution_count": 92,
   "metadata": {},
   "outputs": [],
   "source": [
    "import os\n",
    "import numpy as np\n",
    "import matplotlib.pyplot as plt\n",
    "import nibabel as nib\n",
    "\n",
    "\"\"\" DL imports \"\"\"\n",
    "\n",
    "import tensorflow as tf\n",
    "from tensorflow.keras import layers\n",
    "from tensorflow.keras.models import Model\n",
    "from tensorflow.keras.models import *\n",
    "from tensorflow.keras.layers import *\n",
    "from tensorflow.keras.optimizers import *\n",
    "from tensorflow.keras.callbacks import ModelCheckpoint, LearningRateScheduler\n",
    "from tensorflow.keras import backend as keras\n",
    "from tensorflow.keras import Input"
   ]
  },
  {
   "cell_type": "markdown",
   "metadata": {},
   "source": [
    "# Data Generator"
   ]
  },
  {
   "cell_type": "code",
   "execution_count": 93,
   "metadata": {},
   "outputs": [
    {
     "name": "stdout",
     "output_type": "stream",
     "text": [
      "206 26\n"
     ]
    }
   ],
   "source": [
    "# Read in train/valid ids:\n",
    "train_ids_path = \"/home/jtabalon/airway_seg/train_ids.txt\"\n",
    "valid_ids_path = \"/home/jtabalon/airway_seg/valid_ids.txt\"\n",
    "\n",
    "with open(train_ids_path, \"r\") as file:\n",
    "    train_ids = [line.rstrip() for line in file]\n",
    "\n",
    "with open(valid_ids_path, \"r\") as file:\n",
    "    valid_ids = [line.rstrip() for line in file]\n",
    "\n",
    "print(len(train_ids), len(valid_ids))\n"
   ]
  },
  {
   "cell_type": "code",
   "execution_count": 94,
   "metadata": {},
   "outputs": [],
   "source": [
    "# TODO: configure number of pixels in a given slice as a hyper parameter.\n",
    "# TODO: configure number of patches per image as hyper parameter.\n",
    "\n",
    "\n",
    "def data_generator(ids, data_dir, batch_size=1, patch_size=64, shuffle=True):\n",
    "    while True:\n",
    "        # Set seed\n",
    "        # np.random.seed(42)   \n",
    "\n",
    "        # if shuffle:\n",
    "        #     np.random.shuffle(ids)\n",
    "        # num_batches = len(id) / batch_size\n",
    "\n",
    "        patch_distance = int(patch_size / 2)\n",
    "\n",
    "        for patient_id in ids:\n",
    "            # Read in image\n",
    "\n",
    "            img_dir = data_dir + \"/ct/ct_patients\" + str(patient_id) + \".nii\"\n",
    "            mask_dir = data_dir + \"/labels/aw_\" + str(patient_id) + \".nii\"\n",
    "\n",
    "            img = nib.load(img_dir).get_fdata() / 2000.\n",
    "            mask = nib.load(mask_dir).get_fdata()\n",
    "\n",
    "            row_dim = img.shape[0]\n",
    "            column_dim = img.shape[1]\n",
    "            slice_dim = img.shape[2]\n",
    "\n",
    "            # Define mask to randomly find patch midpoint within bounds of patch distance\n",
    "            working_mask = mask[patch_distance:(row_dim-patch_distance), \\\n",
    "                            patch_distance:(column_dim-patch_distance), \\\n",
    "                            patch_distance:(slice_dim-patch_distance)]\n",
    "\n",
    "            # Iterate through slices\n",
    "            slices = np.sum(working_mask, axis=(0,1))\n",
    "\n",
    "            # Find slices which contain mask\n",
    "            slices_with_airway = [i for i in range(0, len(slices)) if slices[i] > 0] # Potentially tune this 0 hyper parameter\n",
    "\n",
    "            # Randomly find slice\n",
    "            random_slice_index = np.random.randint(0, len(slices_with_airway)) # in small 3d... \n",
    "            random_slice = slices_with_airway[random_slice_index]\n",
    "\n",
    "            # Find columns which contain mask\n",
    "            row_column_locations = np.where(working_mask[:,:,random_slice] > 0)\n",
    "            num_mask_voxels = len(row_column_locations[0]) \n",
    "\n",
    "            # Randomly find row + column\n",
    "            random_row_column_index = np.random.randint(0, num_mask_voxels)\n",
    "            random_row = row_column_locations[0][random_row_column_index]\n",
    "            random_column = row_column_locations[1][random_row_column_index]\n",
    "\n",
    "            # Adjust voxel coordinates for larger image\n",
    "            adjusted_row = random_row + patch_distance\n",
    "            adjusted_column = random_column + patch_distance\n",
    "            adjusted_slice = random_slice + patch_distance\n",
    "\n",
    "            # Final voxel coordinates       \n",
    "            voxel_coordinates = (adjusted_row, adjusted_column, adjusted_slice)\n",
    "\n",
    "            # Index based on specified patch distance\n",
    "            indexed_patch_img = img[(adjusted_row-patch_distance):(adjusted_row+patch_distance), \\\n",
    "                    (adjusted_column-patch_distance):(adjusted_column+patch_distance), \\\n",
    "                    (adjusted_slice-patch_distance):(adjusted_slice+patch_distance)]\n",
    "\n",
    "            indexed_patch_label = mask[(adjusted_row-patch_distance):(adjusted_row+patch_distance), \\\n",
    "                            (adjusted_column-patch_distance):(adjusted_column+patch_distance), \\\n",
    "                            (adjusted_slice-patch_distance):(adjusted_slice+patch_distance)]\n",
    "\n",
    "            # Add patient and channel\n",
    "            patch_img = np.expand_dims(np.expand_dims(indexed_patch_img, -1), 0)\n",
    "            patch_mask = np.expand_dims(np.expand_dims(indexed_patch_label, -1), 0)\n",
    "\n",
    "            final_patch_img = tf.convert_to_tensor(patch_img)\n",
    "            final_patch_mask = tf.convert_to_tensor(patch_mask)\n",
    "\n",
    "            yield (final_patch_img, final_patch_mask)"
   ]
  },
  {
   "cell_type": "markdown",
   "metadata": {},
   "source": [
    "# Model Creation"
   ]
  },
  {
   "cell_type": "code",
   "execution_count": 95,
   "metadata": {},
   "outputs": [],
   "source": [
    "nb_enc_features = [32, 64, 64, 64]\n",
    "nb_dec_features = [64, 64, 64, 64, 64, 32, 32]"
   ]
  },
  {
   "cell_type": "code",
   "execution_count": 96,
   "metadata": {},
   "outputs": [],
   "source": [
    "# Hyperparameter Tuning\n",
    "batch_size = 1  \n",
    "learning_rate = 1e-5 # TODO: 1e-4: stuck at local minima... try with more data?"
   ]
  },
  {
   "cell_type": "code",
   "execution_count": 97,
   "metadata": {},
   "outputs": [],
   "source": [
    "def unet(pretrained_weights = None,input_size = (256,256,1)):\n",
    "    inputs = Input(input_size)\n",
    "    conv1 = Conv3D(64, 3, activation = 'relu', padding = 'same', kernel_initializer = 'he_normal')(inputs)\n",
    "    conv1 = Conv3D(64, 3, activation = 'relu', padding = 'same', kernel_initializer = 'he_normal')(conv1)\n",
    "    pool1 = MaxPooling3D(pool_size=(2, 2, 2))(conv1)\n",
    "    print(pool1)\n",
    "    conv2 = Conv3D(128, 3, activation = 'relu', padding = 'same', kernel_initializer = 'he_normal')(pool1)\n",
    "    conv2 = Conv3D(128, 3, activation = 'relu', padding = 'same', kernel_initializer = 'he_normal')(conv2)\n",
    "    pool2 = MaxPooling3D(pool_size=(2, 2, 2))(conv2)\n",
    "    print(pool2)\n",
    "    conv3 = Conv3D(256, 3, activation = 'relu', padding = 'same', kernel_initializer = 'he_normal')(pool2)\n",
    "    conv3 = Conv3D(256, 3, activation = 'relu', padding = 'same', kernel_initializer = 'he_normal')(conv3)\n",
    "    pool3 = MaxPooling3D(pool_size=(2, 2, 2))(conv3)\n",
    "    print(pool3)\n",
    "    conv4 = Conv3D(512, 3, activation = 'relu', padding = 'same', kernel_initializer = 'he_normal')(pool3)\n",
    "    conv4 = Conv3D(512, 3, activation = 'relu', padding = 'same', kernel_initializer = 'he_normal')(conv4)\n",
    "    drop4 = Dropout(0.5)(conv4)\n",
    "    pool4 = MaxPooling3D(pool_size=(2, 2, 2))(drop4)\n",
    "    print(pool4)\n",
    "\n",
    "    conv5 = Conv3D(1024, 3, activation = 'relu', padding = 'same', kernel_initializer = 'he_normal')(pool4)\n",
    "    conv5 = Conv3D(1024, 3, activation = 'relu', padding = 'same', kernel_initializer = 'he_normal')(conv5)\n",
    "    drop5 = Dropout(0.5)(conv5)\n",
    "\n",
    "    up6 = Conv3D(512, 2, activation = 'relu', padding = 'same', kernel_initializer = 'he_normal')(UpSampling3D(size = (2,2,2))(drop5))\n",
    "    merge6 = concatenate([drop4,up6], axis = -1)\n",
    "    conv6 = Conv3D(512, 3, activation = 'relu', padding = 'same', kernel_initializer = 'he_normal')(merge6)\n",
    "    conv6 = Conv3D(512, 3, activation = 'relu', padding = 'same', kernel_initializer = 'he_normal')(conv6)\n",
    "\n",
    "    up7 = Conv3D(256, 2, activation = 'relu', padding = 'same', kernel_initializer = 'he_normal')(UpSampling3D(size = (2,2,2))(conv6))\n",
    "    merge7 = concatenate([conv3,up7], axis = -1)\n",
    "    conv7 = Conv3D(256, 3, activation = 'relu', padding = 'same', kernel_initializer = 'he_normal')(merge7)\n",
    "    conv7 = Conv3D(256, 3, activation = 'relu', padding = 'same', kernel_initializer = 'he_normal')(conv7)\n",
    "\n",
    "    up8 = Conv3D(128, 2, activation = 'relu', padding = 'same', kernel_initializer = 'he_normal')(UpSampling3D(size = (2,2,2))(conv7))\n",
    "    merge8 = concatenate([conv2,up8], axis = -1)\n",
    "    conv8 = Conv3D(128, 3, activation = 'relu', padding = 'same', kernel_initializer = 'he_normal')(merge8)\n",
    "    conv8 = Conv3D(128, 3, activation = 'relu', padding = 'same', kernel_initializer = 'he_normal')(conv8)\n",
    "\n",
    "    up9 = Conv3D(64, 2, activation = 'relu', padding = 'same', kernel_initializer = 'he_normal')(UpSampling3D(size = (2,2,2))(conv8))\n",
    "    merge9 = concatenate([conv1,up9], axis = -1)\n",
    "    conv9 = Conv3D(64, 3, activation = 'relu', padding = 'same', kernel_initializer = 'he_normal')(merge9)\n",
    "    conv9 = Conv3D(64, 3, activation = 'relu', padding = 'same', kernel_initializer = 'he_normal')(conv9)\n",
    "    conv9 = Conv3D(2, 3, activation = 'relu', padding = 'same', kernel_initializer = 'he_normal')(conv9)\n",
    "    conv10 = Conv3D(1, 1, activation = 'sigmoid')(conv9)\n",
    "\n",
    "    model = Model(inputs, conv10)\n",
    "\n",
    "    return model"
   ]
  },
  {
   "cell_type": "code",
   "execution_count": 98,
   "metadata": {},
   "outputs": [],
   "source": [
    "# We'll leave the default branch of the git repo as a dice_loss for now until we get actually training.\n",
    "def dice_loss(y_true, y_pred):\n",
    "    numerator = 2 * tf.reduce_sum(y_true * y_pred)\n",
    "    denominator = tf.reduce_sum(y_true + y_pred)\n",
    "    return 1 - numerator / denominator"
   ]
  },
  {
   "cell_type": "code",
   "execution_count": 99,
   "metadata": {},
   "outputs": [],
   "source": [
    "def compile_model(learning_rate):\n",
    "    model.compile(optimizer = Adam(lr=learning_rate), loss = dice_loss)"
   ]
  },
  {
   "cell_type": "code",
   "execution_count": 100,
   "metadata": {},
   "outputs": [
    {
     "name": "stdout",
     "output_type": "stream",
     "text": [
      "KerasTensor(type_spec=TensorSpec(shape=(None, 32, 32, 32, 64), dtype=tf.float32, name=None), name='max_pooling3d_12/MaxPool3D:0', description=\"created by layer 'max_pooling3d_12'\")\n",
      "KerasTensor(type_spec=TensorSpec(shape=(None, 16, 16, 16, 128), dtype=tf.float32, name=None), name='max_pooling3d_13/MaxPool3D:0', description=\"created by layer 'max_pooling3d_13'\")\n",
      "KerasTensor(type_spec=TensorSpec(shape=(None, 8, 8, 8, 256), dtype=tf.float32, name=None), name='max_pooling3d_14/MaxPool3D:0', description=\"created by layer 'max_pooling3d_14'\")\n",
      "KerasTensor(type_spec=TensorSpec(shape=(None, 4, 4, 4, 512), dtype=tf.float32, name=None), name='max_pooling3d_15/MaxPool3D:0', description=\"created by layer 'max_pooling3d_15'\")\n"
     ]
    }
   ],
   "source": [
    "model = unet(input_size=(64,64,64, 1))\n",
    "compile_model(learning_rate)"
   ]
  },
  {
   "cell_type": "code",
   "execution_count": 101,
   "metadata": {},
   "outputs": [
    {
     "data": {
      "text/plain": [
       "<matplotlib.image.AxesImage at 0x7fb349878a30>"
      ]
     },
     "execution_count": 101,
     "metadata": {},
     "output_type": "execute_result"
    },
    {
     "data": {
      "image/png": "[encoded data removed]",
      "text/plain": [
       "<Figure size 432x288 with 1 Axes>"
      ]
     },
     "metadata": {
      "needs_background": "light"
     },
     "output_type": "display_data"
    }
   ],
   "source": [
    "plt.imshow(final_patch_mask[0,:,:,52,0] , cmap = \"gray\")"
   ]
  },
  {
   "cell_type": "code",
   "execution_count": 102,
   "metadata": {},
   "outputs": [],
   "source": [
    "train_dir = \"/home/jtabalon/airway_seg_data/train\"\n",
    "valid_dir = \"/home/jtabalon/airway_seg_data/valid\""
   ]
  },
  {
   "cell_type": "code",
   "execution_count": 104,
   "metadata": {},
   "outputs": [],
   "source": [
    "# TODO: Fix valid_generator.\n",
    "training_generator = data_generator(ids=train_ids, data_dir=train_dir, batch_size=1, patch_size=64)\n",
    "valid_generator = data_generator(ids=valid_ids, data_dir=valid_dir, batch_size=1, patch_size=64)"
   ]
  },
  {
   "cell_type": "code",
   "execution_count": 105,
   "metadata": {},
   "outputs": [],
   "source": [
    "checkpoint_filepath = \"/home/jtabalon/ckpt_airway_seg\"\n",
    "model_checkpoint_callback = tf.keras.callbacks.ModelCheckpoint(\n",
    "    filepath=checkpoint_filepath,\n",
    "    save_best_only=True,\n",
    "    monitor=\"loss\",\n",
    "    # monitor=\"val_loss\"\n",
    ")"
   ]
  },
  {
   "cell_type": "code",
   "execution_count": 106,
   "metadata": {},
   "outputs": [
    {
     "name": "stdout",
     "output_type": "stream",
     "text": [
      "Epoch 1/1000\n",
      "107/206 [==============>...............] - ETA: 2:19 - loss: 0.9018"
     ]
    },
    {
     "ename": "KeyboardInterrupt",
     "evalue": "",
     "output_type": "error",
     "traceback": [
      "\u001b[0;31m---------------------------------------------------------------------------\u001b[0m",
      "\u001b[0;31mKeyboardInterrupt\u001b[0m                         Traceback (most recent call last)",
      "\u001b[1;32m/home/jtabalon/airway_seg/fit_one_image.ipynb Cell 17'\u001b[0m in \u001b[0;36m<module>\u001b[0;34m\u001b[0m\n\u001b[1;32m      <a href='vscode-notebook-cell://ssh-remote%2B130.191.31.61/home/jtabalon/airway_seg/fit_one_image.ipynb#ch0000035vscode-remote?line=0'>1</a>\u001b[0m \u001b[39m# TODO: fix validation loop.\u001b[39;00m\n\u001b[1;32m      <a href='vscode-notebook-cell://ssh-remote%2B130.191.31.61/home/jtabalon/airway_seg/fit_one_image.ipynb#ch0000035vscode-remote?line=1'>2</a>\u001b[0m \u001b[39m# TODO: fix steps per epoch\u001b[39;00m\n\u001b[0;32m----> <a href='vscode-notebook-cell://ssh-remote%2B130.191.31.61/home/jtabalon/airway_seg/fit_one_image.ipynb#ch0000035vscode-remote?line=3'>4</a>\u001b[0m model\u001b[39m.\u001b[39;49mfit(x\u001b[39m=\u001b[39;49mtraining_generator, \\\n\u001b[1;32m      <a href='vscode-notebook-cell://ssh-remote%2B130.191.31.61/home/jtabalon/airway_seg/fit_one_image.ipynb#ch0000035vscode-remote?line=4'>5</a>\u001b[0m \u001b[39m#      validation_data=valid_generator, \\\u001b[39;49;00m\n\u001b[1;32m      <a href='vscode-notebook-cell://ssh-remote%2B130.191.31.61/home/jtabalon/airway_seg/fit_one_image.ipynb#ch0000035vscode-remote?line=5'>6</a>\u001b[0m \u001b[39m#      validation_batch_size=2, \\\u001b[39;49;00m\n\u001b[1;32m      <a href='vscode-notebook-cell://ssh-remote%2B130.191.31.61/home/jtabalon/airway_seg/fit_one_image.ipynb#ch0000035vscode-remote?line=6'>7</a>\u001b[0m \u001b[39m#      validation_freq=5, \\\u001b[39;49;00m\n\u001b[1;32m      <a href='vscode-notebook-cell://ssh-remote%2B130.191.31.61/home/jtabalon/airway_seg/fit_one_image.ipynb#ch0000035vscode-remote?line=7'>8</a>\u001b[0m       steps_per_epoch \u001b[39m=\u001b[39;49m \u001b[39mlen\u001b[39;49m(train_ids) \u001b[39m/\u001b[39;49m\u001b[39m/\u001b[39;49m batch_size, \\\n\u001b[1;32m      <a href='vscode-notebook-cell://ssh-remote%2B130.191.31.61/home/jtabalon/airway_seg/fit_one_image.ipynb#ch0000035vscode-remote?line=8'>9</a>\u001b[0m       epochs\u001b[39m=\u001b[39;49m\u001b[39m1000\u001b[39;49m, \\\n\u001b[1;32m     <a href='vscode-notebook-cell://ssh-remote%2B130.191.31.61/home/jtabalon/airway_seg/fit_one_image.ipynb#ch0000035vscode-remote?line=9'>10</a>\u001b[0m       callbacks\u001b[39m=\u001b[39;49m[model_checkpoint_callback])\n",
      "File \u001b[0;32m~/anaconda3/envs/tf_airway/lib/python3.9/site-packages/tensorflow/python/keras/engine/training.py:1100\u001b[0m, in \u001b[0;36mModel.fit\u001b[0;34m(self, x, y, batch_size, epochs, verbose, callbacks, validation_split, validation_data, shuffle, class_weight, sample_weight, initial_epoch, steps_per_epoch, validation_steps, validation_batch_size, validation_freq, max_queue_size, workers, use_multiprocessing)\u001b[0m\n\u001b[1;32m   <a href='file:///home/jtabalon/anaconda3/envs/tf_airway/lib/python3.9/site-packages/tensorflow/python/keras/engine/training.py?line=1092'>1093</a>\u001b[0m \u001b[39mwith\u001b[39;00m trace\u001b[39m.\u001b[39mTrace(\n\u001b[1;32m   <a href='file:///home/jtabalon/anaconda3/envs/tf_airway/lib/python3.9/site-packages/tensorflow/python/keras/engine/training.py?line=1093'>1094</a>\u001b[0m     \u001b[39m'\u001b[39m\u001b[39mtrain\u001b[39m\u001b[39m'\u001b[39m,\n\u001b[1;32m   <a href='file:///home/jtabalon/anaconda3/envs/tf_airway/lib/python3.9/site-packages/tensorflow/python/keras/engine/training.py?line=1094'>1095</a>\u001b[0m     epoch_num\u001b[39m=\u001b[39mepoch,\n\u001b[1;32m   <a href='file:///home/jtabalon/anaconda3/envs/tf_airway/lib/python3.9/site-packages/tensorflow/python/keras/engine/training.py?line=1095'>1096</a>\u001b[0m     step_num\u001b[39m=\u001b[39mstep,\n\u001b[1;32m   <a href='file:///home/jtabalon/anaconda3/envs/tf_airway/lib/python3.9/site-packages/tensorflow/python/keras/engine/training.py?line=1096'>1097</a>\u001b[0m     batch_size\u001b[39m=\u001b[39mbatch_size,\n\u001b[1;32m   <a href='file:///home/jtabalon/anaconda3/envs/tf_airway/lib/python3.9/site-packages/tensorflow/python/keras/engine/training.py?line=1097'>1098</a>\u001b[0m     _r\u001b[39m=\u001b[39m\u001b[39m1\u001b[39m):\n\u001b[1;32m   <a href='file:///home/jtabalon/anaconda3/envs/tf_airway/lib/python3.9/site-packages/tensorflow/python/keras/engine/training.py?line=1098'>1099</a>\u001b[0m   callbacks\u001b[39m.\u001b[39mon_train_batch_begin(step)\n\u001b[0;32m-> <a href='file:///home/jtabalon/anaconda3/envs/tf_airway/lib/python3.9/site-packages/tensorflow/python/keras/engine/training.py?line=1099'>1100</a>\u001b[0m   tmp_logs \u001b[39m=\u001b[39m \u001b[39mself\u001b[39;49m\u001b[39m.\u001b[39;49mtrain_function(iterator)\n\u001b[1;32m   <a href='file:///home/jtabalon/anaconda3/envs/tf_airway/lib/python3.9/site-packages/tensorflow/python/keras/engine/training.py?line=1100'>1101</a>\u001b[0m   \u001b[39mif\u001b[39;00m data_handler\u001b[39m.\u001b[39mshould_sync:\n\u001b[1;32m   <a href='file:///home/jtabalon/anaconda3/envs/tf_airway/lib/python3.9/site-packages/tensorflow/python/keras/engine/training.py?line=1101'>1102</a>\u001b[0m     context\u001b[39m.\u001b[39masync_wait()\n",
      "File \u001b[0;32m~/anaconda3/envs/tf_airway/lib/python3.9/site-packages/tensorflow/python/eager/def_function.py:828\u001b[0m, in \u001b[0;36mFunction.__call__\u001b[0;34m(self, *args, **kwds)\u001b[0m\n\u001b[1;32m    <a href='file:///home/jtabalon/anaconda3/envs/tf_airway/lib/python3.9/site-packages/tensorflow/python/eager/def_function.py?line=825'>826</a>\u001b[0m tracing_count \u001b[39m=\u001b[39m \u001b[39mself\u001b[39m\u001b[39m.\u001b[39mexperimental_get_tracing_count()\n\u001b[1;32m    <a href='file:///home/jtabalon/anaconda3/envs/tf_airway/lib/python3.9/site-packages/tensorflow/python/eager/def_function.py?line=826'>827</a>\u001b[0m \u001b[39mwith\u001b[39;00m trace\u001b[39m.\u001b[39mTrace(\u001b[39mself\u001b[39m\u001b[39m.\u001b[39m_name) \u001b[39mas\u001b[39;00m tm:\n\u001b[0;32m--> <a href='file:///home/jtabalon/anaconda3/envs/tf_airway/lib/python3.9/site-packages/tensorflow/python/eager/def_function.py?line=827'>828</a>\u001b[0m   result \u001b[39m=\u001b[39m \u001b[39mself\u001b[39;49m\u001b[39m.\u001b[39;49m_call(\u001b[39m*\u001b[39;49margs, \u001b[39m*\u001b[39;49m\u001b[39m*\u001b[39;49mkwds)\n\u001b[1;32m    <a href='file:///home/jtabalon/anaconda3/envs/tf_airway/lib/python3.9/site-packages/tensorflow/python/eager/def_function.py?line=828'>829</a>\u001b[0m   compiler \u001b[39m=\u001b[39m \u001b[39m\"\u001b[39m\u001b[39mxla\u001b[39m\u001b[39m\"\u001b[39m \u001b[39mif\u001b[39;00m \u001b[39mself\u001b[39m\u001b[39m.\u001b[39m_experimental_compile \u001b[39melse\u001b[39;00m \u001b[39m\"\u001b[39m\u001b[39mnonXla\u001b[39m\u001b[39m\"\u001b[39m\n\u001b[1;32m    <a href='file:///home/jtabalon/anaconda3/envs/tf_airway/lib/python3.9/site-packages/tensorflow/python/eager/def_function.py?line=829'>830</a>\u001b[0m   new_tracing_count \u001b[39m=\u001b[39m \u001b[39mself\u001b[39m\u001b[39m.\u001b[39mexperimental_get_tracing_count()\n",
      "File \u001b[0;32m~/anaconda3/envs/tf_airway/lib/python3.9/site-packages/tensorflow/python/eager/def_function.py:855\u001b[0m, in \u001b[0;36mFunction._call\u001b[0;34m(self, *args, **kwds)\u001b[0m\n\u001b[1;32m    <a href='file:///home/jtabalon/anaconda3/envs/tf_airway/lib/python3.9/site-packages/tensorflow/python/eager/def_function.py?line=851'>852</a>\u001b[0m   \u001b[39mself\u001b[39m\u001b[39m.\u001b[39m_lock\u001b[39m.\u001b[39mrelease()\n\u001b[1;32m    <a href='file:///home/jtabalon/anaconda3/envs/tf_airway/lib/python3.9/site-packages/tensorflow/python/eager/def_function.py?line=852'>853</a>\u001b[0m   \u001b[39m# In this case we have created variables on the first call, so we run the\u001b[39;00m\n\u001b[1;32m    <a href='file:///home/jtabalon/anaconda3/envs/tf_airway/lib/python3.9/site-packages/tensorflow/python/eager/def_function.py?line=853'>854</a>\u001b[0m   \u001b[39m# defunned version which is guaranteed to never create variables.\u001b[39;00m\n\u001b[0;32m--> <a href='file:///home/jtabalon/anaconda3/envs/tf_airway/lib/python3.9/site-packages/tensorflow/python/eager/def_function.py?line=854'>855</a>\u001b[0m   \u001b[39mreturn\u001b[39;00m \u001b[39mself\u001b[39;49m\u001b[39m.\u001b[39;49m_stateless_fn(\u001b[39m*\u001b[39;49margs, \u001b[39m*\u001b[39;49m\u001b[39m*\u001b[39;49mkwds)  \u001b[39m# pylint: disable=not-callable\u001b[39;00m\n\u001b[1;32m    <a href='file:///home/jtabalon/anaconda3/envs/tf_airway/lib/python3.9/site-packages/tensorflow/python/eager/def_function.py?line=855'>856</a>\u001b[0m \u001b[39melif\u001b[39;00m \u001b[39mself\u001b[39m\u001b[39m.\u001b[39m_stateful_fn \u001b[39mis\u001b[39;00m \u001b[39mnot\u001b[39;00m \u001b[39mNone\u001b[39;00m:\n\u001b[1;32m    <a href='file:///home/jtabalon/anaconda3/envs/tf_airway/lib/python3.9/site-packages/tensorflow/python/eager/def_function.py?line=856'>857</a>\u001b[0m   \u001b[39m# Release the lock early so that multiple threads can perform the call\u001b[39;00m\n\u001b[1;32m    <a href='file:///home/jtabalon/anaconda3/envs/tf_airway/lib/python3.9/site-packages/tensorflow/python/eager/def_function.py?line=857'>858</a>\u001b[0m   \u001b[39m# in parallel.\u001b[39;00m\n\u001b[1;32m    <a href='file:///home/jtabalon/anaconda3/envs/tf_airway/lib/python3.9/site-packages/tensorflow/python/eager/def_function.py?line=858'>859</a>\u001b[0m   \u001b[39mself\u001b[39m\u001b[39m.\u001b[39m_lock\u001b[39m.\u001b[39mrelease()\n",
      "File \u001b[0;32m~/anaconda3/envs/tf_airway/lib/python3.9/site-packages/tensorflow/python/eager/function.py:2942\u001b[0m, in \u001b[0;36mFunction.__call__\u001b[0;34m(self, *args, **kwargs)\u001b[0m\n\u001b[1;32m   <a href='file:///home/jtabalon/anaconda3/envs/tf_airway/lib/python3.9/site-packages/tensorflow/python/eager/function.py?line=2938'>2939</a>\u001b[0m \u001b[39mwith\u001b[39;00m \u001b[39mself\u001b[39m\u001b[39m.\u001b[39m_lock:\n\u001b[1;32m   <a href='file:///home/jtabalon/anaconda3/envs/tf_airway/lib/python3.9/site-packages/tensorflow/python/eager/function.py?line=2939'>2940</a>\u001b[0m   (graph_function,\n\u001b[1;32m   <a href='file:///home/jtabalon/anaconda3/envs/tf_airway/lib/python3.9/site-packages/tensorflow/python/eager/function.py?line=2940'>2941</a>\u001b[0m    filtered_flat_args) \u001b[39m=\u001b[39m \u001b[39mself\u001b[39m\u001b[39m.\u001b[39m_maybe_define_function(args, kwargs)\n\u001b[0;32m-> <a href='file:///home/jtabalon/anaconda3/envs/tf_airway/lib/python3.9/site-packages/tensorflow/python/eager/function.py?line=2941'>2942</a>\u001b[0m \u001b[39mreturn\u001b[39;00m graph_function\u001b[39m.\u001b[39;49m_call_flat(\n\u001b[1;32m   <a href='file:///home/jtabalon/anaconda3/envs/tf_airway/lib/python3.9/site-packages/tensorflow/python/eager/function.py?line=2942'>2943</a>\u001b[0m     filtered_flat_args, captured_inputs\u001b[39m=\u001b[39;49mgraph_function\u001b[39m.\u001b[39;49mcaptured_inputs)\n",
      "File \u001b[0;32m~/anaconda3/envs/tf_airway/lib/python3.9/site-packages/tensorflow/python/eager/function.py:1918\u001b[0m, in \u001b[0;36mConcreteFunction._call_flat\u001b[0;34m(self, args, captured_inputs, cancellation_manager)\u001b[0m\n\u001b[1;32m   <a href='file:///home/jtabalon/anaconda3/envs/tf_airway/lib/python3.9/site-packages/tensorflow/python/eager/function.py?line=1913'>1914</a>\u001b[0m possible_gradient_type \u001b[39m=\u001b[39m gradients_util\u001b[39m.\u001b[39mPossibleTapeGradientTypes(args)\n\u001b[1;32m   <a href='file:///home/jtabalon/anaconda3/envs/tf_airway/lib/python3.9/site-packages/tensorflow/python/eager/function.py?line=1914'>1915</a>\u001b[0m \u001b[39mif\u001b[39;00m (possible_gradient_type \u001b[39m==\u001b[39m gradients_util\u001b[39m.\u001b[39mPOSSIBLE_GRADIENT_TYPES_NONE\n\u001b[1;32m   <a href='file:///home/jtabalon/anaconda3/envs/tf_airway/lib/python3.9/site-packages/tensorflow/python/eager/function.py?line=1915'>1916</a>\u001b[0m     \u001b[39mand\u001b[39;00m executing_eagerly):\n\u001b[1;32m   <a href='file:///home/jtabalon/anaconda3/envs/tf_airway/lib/python3.9/site-packages/tensorflow/python/eager/function.py?line=1916'>1917</a>\u001b[0m   \u001b[39m# No tape is watching; skip to running the function.\u001b[39;00m\n\u001b[0;32m-> <a href='file:///home/jtabalon/anaconda3/envs/tf_airway/lib/python3.9/site-packages/tensorflow/python/eager/function.py?line=1917'>1918</a>\u001b[0m   \u001b[39mreturn\u001b[39;00m \u001b[39mself\u001b[39m\u001b[39m.\u001b[39m_build_call_outputs(\u001b[39mself\u001b[39;49m\u001b[39m.\u001b[39;49m_inference_function\u001b[39m.\u001b[39;49mcall(\n\u001b[1;32m   <a href='file:///home/jtabalon/anaconda3/envs/tf_airway/lib/python3.9/site-packages/tensorflow/python/eager/function.py?line=1918'>1919</a>\u001b[0m       ctx, args, cancellation_manager\u001b[39m=\u001b[39;49mcancellation_manager))\n\u001b[1;32m   <a href='file:///home/jtabalon/anaconda3/envs/tf_airway/lib/python3.9/site-packages/tensorflow/python/eager/function.py?line=1919'>1920</a>\u001b[0m forward_backward \u001b[39m=\u001b[39m \u001b[39mself\u001b[39m\u001b[39m.\u001b[39m_select_forward_and_backward_functions(\n\u001b[1;32m   <a href='file:///home/jtabalon/anaconda3/envs/tf_airway/lib/python3.9/site-packages/tensorflow/python/eager/function.py?line=1920'>1921</a>\u001b[0m     args,\n\u001b[1;32m   <a href='file:///home/jtabalon/anaconda3/envs/tf_airway/lib/python3.9/site-packages/tensorflow/python/eager/function.py?line=1921'>1922</a>\u001b[0m     possible_gradient_type,\n\u001b[1;32m   <a href='file:///home/jtabalon/anaconda3/envs/tf_airway/lib/python3.9/site-packages/tensorflow/python/eager/function.py?line=1922'>1923</a>\u001b[0m     executing_eagerly)\n\u001b[1;32m   <a href='file:///home/jtabalon/anaconda3/envs/tf_airway/lib/python3.9/site-packages/tensorflow/python/eager/function.py?line=1923'>1924</a>\u001b[0m forward_function, args_with_tangents \u001b[39m=\u001b[39m forward_backward\u001b[39m.\u001b[39mforward()\n",
      "File \u001b[0;32m~/anaconda3/envs/tf_airway/lib/python3.9/site-packages/tensorflow/python/eager/function.py:555\u001b[0m, in \u001b[0;36m_EagerDefinedFunction.call\u001b[0;34m(self, ctx, args, cancellation_manager)\u001b[0m\n\u001b[1;32m    <a href='file:///home/jtabalon/anaconda3/envs/tf_airway/lib/python3.9/site-packages/tensorflow/python/eager/function.py?line=552'>553</a>\u001b[0m \u001b[39mwith\u001b[39;00m _InterpolateFunctionError(\u001b[39mself\u001b[39m):\n\u001b[1;32m    <a href='file:///home/jtabalon/anaconda3/envs/tf_airway/lib/python3.9/site-packages/tensorflow/python/eager/function.py?line=553'>554</a>\u001b[0m   \u001b[39mif\u001b[39;00m cancellation_manager \u001b[39mis\u001b[39;00m \u001b[39mNone\u001b[39;00m:\n\u001b[0;32m--> <a href='file:///home/jtabalon/anaconda3/envs/tf_airway/lib/python3.9/site-packages/tensorflow/python/eager/function.py?line=554'>555</a>\u001b[0m     outputs \u001b[39m=\u001b[39m execute\u001b[39m.\u001b[39;49mexecute(\n\u001b[1;32m    <a href='file:///home/jtabalon/anaconda3/envs/tf_airway/lib/python3.9/site-packages/tensorflow/python/eager/function.py?line=555'>556</a>\u001b[0m         \u001b[39mstr\u001b[39;49m(\u001b[39mself\u001b[39;49m\u001b[39m.\u001b[39;49msignature\u001b[39m.\u001b[39;49mname),\n\u001b[1;32m    <a href='file:///home/jtabalon/anaconda3/envs/tf_airway/lib/python3.9/site-packages/tensorflow/python/eager/function.py?line=556'>557</a>\u001b[0m         num_outputs\u001b[39m=\u001b[39;49m\u001b[39mself\u001b[39;49m\u001b[39m.\u001b[39;49m_num_outputs,\n\u001b[1;32m    <a href='file:///home/jtabalon/anaconda3/envs/tf_airway/lib/python3.9/site-packages/tensorflow/python/eager/function.py?line=557'>558</a>\u001b[0m         inputs\u001b[39m=\u001b[39;49margs,\n\u001b[1;32m    <a href='file:///home/jtabalon/anaconda3/envs/tf_airway/lib/python3.9/site-packages/tensorflow/python/eager/function.py?line=558'>559</a>\u001b[0m         attrs\u001b[39m=\u001b[39;49mattrs,\n\u001b[1;32m    <a href='file:///home/jtabalon/anaconda3/envs/tf_airway/lib/python3.9/site-packages/tensorflow/python/eager/function.py?line=559'>560</a>\u001b[0m         ctx\u001b[39m=\u001b[39;49mctx)\n\u001b[1;32m    <a href='file:///home/jtabalon/anaconda3/envs/tf_airway/lib/python3.9/site-packages/tensorflow/python/eager/function.py?line=560'>561</a>\u001b[0m   \u001b[39melse\u001b[39;00m:\n\u001b[1;32m    <a href='file:///home/jtabalon/anaconda3/envs/tf_airway/lib/python3.9/site-packages/tensorflow/python/eager/function.py?line=561'>562</a>\u001b[0m     outputs \u001b[39m=\u001b[39m execute\u001b[39m.\u001b[39mexecute_with_cancellation(\n\u001b[1;32m    <a href='file:///home/jtabalon/anaconda3/envs/tf_airway/lib/python3.9/site-packages/tensorflow/python/eager/function.py?line=562'>563</a>\u001b[0m         \u001b[39mstr\u001b[39m(\u001b[39mself\u001b[39m\u001b[39m.\u001b[39msignature\u001b[39m.\u001b[39mname),\n\u001b[1;32m    <a href='file:///home/jtabalon/anaconda3/envs/tf_airway/lib/python3.9/site-packages/tensorflow/python/eager/function.py?line=563'>564</a>\u001b[0m         num_outputs\u001b[39m=\u001b[39m\u001b[39mself\u001b[39m\u001b[39m.\u001b[39m_num_outputs,\n\u001b[0;32m   (...)\u001b[0m\n\u001b[1;32m    <a href='file:///home/jtabalon/anaconda3/envs/tf_airway/lib/python3.9/site-packages/tensorflow/python/eager/function.py?line=566'>567</a>\u001b[0m         ctx\u001b[39m=\u001b[39mctx,\n\u001b[1;32m    <a href='file:///home/jtabalon/anaconda3/envs/tf_airway/lib/python3.9/site-packages/tensorflow/python/eager/function.py?line=567'>568</a>\u001b[0m         cancellation_manager\u001b[39m=\u001b[39mcancellation_manager)\n",
      "File \u001b[0;32m~/anaconda3/envs/tf_airway/lib/python3.9/site-packages/tensorflow/python/eager/execute.py:59\u001b[0m, in \u001b[0;36mquick_execute\u001b[0;34m(op_name, num_outputs, inputs, attrs, ctx, name)\u001b[0m\n\u001b[1;32m     <a href='file:///home/jtabalon/anaconda3/envs/tf_airway/lib/python3.9/site-packages/tensorflow/python/eager/execute.py?line=56'>57</a>\u001b[0m \u001b[39mtry\u001b[39;00m:\n\u001b[1;32m     <a href='file:///home/jtabalon/anaconda3/envs/tf_airway/lib/python3.9/site-packages/tensorflow/python/eager/execute.py?line=57'>58</a>\u001b[0m   ctx\u001b[39m.\u001b[39mensure_initialized()\n\u001b[0;32m---> <a href='file:///home/jtabalon/anaconda3/envs/tf_airway/lib/python3.9/site-packages/tensorflow/python/eager/execute.py?line=58'>59</a>\u001b[0m   tensors \u001b[39m=\u001b[39m pywrap_tfe\u001b[39m.\u001b[39;49mTFE_Py_Execute(ctx\u001b[39m.\u001b[39;49m_handle, device_name, op_name,\n\u001b[1;32m     <a href='file:///home/jtabalon/anaconda3/envs/tf_airway/lib/python3.9/site-packages/tensorflow/python/eager/execute.py?line=59'>60</a>\u001b[0m                                       inputs, attrs, num_outputs)\n\u001b[1;32m     <a href='file:///home/jtabalon/anaconda3/envs/tf_airway/lib/python3.9/site-packages/tensorflow/python/eager/execute.py?line=60'>61</a>\u001b[0m \u001b[39mexcept\u001b[39;00m core\u001b[39m.\u001b[39m_NotOkStatusException \u001b[39mas\u001b[39;00m e:\n\u001b[1;32m     <a href='file:///home/jtabalon/anaconda3/envs/tf_airway/lib/python3.9/site-packages/tensorflow/python/eager/execute.py?line=61'>62</a>\u001b[0m   \u001b[39mif\u001b[39;00m name \u001b[39mis\u001b[39;00m \u001b[39mnot\u001b[39;00m \u001b[39mNone\u001b[39;00m:\n",
      "\u001b[0;31mKeyboardInterrupt\u001b[0m: "
     ]
    }
   ],
   "source": [
    "# TODO: fix validation loop.\n",
    "\n",
    "model.fit(x=training_generator, \\\n",
    "#      validation_data=valid_generator, \\\n",
    "#      validation_batch_size=2, \\\n",
    "#      validation_freq=5, \\\n",
    "      steps_per_epoch = len(train_ids) // batch_size, \\\n",
    "      epochs=1000, \\\n",
    "      callbacks=[model_checkpoint_callback])"
   ]
  },
  {
   "cell_type": "code",
   "execution_count": null,
   "metadata": {},
   "outputs": [],
   "source": [
    "ct_path = \"/home/jtabalon/airway_seg/test_data/ct_patients10004O.nii\"\n",
    "aw_path = \"/home/jtabalon/airway_seg/test_data/aw_10004O.nii\"\n",
    "\n",
    "img = nib.load(ct_path).get_fdata() / 2000.\n",
    "mask = nib.load(aw_path).get_fdata()\n",
    "\n",
    "test_img = np.expand_dims(np.expand_dims(img, -1), 0)\n",
    "test_mask = np.expand_dims(np.expand_dims(mask, -1), 0)"
   ]
  },
  {
   "cell_type": "code",
   "execution_count": null,
   "metadata": {},
   "outputs": [],
   "source": [
    "# TODO configure prediction section\n",
    "#prediction = model.predict(test_img)"
   ]
  },
  {
   "cell_type": "code",
   "execution_count": null,
   "metadata": {},
   "outputs": [
    {
     "data": {
      "text/plain": [
       "0"
      ]
     },
     "execution_count": 174,
     "metadata": {},
     "output_type": "execute_result"
    }
   ],
   "source": [
    "# np.argmax(np.sum(prediction[0,:,:,:,0]))"
   ]
  },
  {
   "cell_type": "code",
   "execution_count": null,
   "metadata": {},
   "outputs": [],
   "source": [
    "# For visualizing distribution of mask\n",
    "# plt.hist(img_change.flatten())\n",
    "# plt.hist(label_change.flatten())"
   ]
  },
  {
   "cell_type": "code",
   "execution_count": null,
   "metadata": {},
   "outputs": [
    {
     "data": {
      "text/plain": [
       "<matplotlib.image.AxesImage at 0x7f1da86142e0>"
      ]
     },
     "execution_count": 175,
     "metadata": {},
     "output_type": "execute_result"
    },
    {
     "data": {
      "image/png": "[encoded data removed]",
      "text/plain": [
       "<Figure size 432x288 with 1 Axes>"
      ]
     },
     "metadata": {
      "needs_background": "light"
     },
     "output_type": "display_data"
    }
   ],
   "source": [
    "# plt.imshow(prediction[0,:,:,0,0])"
   ]
  },
  {
   "cell_type": "code",
   "execution_count": null,
   "metadata": {},
   "outputs": [
    {
     "data": {
      "text/plain": [
       "<matplotlib.image.AxesImage at 0x7f1da85f6400>"
      ]
     },
     "execution_count": 176,
     "metadata": {},
     "output_type": "execute_result"
    },
    {
     "data": {
      "image/png": "[encoded data removed]",
      "text/plain": [
       "<Figure size 432x288 with 1 Axes>"
      ]
     },
     "metadata": {
      "needs_background": "light"
     },
     "output_type": "display_data"
    }
   ],
   "source": [
    "# plt.imshow(test_mask[0,:,:,32,0])"
   ]
  }
 ],
 "metadata": {
  "interpreter": {
   "hash": "9059a93f5d5beb21997891154bf5fa1a9f65ccdfc10ceb74be4f34e345aa7518"
  },
  "kernelspec": {
   "display_name": "Python 3",
   "language": "python",
   "name": "python3"
  },
  "language_info": {
   "codemirror_mode": {
    "name": "ipython",
    "version": 3
   },
   "file_extension": ".py",
   "mimetype": "text/x-python",
   "name": "python",
   "nbconvert_exporter": "python",
   "pygments_lexer": "ipython3",
   "version": "3.9.7"
  }
 },
 "nbformat": 4,
 "nbformat_minor": 2
}
