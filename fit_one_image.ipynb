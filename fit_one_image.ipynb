{
 "cells": [
  {
   "cell_type": "code",
   "execution_count": 63,
   "metadata": {},
   "outputs": [],
   "source": [
    "import os\n",
    "import numpy as np\n",
    "import matplotlib.pyplot as plt\n",
    "import nibabel as nib\n",
    "\n",
    "\"\"\" DL imports \"\"\"\n",
    "\n",
    "import tensorflow as tf\n",
    "from tensorflow.keras import layers\n",
    "from tensorflow.keras.models import Model"
   ]
  },
  {
   "cell_type": "code",
   "execution_count": 64,
   "metadata": {},
   "outputs": [
    {
     "name": "stdout",
     "output_type": "stream",
     "text": [
      "(512, 512, 662) (512, 512, 662) <class 'numpy.memmap'> <class 'numpy.memmap'>\n"
     ]
    }
   ],
   "source": [
    "ct_path = \"/home/jtabalon/airway_seg/test_data/ct_patients10004O.nii\"\n",
    "aw_path = \"/home/jtabalon/airway_seg/test_data/aw_10004O.nii\"\n",
    "\n",
    "img = nib.load(ct_path).get_fdata()\n",
    "mask = nib.load(aw_path).get_fdata()\n",
    "\n",
    "test_img = np.expand_dims(np.expand_dims(img, -1), 0)\n",
    "test_mask = np.expand_dims(np.expand_dims(mask, -1), 0)\n",
    "\n",
    "print(img.shape, mask.shape, type(img), type(mask))"
   ]
  },
  {
   "cell_type": "code",
   "execution_count": 65,
   "metadata": {},
   "outputs": [
    {
     "name": "stdout",
     "output_type": "stream",
     "text": [
      "(1, 512, 512, 662, 1) (1, 512, 512, 662, 1)\n"
     ]
    }
   ],
   "source": [
    "print(test_img.shape, test_mask.shape)"
   ]
  },
  {
   "cell_type": "code",
   "execution_count": 66,
   "metadata": {},
   "outputs": [
    {
     "data": {
      "text/plain": [
       "411"
      ]
     },
     "execution_count": 66,
     "metadata": {},
     "output_type": "execute_result"
    }
   ],
   "source": [
    "# 0 -> patient\n",
    "# 1 -> row\n",
    "# 2 -> column\n",
    "# 3 -> slice\n",
    "# 4 -> channel\n",
    "\n",
    "np.argmax(np.sum(test_mask, axis = (0,1,2,4)))"
   ]
  },
  {
   "cell_type": "code",
   "execution_count": 67,
   "metadata": {},
   "outputs": [
    {
     "data": {
      "text/plain": [
       "(array([291, 291, 291, 292, 292, 292, 292, 292, 293, 293, 293, 294, 294,\n",
       "        294, 294, 294, 294, 294, 294, 295, 295, 295, 295, 295, 295, 295,\n",
       "        296, 296, 296, 296, 296, 296, 297, 297, 297, 297, 297, 297, 298,\n",
       "        298, 298, 298, 299, 299, 299, 299, 300, 300, 301, 301, 301, 302,\n",
       "        302, 302, 303, 303, 303, 303, 303, 303, 303, 303, 303, 304, 304,\n",
       "        304, 304, 304, 304, 304, 304, 304, 304, 304, 304, 304, 304, 304,\n",
       "        304, 304, 304, 305, 305, 305, 305, 305, 305, 305, 305, 305, 305,\n",
       "        305, 305, 305, 305, 305, 305, 305, 305, 305, 305, 305, 305, 305,\n",
       "        305, 305, 305, 306, 306, 306, 306, 306, 306, 306, 306, 306, 306,\n",
       "        306, 306, 306, 306, 306, 306, 306, 306, 306, 306, 306, 306, 306,\n",
       "        306, 306, 306, 306, 306, 306, 306, 306, 306, 306, 306, 306, 306,\n",
       "        306, 306, 306, 306, 306, 307, 307, 307, 307, 307, 307, 307, 307,\n",
       "        307, 307, 307, 307, 307, 307, 307, 307, 307, 307, 307, 307, 307,\n",
       "        307, 307, 307, 307, 307, 307, 307, 307, 307, 307, 307, 307, 307,\n",
       "        307, 307, 307, 307, 307, 307, 307, 307, 307, 308, 308, 308, 308,\n",
       "        308, 308, 308, 308, 308, 308, 308, 308, 308, 308, 308, 308, 308,\n",
       "        308, 308, 308, 308, 308, 308, 308, 308, 308, 308, 308, 308, 308,\n",
       "        308, 308, 308, 308, 308, 308, 308, 308, 308, 308, 308, 309, 309,\n",
       "        309, 309, 309, 309, 309, 309, 309, 309, 309, 309, 309, 309, 309,\n",
       "        309, 309, 309, 309, 309, 309, 309, 309, 309, 309, 309, 309, 309,\n",
       "        309, 309, 309, 309, 309, 309, 309, 309, 309, 309, 309, 309, 310,\n",
       "        310, 310, 310, 310, 310, 310, 310, 310, 310, 310, 310, 310, 310,\n",
       "        310, 310, 310, 310, 310, 310, 310, 310, 310, 310, 310, 310, 310,\n",
       "        310, 310, 310, 310, 310, 310, 310, 310, 310, 310, 311, 311, 311,\n",
       "        311, 311, 311, 311, 311, 311, 311, 311, 311, 311, 311, 311, 311,\n",
       "        311, 311, 311, 311, 311, 311, 311, 311, 311, 311, 311, 311, 311,\n",
       "        311, 311, 311, 311, 311, 311, 311, 311, 311, 312, 312, 312, 312,\n",
       "        312, 312, 312, 312, 312, 312, 312, 312, 312, 312, 312, 312, 312,\n",
       "        312, 312, 312, 312, 312, 312, 312, 312, 312, 312, 312, 312, 312,\n",
       "        312, 312, 312, 312, 312, 312, 312, 312, 312, 312, 312, 312, 312,\n",
       "        312, 312, 312, 312, 312, 312, 312, 312, 313, 313, 313, 313, 313,\n",
       "        313, 313, 313, 313, 313, 313, 313, 313, 313, 313, 313, 313, 313,\n",
       "        313, 313, 313, 313, 313, 313, 313, 313, 313, 313, 313, 313, 313,\n",
       "        313, 313, 313, 313, 313, 313, 313, 313, 313, 313, 313, 313, 313,\n",
       "        313, 313, 313, 313, 313, 313, 313, 313, 313, 313, 313, 313, 314,\n",
       "        314, 314, 314, 314, 314, 314, 314, 314, 314, 314, 314, 314, 314,\n",
       "        314, 314, 314, 314, 314, 314, 314, 314, 314, 314, 314, 314, 314,\n",
       "        314, 314, 314, 314, 314, 314, 314, 314, 314, 314, 314, 314, 314,\n",
       "        314, 314, 314, 314, 314, 314, 314, 314, 314, 314, 314, 314, 314,\n",
       "        314, 314, 314, 314, 314, 315, 315, 315, 315, 315, 315, 315, 315,\n",
       "        315, 315, 315, 315, 315, 315, 315, 315, 315, 315, 315, 315, 315,\n",
       "        315, 315, 315, 315, 315, 315, 315, 315, 315, 315, 315, 315, 315,\n",
       "        315, 315, 315, 315, 315, 315, 315, 315, 315, 315, 315, 315, 315,\n",
       "        315, 315, 315, 315, 315, 315, 315, 315, 315, 315, 315, 315, 315,\n",
       "        315, 316, 316, 316, 316, 316, 316, 316, 316, 316, 316, 316, 316,\n",
       "        316, 316, 316, 316, 316, 316, 316, 316, 316, 316, 316, 316, 316,\n",
       "        316, 316, 316, 316, 316, 316, 316, 316, 316, 316, 316, 316, 316,\n",
       "        316, 316, 316, 316, 316, 317, 317, 317, 317, 317, 317, 317, 317,\n",
       "        317, 317, 317, 317, 317, 317, 317, 317, 317, 317, 317, 317, 317,\n",
       "        317, 317, 317, 317, 317, 317, 317, 317, 317, 317, 317, 317, 317,\n",
       "        317, 317, 317, 317, 317, 317, 317, 317, 318, 318, 318, 318, 318,\n",
       "        318, 318, 318, 318, 318, 318, 318, 318, 318, 318, 318, 318, 318,\n",
       "        318, 318, 318, 318, 318, 318, 318, 318, 318, 318, 318, 318, 318,\n",
       "        318, 318, 318, 318, 318, 318, 318, 318, 319, 319, 319, 319, 319,\n",
       "        319, 319, 319, 319, 319, 319, 319, 319, 319, 319, 319, 319, 319,\n",
       "        319, 319, 319, 319, 319, 319, 319, 319, 319, 319, 319, 319, 319,\n",
       "        319, 319, 319, 319, 319, 319, 320, 320, 320, 320, 320, 320, 320,\n",
       "        320, 320, 320, 320, 320, 320, 320, 320, 320, 320, 320, 320, 320,\n",
       "        320, 320, 320, 320, 320, 320, 320, 320, 320, 320, 320, 320, 320,\n",
       "        321, 321, 321, 321, 321, 321, 321, 321, 321, 321, 321, 321, 321,\n",
       "        321, 321, 321, 321, 321, 321, 321, 321, 321, 321, 321, 321, 321,\n",
       "        321, 321, 321, 322, 322, 322, 322, 322, 322, 322, 322, 322, 322,\n",
       "        322, 322, 322, 322, 322, 322, 322, 322, 322, 322, 322, 322, 322,\n",
       "        323, 323, 323, 323, 323, 323, 323, 323, 323, 323, 323, 323, 323,\n",
       "        323, 323, 323, 323, 324, 324, 324, 324, 324, 324, 324, 324, 324]),\n",
       " array([170, 171, 172, 170, 171, 172, 173, 174, 173, 174, 175, 173, 174,\n",
       "        175, 176, 177, 178, 179, 180, 175, 176, 177, 178, 179, 180, 181,\n",
       "        176, 177, 178, 179, 180, 181, 177, 178, 179, 180, 181, 182, 179,\n",
       "        180, 181, 182, 180, 181, 182, 183, 182, 183, 183, 184, 185, 184,\n",
       "        185, 186, 184, 185, 186, 187, 188, 212, 213, 308, 309, 185, 186,\n",
       "        187, 188, 189, 190, 210, 211, 212, 213, 214, 215, 216, 306, 307,\n",
       "        308, 309, 310, 188, 189, 190, 191, 192, 193, 194, 207, 208, 209,\n",
       "        210, 211, 212, 213, 214, 215, 216, 217, 218, 219, 305, 306, 307,\n",
       "        308, 309, 310, 189, 190, 191, 192, 193, 194, 195, 196, 197, 198,\n",
       "        199, 200, 201, 202, 203, 204, 205, 206, 207, 208, 209, 210, 211,\n",
       "        212, 213, 214, 215, 216, 217, 218, 219, 220, 221, 304, 305, 306,\n",
       "        307, 308, 309, 310, 311, 191, 192, 193, 194, 195, 196, 197, 198,\n",
       "        199, 200, 201, 202, 203, 204, 205, 206, 207, 208, 209, 210, 211,\n",
       "        212, 213, 214, 215, 216, 217, 218, 219, 220, 221, 222, 223, 302,\n",
       "        303, 304, 305, 306, 307, 308, 309, 310, 311, 195, 196, 197, 198,\n",
       "        199, 200, 201, 202, 203, 204, 205, 206, 207, 208, 209, 210, 211,\n",
       "        212, 213, 214, 215, 216, 217, 218, 219, 220, 221, 222, 223, 224,\n",
       "        301, 302, 303, 304, 305, 306, 307, 308, 309, 310, 311, 199, 200,\n",
       "        201, 202, 203, 204, 205, 206, 207, 208, 209, 210, 211, 212, 213,\n",
       "        214, 215, 216, 217, 218, 219, 220, 221, 222, 223, 224, 225, 226,\n",
       "        299, 300, 301, 302, 303, 304, 305, 306, 307, 308, 309, 310, 203,\n",
       "        204, 205, 206, 207, 208, 209, 210, 211, 212, 213, 214, 215, 216,\n",
       "        217, 218, 219, 220, 221, 222, 223, 224, 225, 226, 298, 299, 300,\n",
       "        301, 302, 303, 304, 305, 306, 307, 308, 309, 310, 206, 207, 208,\n",
       "        209, 210, 211, 212, 213, 214, 215, 216, 217, 218, 219, 220, 221,\n",
       "        222, 223, 224, 225, 226, 227, 286, 287, 296, 297, 298, 299, 300,\n",
       "        301, 302, 303, 304, 305, 306, 307, 308, 309, 207, 208, 209, 210,\n",
       "        211, 212, 213, 214, 215, 216, 217, 218, 219, 220, 221, 222, 223,\n",
       "        224, 225, 226, 227, 228, 279, 280, 281, 282, 283, 284, 285, 286,\n",
       "        287, 288, 289, 290, 291, 292, 293, 294, 295, 296, 297, 298, 299,\n",
       "        300, 301, 302, 303, 304, 305, 306, 307, 207, 208, 209, 210, 211,\n",
       "        212, 213, 214, 215, 216, 217, 218, 219, 220, 221, 222, 223, 224,\n",
       "        225, 226, 227, 228, 272, 273, 274, 275, 276, 277, 278, 279, 280,\n",
       "        281, 282, 283, 284, 285, 286, 287, 288, 289, 290, 291, 292, 293,\n",
       "        294, 295, 296, 297, 298, 299, 300, 301, 302, 303, 304, 305, 207,\n",
       "        208, 209, 210, 211, 212, 213, 214, 215, 216, 217, 218, 219, 220,\n",
       "        221, 222, 223, 224, 225, 226, 227, 228, 267, 268, 269, 270, 271,\n",
       "        272, 273, 274, 275, 276, 277, 278, 279, 280, 281, 282, 283, 284,\n",
       "        285, 286, 287, 288, 289, 290, 291, 292, 293, 294, 295, 296, 297,\n",
       "        298, 299, 300, 301, 302, 209, 210, 211, 212, 213, 214, 215, 216,\n",
       "        217, 218, 219, 220, 221, 222, 223, 224, 225, 226, 227, 260, 261,\n",
       "        262, 263, 264, 265, 266, 267, 268, 269, 270, 271, 272, 273, 274,\n",
       "        275, 276, 277, 278, 279, 280, 281, 282, 283, 284, 285, 286, 287,\n",
       "        288, 289, 290, 291, 292, 293, 294, 295, 296, 297, 298, 299, 300,\n",
       "        301, 258, 259, 260, 261, 262, 263, 264, 265, 266, 267, 268, 269,\n",
       "        270, 271, 272, 273, 274, 275, 276, 277, 278, 279, 280, 281, 282,\n",
       "        283, 284, 285, 286, 287, 288, 289, 290, 291, 292, 293, 294, 295,\n",
       "        296, 297, 298, 299, 300, 258, 259, 260, 261, 262, 263, 264, 265,\n",
       "        266, 267, 268, 269, 270, 271, 272, 273, 274, 275, 276, 277, 278,\n",
       "        279, 280, 281, 282, 283, 284, 285, 286, 287, 288, 289, 290, 291,\n",
       "        292, 293, 294, 295, 296, 297, 298, 299, 259, 260, 261, 262, 263,\n",
       "        264, 265, 266, 267, 268, 269, 270, 271, 272, 273, 274, 275, 276,\n",
       "        277, 278, 279, 280, 281, 282, 283, 284, 285, 286, 287, 288, 289,\n",
       "        290, 291, 292, 293, 294, 295, 296, 297, 260, 261, 262, 263, 264,\n",
       "        265, 266, 267, 268, 269, 270, 271, 272, 273, 274, 275, 276, 277,\n",
       "        278, 279, 280, 281, 282, 283, 284, 285, 286, 287, 288, 289, 290,\n",
       "        291, 292, 293, 294, 295, 296, 262, 263, 264, 265, 266, 267, 268,\n",
       "        269, 270, 271, 272, 273, 274, 275, 276, 277, 278, 279, 280, 281,\n",
       "        282, 283, 284, 285, 286, 287, 288, 289, 290, 291, 292, 293, 294,\n",
       "        264, 265, 266, 267, 268, 269, 270, 271, 272, 273, 274, 275, 276,\n",
       "        277, 278, 279, 280, 281, 282, 283, 284, 285, 286, 287, 288, 289,\n",
       "        290, 291, 292, 267, 268, 269, 270, 271, 272, 273, 274, 275, 276,\n",
       "        277, 278, 279, 280, 281, 282, 283, 284, 285, 286, 287, 288, 289,\n",
       "        270, 271, 272, 273, 274, 275, 276, 277, 278, 279, 280, 281, 282,\n",
       "        283, 284, 285, 286, 274, 275, 276, 277, 278, 279, 280, 281, 282]))"
      ]
     },
     "execution_count": 67,
     "metadata": {},
     "output_type": "execute_result"
    }
   ],
   "source": [
    "np.where(test_mask[0,:,:,411,0] > 0)\n",
    "\n",
    "# in the 411th slice, these are all voxels which have a label of airway\n",
    "# one to one correspondence of which voxels have airway"
   ]
  },
  {
   "cell_type": "code",
   "execution_count": 68,
   "metadata": {},
   "outputs": [
    {
     "data": {
      "text/plain": [
       "(1, 64, 64, 64, 1)"
      ]
     },
     "execution_count": 68,
     "metadata": {},
     "output_type": "execute_result"
    }
   ],
   "source": [
    "# test_img[:,(107-32):(107+32),(305-32):(305+32),(411-32):(411+32),:].shape \n",
    "# edit: wrong indexes bc of img\n",
    "\n",
    "test_img[:,(291-32):(291+32),(170-32):(170+32),(411-32):(411+32),:].shape \n",
    "test_mask[:,(291-32):(291+32),(170-32):(170+32),(411-32):(411+32),:].shape \n"
   ]
  },
  {
   "cell_type": "markdown",
   "metadata": {},
   "source": [
    "# Data Generator"
   ]
  },
  {
   "cell_type": "code",
   "execution_count": 69,
   "metadata": {},
   "outputs": [],
   "source": [
    "# TODO: Create Data Generator"
   ]
  },
  {
   "cell_type": "markdown",
   "metadata": {},
   "source": [
    "# Model Creation"
   ]
  },
  {
   "cell_type": "code",
   "execution_count": 70,
   "metadata": {},
   "outputs": [],
   "source": [
    "nb_enc_features = [32, 64, 64, 64]\n",
    "nb_dec_features = [64, 64, 64, 64, 64, 32, 32]"
   ]
  },
  {
   "cell_type": "code",
   "execution_count": 71,
   "metadata": {},
   "outputs": [],
   "source": [
    "# Hyperparameters\n",
    "\n",
    "batch_size = 1  # from torch notebook\n",
    "# learning_rate = 1e-2 # TODO change learning rate\n",
    "learning_rate = 1e-5 # TODO change learning rate"
   ]
  },
  {
   "cell_type": "code",
   "execution_count": 72,
   "metadata": {},
   "outputs": [],
   "source": [
    "os.environ[\"CUDA_DEVICE_ORDER\"] = \"PCI_BUS_ID\"   # see issue #152\n",
    "os.environ[\"CUDA_VISIBLE_DEVICES\"] = \"0\""
   ]
  },
  {
   "cell_type": "code",
   "execution_count": 73,
   "metadata": {},
   "outputs": [],
   "source": [
    "\n",
    "import numpy as np \n",
    "import os\n",
    "import skimage.io as io\n",
    "import skimage.transform as trans\n",
    "import numpy as np\n",
    "from tensorflow.keras.models import *\n",
    "from tensorflow.keras.layers import *\n",
    "from tensorflow.keras.optimizers import *\n",
    "from tensorflow.keras.callbacks import ModelCheckpoint, LearningRateScheduler\n",
    "from tensorflow.keras import backend as keras\n",
    "from tensorflow.keras import Input\n",
    "\n",
    "\n",
    "def unet(pretrained_weights = None,input_size = (256,256,1)):\n",
    "    inputs = Input(input_size)\n",
    "    conv1 = Conv3D(64, 3, activation = 'relu', padding = 'same', kernel_initializer = 'he_normal')(inputs)\n",
    "    conv1 = Conv3D(64, 3, activation = 'relu', padding = 'same', kernel_initializer = 'he_normal')(conv1)\n",
    "    pool1 = MaxPooling3D(pool_size=(2, 2, 2))(conv1)\n",
    "    print(pool1)\n",
    "    conv2 = Conv3D(128, 3, activation = 'relu', padding = 'same', kernel_initializer = 'he_normal')(pool1)\n",
    "    conv2 = Conv3D(128, 3, activation = 'relu', padding = 'same', kernel_initializer = 'he_normal')(conv2)\n",
    "    pool2 = MaxPooling3D(pool_size=(2, 2, 2))(conv2)\n",
    "    print(pool2)\n",
    "    conv3 = Conv3D(256, 3, activation = 'relu', padding = 'same', kernel_initializer = 'he_normal')(pool2)\n",
    "    conv3 = Conv3D(256, 3, activation = 'relu', padding = 'same', kernel_initializer = 'he_normal')(conv3)\n",
    "    pool3 = MaxPooling3D(pool_size=(2, 2, 2))(conv3)\n",
    "    print(pool3)\n",
    "    conv4 = Conv3D(512, 3, activation = 'relu', padding = 'same', kernel_initializer = 'he_normal')(pool3)\n",
    "    conv4 = Conv3D(512, 3, activation = 'relu', padding = 'same', kernel_initializer = 'he_normal')(conv4)\n",
    "    drop4 = Dropout(0.5)(conv4)\n",
    "    pool4 = MaxPooling3D(pool_size=(2, 2, 2))(drop4)\n",
    "    print(pool4)\n",
    "\n",
    "    conv5 = Conv3D(1024, 3, activation = 'relu', padding = 'same', kernel_initializer = 'he_normal')(pool4)\n",
    "    conv5 = Conv3D(1024, 3, activation = 'relu', padding = 'same', kernel_initializer = 'he_normal')(conv5)\n",
    "    drop5 = Dropout(0.5)(conv5)\n",
    "\n",
    "    up6 = Conv3D(512, 2, activation = 'relu', padding = 'same', kernel_initializer = 'he_normal')(UpSampling3D(size = (2,2,2))(drop5))\n",
    "    merge6 = concatenate([drop4,up6], axis = -1)\n",
    "    conv6 = Conv3D(512, 3, activation = 'relu', padding = 'same', kernel_initializer = 'he_normal')(merge6)\n",
    "    conv6 = Conv3D(512, 3, activation = 'relu', padding = 'same', kernel_initializer = 'he_normal')(conv6)\n",
    "\n",
    "    up7 = Conv3D(256, 2, activation = 'relu', padding = 'same', kernel_initializer = 'he_normal')(UpSampling3D(size = (2,2,2))(conv6))\n",
    "    merge7 = concatenate([conv3,up7], axis = -1)\n",
    "    conv7 = Conv3D(256, 3, activation = 'relu', padding = 'same', kernel_initializer = 'he_normal')(merge7)\n",
    "    conv7 = Conv3D(256, 3, activation = 'relu', padding = 'same', kernel_initializer = 'he_normal')(conv7)\n",
    "\n",
    "    up8 = Conv3D(128, 2, activation = 'relu', padding = 'same', kernel_initializer = 'he_normal')(UpSampling3D(size = (2,2,2))(conv7))\n",
    "    merge8 = concatenate([conv2,up8], axis = -1)\n",
    "    conv8 = Conv3D(128, 3, activation = 'relu', padding = 'same', kernel_initializer = 'he_normal')(merge8)\n",
    "    conv8 = Conv3D(128, 3, activation = 'relu', padding = 'same', kernel_initializer = 'he_normal')(conv8)\n",
    "\n",
    "    up9 = Conv3D(64, 2, activation = 'relu', padding = 'same', kernel_initializer = 'he_normal')(UpSampling3D(size = (2,2,2))(conv8))\n",
    "    merge9 = concatenate([conv1,up9], axis = -1)\n",
    "    conv9 = Conv3D(64, 3, activation = 'relu', padding = 'same', kernel_initializer = 'he_normal')(merge9)\n",
    "    conv9 = Conv3D(64, 3, activation = 'relu', padding = 'same', kernel_initializer = 'he_normal')(conv9)\n",
    "    conv9 = Conv3D(2, 3, activation = 'relu', padding = 'same', kernel_initializer = 'he_normal')(conv9)\n",
    "    conv10 = Conv3D(1, 1, activation = 'sigmoid')(conv9)\n",
    "\n",
    "    #model = Model(input = inputs, output = conv10)\n",
    "    model = Model(inputs, conv10)\n",
    "    \n",
    "    # if(pretrained_weights):\n",
    "    \t# model.load_weights(pretrained_weights)\n",
    "\n",
    "    return model"
   ]
  },
  {
   "cell_type": "code",
   "execution_count": 74,
   "metadata": {},
   "outputs": [],
   "source": [
    "# We'll leave the default branch of the git repo as a dice_loss for now until we get actually training.\n",
    "def dice_loss(y_true, y_pred):\n",
    "    # y_true = tf.cast(y_true, tf.float32) note: can delete\n",
    "    # y_pred = tf.math.sigmoid(y_pred) #is this necessary? note: can delete\n",
    "    numerator = 2 * tf.reduce_sum(y_true * y_pred)\n",
    "    denominator = tf.reduce_sum(y_true + y_pred)\n",
    "    return 1 - numerator / denominator"
   ]
  },
  {
   "cell_type": "code",
   "execution_count": 75,
   "metadata": {},
   "outputs": [],
   "source": [
    "def compile_model(learning_rate):\n",
    "    model.compile(optimizer = Adam(lr=learning_rate), loss = dice_loss)"
   ]
  },
  {
   "cell_type": "markdown",
   "metadata": {},
   "source": [
    "Next steps: \n",
    "- create data generator"
   ]
  },
  {
   "cell_type": "code",
   "execution_count": 76,
   "metadata": {},
   "outputs": [
    {
     "name": "stdout",
     "output_type": "stream",
     "text": [
      "KerasTensor(type_spec=TensorSpec(shape=(None, 32, 32, 32, 64), dtype=tf.float32, name=None), name='max_pooling3d_12/MaxPool3D:0', description=\"created by layer 'max_pooling3d_12'\")\n",
      "KerasTensor(type_spec=TensorSpec(shape=(None, 16, 16, 16, 128), dtype=tf.float32, name=None), name='max_pooling3d_13/MaxPool3D:0', description=\"created by layer 'max_pooling3d_13'\")\n",
      "KerasTensor(type_spec=TensorSpec(shape=(None, 8, 8, 8, 256), dtype=tf.float32, name=None), name='max_pooling3d_14/MaxPool3D:0', description=\"created by layer 'max_pooling3d_14'\")\n",
      "KerasTensor(type_spec=TensorSpec(shape=(None, 4, 4, 4, 512), dtype=tf.float32, name=None), name='max_pooling3d_15/MaxPool3D:0', description=\"created by layer 'max_pooling3d_15'\")\n"
     ]
    }
   ],
   "source": [
    "model = unet(input_size=(64,64,64, 1))\n",
    "compile_model(learning_rate)"
   ]
  },
  {
   "cell_type": "code",
   "execution_count": 77,
   "metadata": {},
   "outputs": [
    {
     "name": "stdout",
     "output_type": "stream",
     "text": [
      "[(None, 64, 64, 64, 1)]\n",
      "(None, 64, 64, 64, 64)\n",
      "(None, 64, 64, 64, 64)\n",
      "(None, 32, 32, 32, 64)\n",
      "(None, 32, 32, 32, 128)\n",
      "(None, 32, 32, 32, 128)\n",
      "(None, 16, 16, 16, 128)\n",
      "(None, 16, 16, 16, 256)\n",
      "(None, 16, 16, 16, 256)\n",
      "(None, 8, 8, 8, 256)\n",
      "(None, 8, 8, 8, 512)\n",
      "(None, 8, 8, 8, 512)\n",
      "(None, 8, 8, 8, 512)\n",
      "(None, 4, 4, 4, 512)\n",
      "(None, 4, 4, 4, 1024)\n",
      "(None, 4, 4, 4, 1024)\n",
      "(None, 4, 4, 4, 1024)\n",
      "(None, 8, 8, 8, 1024)\n",
      "(None, 8, 8, 8, 512)\n",
      "(None, 8, 8, 8, 1024)\n",
      "(None, 8, 8, 8, 512)\n",
      "(None, 8, 8, 8, 512)\n",
      "(None, 16, 16, 16, 512)\n",
      "(None, 16, 16, 16, 256)\n",
      "(None, 16, 16, 16, 512)\n",
      "(None, 16, 16, 16, 256)\n",
      "(None, 16, 16, 16, 256)\n",
      "(None, 32, 32, 32, 256)\n",
      "(None, 32, 32, 32, 128)\n",
      "(None, 32, 32, 32, 256)\n",
      "(None, 32, 32, 32, 128)\n",
      "(None, 32, 32, 32, 128)\n",
      "(None, 64, 64, 64, 128)\n",
      "(None, 64, 64, 64, 64)\n",
      "(None, 64, 64, 64, 128)\n",
      "(None, 64, 64, 64, 64)\n",
      "(None, 64, 64, 64, 64)\n",
      "(None, 64, 64, 64, 2)\n",
      "(None, 64, 64, 64, 1)\n"
     ]
    }
   ],
   "source": [
    "for layer in model.layers:\n",
    "    print(layer.output_shape)"
   ]
  },
  {
   "cell_type": "code",
   "execution_count": 78,
   "metadata": {},
   "outputs": [
    {
     "data": {
      "text/plain": [
       "<KerasTensor: shape=(None, 64, 64, 64, 1) dtype=float32 (created by layer 'input_4')>"
      ]
     },
     "execution_count": 78,
     "metadata": {},
     "output_type": "execute_result"
    }
   ],
   "source": [
    "model.input"
   ]
  },
  {
   "cell_type": "code",
   "execution_count": 79,
   "metadata": {},
   "outputs": [
    {
     "data": {
      "text/plain": [
       "<KerasTensor: shape=(None, 64, 64, 64, 1) dtype=float32 (created by layer 'conv3d_95')>"
      ]
     },
     "execution_count": 79,
     "metadata": {},
     "output_type": "execute_result"
    }
   ],
   "source": [
    "model.output"
   ]
  },
  {
   "cell_type": "code",
   "execution_count": 80,
   "metadata": {},
   "outputs": [
    {
     "name": "stdout",
     "output_type": "stream",
     "text": [
      "Model: \"model_3\"\n",
      "__________________________________________________________________________________________________\n",
      "Layer (type)                    Output Shape         Param #     Connected to                     \n",
      "==================================================================================================\n",
      "input_4 (InputLayer)            [(None, 64, 64, 64,  0                                            \n",
      "__________________________________________________________________________________________________\n",
      "conv3d_72 (Conv3D)              (None, 64, 64, 64, 6 1792        input_4[0][0]                    \n",
      "__________________________________________________________________________________________________\n",
      "conv3d_73 (Conv3D)              (None, 64, 64, 64, 6 110656      conv3d_72[0][0]                  \n",
      "__________________________________________________________________________________________________\n",
      "max_pooling3d_12 (MaxPooling3D) (None, 32, 32, 32, 6 0           conv3d_73[0][0]                  \n",
      "__________________________________________________________________________________________________\n",
      "conv3d_74 (Conv3D)              (None, 32, 32, 32, 1 221312      max_pooling3d_12[0][0]           \n",
      "__________________________________________________________________________________________________\n",
      "conv3d_75 (Conv3D)              (None, 32, 32, 32, 1 442496      conv3d_74[0][0]                  \n",
      "__________________________________________________________________________________________________\n",
      "max_pooling3d_13 (MaxPooling3D) (None, 16, 16, 16, 1 0           conv3d_75[0][0]                  \n",
      "__________________________________________________________________________________________________\n",
      "conv3d_76 (Conv3D)              (None, 16, 16, 16, 2 884992      max_pooling3d_13[0][0]           \n",
      "__________________________________________________________________________________________________\n",
      "conv3d_77 (Conv3D)              (None, 16, 16, 16, 2 1769728     conv3d_76[0][0]                  \n",
      "__________________________________________________________________________________________________\n",
      "max_pooling3d_14 (MaxPooling3D) (None, 8, 8, 8, 256) 0           conv3d_77[0][0]                  \n",
      "__________________________________________________________________________________________________\n",
      "conv3d_78 (Conv3D)              (None, 8, 8, 8, 512) 3539456     max_pooling3d_14[0][0]           \n",
      "__________________________________________________________________________________________________\n",
      "conv3d_79 (Conv3D)              (None, 8, 8, 8, 512) 7078400     conv3d_78[0][0]                  \n",
      "__________________________________________________________________________________________________\n",
      "dropout_6 (Dropout)             (None, 8, 8, 8, 512) 0           conv3d_79[0][0]                  \n",
      "__________________________________________________________________________________________________\n",
      "max_pooling3d_15 (MaxPooling3D) (None, 4, 4, 4, 512) 0           dropout_6[0][0]                  \n",
      "__________________________________________________________________________________________________\n",
      "conv3d_80 (Conv3D)              (None, 4, 4, 4, 1024 14156800    max_pooling3d_15[0][0]           \n",
      "__________________________________________________________________________________________________\n",
      "conv3d_81 (Conv3D)              (None, 4, 4, 4, 1024 28312576    conv3d_80[0][0]                  \n",
      "__________________________________________________________________________________________________\n",
      "dropout_7 (Dropout)             (None, 4, 4, 4, 1024 0           conv3d_81[0][0]                  \n",
      "__________________________________________________________________________________________________\n",
      "up_sampling3d_12 (UpSampling3D) (None, 8, 8, 8, 1024 0           dropout_7[0][0]                  \n",
      "__________________________________________________________________________________________________\n",
      "conv3d_82 (Conv3D)              (None, 8, 8, 8, 512) 4194816     up_sampling3d_12[0][0]           \n",
      "__________________________________________________________________________________________________\n",
      "concatenate_12 (Concatenate)    (None, 8, 8, 8, 1024 0           dropout_6[0][0]                  \n",
      "                                                                 conv3d_82[0][0]                  \n",
      "__________________________________________________________________________________________________\n",
      "conv3d_83 (Conv3D)              (None, 8, 8, 8, 512) 14156288    concatenate_12[0][0]             \n",
      "__________________________________________________________________________________________________\n",
      "conv3d_84 (Conv3D)              (None, 8, 8, 8, 512) 7078400     conv3d_83[0][0]                  \n",
      "__________________________________________________________________________________________________\n",
      "up_sampling3d_13 (UpSampling3D) (None, 16, 16, 16, 5 0           conv3d_84[0][0]                  \n",
      "__________________________________________________________________________________________________\n",
      "conv3d_85 (Conv3D)              (None, 16, 16, 16, 2 1048832     up_sampling3d_13[0][0]           \n",
      "__________________________________________________________________________________________________\n",
      "concatenate_13 (Concatenate)    (None, 16, 16, 16, 5 0           conv3d_77[0][0]                  \n",
      "                                                                 conv3d_85[0][0]                  \n",
      "__________________________________________________________________________________________________\n",
      "conv3d_86 (Conv3D)              (None, 16, 16, 16, 2 3539200     concatenate_13[0][0]             \n",
      "__________________________________________________________________________________________________\n",
      "conv3d_87 (Conv3D)              (None, 16, 16, 16, 2 1769728     conv3d_86[0][0]                  \n",
      "__________________________________________________________________________________________________\n",
      "up_sampling3d_14 (UpSampling3D) (None, 32, 32, 32, 2 0           conv3d_87[0][0]                  \n",
      "__________________________________________________________________________________________________\n",
      "conv3d_88 (Conv3D)              (None, 32, 32, 32, 1 262272      up_sampling3d_14[0][0]           \n",
      "__________________________________________________________________________________________________\n",
      "concatenate_14 (Concatenate)    (None, 32, 32, 32, 2 0           conv3d_75[0][0]                  \n",
      "                                                                 conv3d_88[0][0]                  \n",
      "__________________________________________________________________________________________________\n",
      "conv3d_89 (Conv3D)              (None, 32, 32, 32, 1 884864      concatenate_14[0][0]             \n",
      "__________________________________________________________________________________________________\n",
      "conv3d_90 (Conv3D)              (None, 32, 32, 32, 1 442496      conv3d_89[0][0]                  \n",
      "__________________________________________________________________________________________________\n",
      "up_sampling3d_15 (UpSampling3D) (None, 64, 64, 64, 1 0           conv3d_90[0][0]                  \n",
      "__________________________________________________________________________________________________\n",
      "conv3d_91 (Conv3D)              (None, 64, 64, 64, 6 65600       up_sampling3d_15[0][0]           \n",
      "__________________________________________________________________________________________________\n",
      "concatenate_15 (Concatenate)    (None, 64, 64, 64, 1 0           conv3d_73[0][0]                  \n",
      "                                                                 conv3d_91[0][0]                  \n",
      "__________________________________________________________________________________________________\n",
      "conv3d_92 (Conv3D)              (None, 64, 64, 64, 6 221248      concatenate_15[0][0]             \n",
      "__________________________________________________________________________________________________\n",
      "conv3d_93 (Conv3D)              (None, 64, 64, 64, 6 110656      conv3d_92[0][0]                  \n",
      "__________________________________________________________________________________________________\n",
      "conv3d_94 (Conv3D)              (None, 64, 64, 64, 2 3458        conv3d_93[0][0]                  \n",
      "__________________________________________________________________________________________________\n",
      "conv3d_95 (Conv3D)              (None, 64, 64, 64, 1 3           conv3d_94[0][0]                  \n",
      "==================================================================================================\n",
      "Total params: 90,296,069\n",
      "Trainable params: 90,296,069\n",
      "Non-trainable params: 0\n",
      "__________________________________________________________________________________________________\n"
     ]
    }
   ],
   "source": [
    "model.summary()"
   ]
  },
  {
   "cell_type": "code",
   "execution_count": 81,
   "metadata": {},
   "outputs": [
    {
     "data": {
      "text/plain": [
       "<matplotlib.image.AxesImage at 0x7f10b4588fa0>"
      ]
     },
     "execution_count": 81,
     "metadata": {},
     "output_type": "execute_result"
    },
    {
     "data": {
      "image/png": "[encoded data removed]",
      "text/plain": [
       "<Figure size 432x288 with 1 Axes>"
      ]
     },
     "metadata": {
      "needs_background": "light"
     },
     "output_type": "display_data"
    }
   ],
   "source": [
    "plt.imshow(test_img[:,(107-32):(107+32),(305-32):(305+32),(411-32):(411+32),:][0,:,:,32,0], cmap = \"gray\")"
   ]
  },
  {
   "cell_type": "code",
   "execution_count": 82,
   "metadata": {},
   "outputs": [],
   "source": [
    "test_image_slices = test_img[:,(107-32):(107+32),(305-32):(305+32),(411-32):(411+32),:][0,:,:,32,0]\n",
    "test_mask_slices = test_mask[:,(107-32):(107+32),(305-32):(305+32),(411-32):(411+32),:]"
   ]
  },
  {
   "cell_type": "code",
   "execution_count": 83,
   "metadata": {},
   "outputs": [],
   "source": [
    "real_test_image_slices = test_img[:,(291-32):(291+32),(170-32):(170+32),(411-32):(411+32),:] / 2000\n",
    "real_test_mask_slices = test_mask[:,(291-32):(291+32),(170-32):(170+32),(411-32):(411+32),:] "
   ]
  },
  {
   "cell_type": "code",
   "execution_count": 84,
   "metadata": {},
   "outputs": [
    {
     "data": {
      "text/plain": [
       "(array([111354.,  65558.,  12123.,   7268.,   5937.,   5298.,   6483.,\n",
       "         18602.,  28887.,    634.]),\n",
       " array([-0.512 , -0.4475, -0.383 , -0.3185, -0.254 , -0.1895, -0.125 ,\n",
       "        -0.0605,  0.004 ,  0.0685,  0.133 ]),\n",
       " <BarContainer object of 10 artists>)"
      ]
     },
     "execution_count": 84,
     "metadata": {},
     "output_type": "execute_result"
    },
    {
     "data": {
      "image/png": "[encoded data removed]",
      "text/plain": [
       "<Figure size 432x288 with 1 Axes>"
      ]
     },
     "metadata": {
      "needs_background": "light"
     },
     "output_type": "display_data"
    }
   ],
   "source": [
    "plt.hist(real_test_image_slices.flatten())"
   ]
  },
  {
   "cell_type": "code",
   "execution_count": 85,
   "metadata": {},
   "outputs": [
    {
     "data": {
      "text/plain": [
       "(array([259694.,      0.,      0.,      0.,      0.,      0.,      0.,\n",
       "             0.,      0.,   2450.]),\n",
       " array([0. , 0.1, 0.2, 0.3, 0.4, 0.5, 0.6, 0.7, 0.8, 0.9, 1. ]),\n",
       " <BarContainer object of 10 artists>)"
      ]
     },
     "execution_count": 85,
     "metadata": {},
     "output_type": "execute_result"
    },
    {
     "data": {
      "image/png": "[encoded data removed]",
      "text/plain": [
       "<Figure size 432x288 with 1 Axes>"
      ]
     },
     "metadata": {
      "needs_background": "light"
     },
     "output_type": "display_data"
    }
   ],
   "source": [
    "plt.hist(real_test_mask_slices.flatten())"
   ]
  },
  {
   "cell_type": "markdown",
   "metadata": {},
   "source": [
    "When training with image -> divide by 2000"
   ]
  },
  {
   "cell_type": "code",
   "execution_count": 86,
   "metadata": {},
   "outputs": [
    {
     "data": {
      "text/plain": [
       "(array([1770.,  199.,   21.,   29.,   17.,  902., 1026.,  123.,    6.,\n",
       "           3.]),\n",
       " array([-1024. ,  -868.1,  -712.2,  -556.3,  -400.4,  -244.5,   -88.6,\n",
       "           67.3,   223.2,   379.1,   535. ]),\n",
       " <BarContainer object of 10 artists>)"
      ]
     },
     "execution_count": 86,
     "metadata": {},
     "output_type": "execute_result"
    },
    {
     "data": {
      "image/png": "[encoded data removed]",
      "text/plain": [
       "<Figure size 432x288 with 1 Axes>"
      ]
     },
     "metadata": {
      "needs_background": "light"
     },
     "output_type": "display_data"
    }
   ],
   "source": [
    "plt.hist(test_image_slices.flatten())\n",
    "\n",
    "# TODO: Scale this: divide by 2000 \n",
    "\n",
    "# Hounsfield unit are -2000-2000 so it's a nice number"
   ]
  },
  {
   "cell_type": "code",
   "execution_count": 87,
   "metadata": {},
   "outputs": [
    {
     "data": {
      "text/plain": [
       "(array([     0.,      0.,      0.,      0.,      0., 262144.,      0.,\n",
       "             0.,      0.,      0.]),\n",
       " array([-0.5, -0.4, -0.3, -0.2, -0.1,  0. ,  0.1,  0.2,  0.3,  0.4,  0.5]),\n",
       " <BarContainer object of 10 artists>)"
      ]
     },
     "execution_count": 87,
     "metadata": {},
     "output_type": "execute_result"
    },
    {
     "data": {
      "image/png": "[encoded data removed]",
      "text/plain": [
       "<Figure size 432x288 with 1 Axes>"
      ]
     },
     "metadata": {
      "needs_background": "light"
     },
     "output_type": "display_data"
    }
   ],
   "source": [
    "plt.hist(test_mask_slices.flatten())\n",
    "\n",
    "# TODO: Find patch of mask with airway voxels. "
   ]
  },
  {
   "cell_type": "code",
   "execution_count": 92,
   "metadata": {},
   "outputs": [
    {
     "name": "stdout",
     "output_type": "stream",
     "text": [
      "Epoch 1/1000\n",
      "1/1 [==============================] - 0s 319ms/step - loss: 0.3520\n",
      "Epoch 2/1000\n",
      "1/1 [==============================] - 0s 290ms/step - loss: 0.3492\n",
      "Epoch 3/1000\n",
      "1/1 [==============================] - 0s 287ms/step - loss: 0.3575\n",
      "Epoch 4/1000\n",
      "1/1 [==============================] - 0s 286ms/step - loss: 0.3489\n",
      "Epoch 5/1000\n",
      "1/1 [==============================] - 0s 287ms/step - loss: 0.3489\n",
      "Epoch 6/1000\n",
      "1/1 [==============================] - 0s 288ms/step - loss: 0.3536\n",
      "Epoch 7/1000\n",
      "1/1 [==============================] - 0s 288ms/step - loss: 0.3520\n",
      "Epoch 8/1000\n",
      "1/1 [==============================] - 0s 286ms/step - loss: 0.3530\n",
      "Epoch 9/1000\n",
      "1/1 [==============================] - 0s 287ms/step - loss: 0.3570\n",
      "Epoch 10/1000\n",
      "1/1 [==============================] - 0s 286ms/step - loss: 0.3481\n",
      "Epoch 11/1000\n",
      "1/1 [==============================] - 0s 287ms/step - loss: 0.3512\n",
      "Epoch 12/1000\n",
      "1/1 [==============================] - 0s 287ms/step - loss: 0.3477\n",
      "Epoch 13/1000\n",
      "1/1 [==============================] - 0s 288ms/step - loss: 0.3461\n",
      "Epoch 14/1000\n",
      "1/1 [==============================] - 0s 288ms/step - loss: 0.3445\n",
      "Epoch 15/1000\n",
      "1/1 [==============================] - 0s 288ms/step - loss: 0.3451\n",
      "Epoch 16/1000\n",
      "1/1 [==============================] - 0s 288ms/step - loss: 0.3442\n",
      "Epoch 17/1000\n",
      "1/1 [==============================] - 0s 289ms/step - loss: 0.3437\n",
      "Epoch 18/1000\n",
      "1/1 [==============================] - 0s 287ms/step - loss: 0.3439\n",
      "Epoch 19/1000\n",
      "1/1 [==============================] - 0s 286ms/step - loss: 0.3436\n",
      "Epoch 20/1000\n",
      "1/1 [==============================] - 0s 287ms/step - loss: 0.3440\n",
      "Epoch 21/1000\n",
      "1/1 [==============================] - 0s 288ms/step - loss: 0.3438\n",
      "Epoch 22/1000\n",
      "1/1 [==============================] - 0s 289ms/step - loss: 0.3438\n",
      "Epoch 23/1000\n",
      "1/1 [==============================] - 0s 289ms/step - loss: 0.3424\n",
      "Epoch 24/1000\n",
      "1/1 [==============================] - 0s 289ms/step - loss: 0.3434\n",
      "Epoch 25/1000\n",
      "1/1 [==============================] - 0s 290ms/step - loss: 0.3430\n",
      "Epoch 26/1000\n",
      "1/1 [==============================] - 0s 288ms/step - loss: 0.3434\n",
      "Epoch 27/1000\n",
      "1/1 [==============================] - 0s 287ms/step - loss: 0.3418\n",
      "Epoch 28/1000\n",
      "1/1 [==============================] - 0s 288ms/step - loss: 0.3429\n",
      "Epoch 29/1000\n",
      "1/1 [==============================] - 0s 289ms/step - loss: 0.3424\n",
      "Epoch 30/1000\n",
      "1/1 [==============================] - 0s 289ms/step - loss: 0.3418\n",
      "Epoch 31/1000\n",
      "1/1 [==============================] - 0s 289ms/step - loss: 0.3411\n",
      "Epoch 32/1000\n",
      "1/1 [==============================] - 0s 288ms/step - loss: 0.3407\n",
      "Epoch 33/1000\n",
      "1/1 [==============================] - 0s 290ms/step - loss: 0.3407\n",
      "Epoch 34/1000\n",
      "1/1 [==============================] - 0s 289ms/step - loss: 0.3427\n",
      "Epoch 35/1000\n",
      "1/1 [==============================] - 0s 288ms/step - loss: 0.3408\n",
      "Epoch 36/1000\n",
      "1/1 [==============================] - 0s 290ms/step - loss: 0.3412\n",
      "Epoch 37/1000\n",
      "1/1 [==============================] - 0s 289ms/step - loss: 0.3412\n",
      "Epoch 38/1000\n",
      "1/1 [==============================] - 0s 290ms/step - loss: 0.3416\n",
      "Epoch 39/1000\n",
      "1/1 [==============================] - 0s 291ms/step - loss: 0.3410\n",
      "Epoch 40/1000\n",
      "1/1 [==============================] - 0s 289ms/step - loss: 0.3401\n",
      "Epoch 41/1000\n",
      "1/1 [==============================] - 0s 288ms/step - loss: 0.3392\n",
      "Epoch 42/1000\n",
      "1/1 [==============================] - 0s 290ms/step - loss: 0.3393\n",
      "Epoch 43/1000\n",
      "1/1 [==============================] - 0s 290ms/step - loss: 0.3399\n",
      "Epoch 44/1000\n",
      "1/1 [==============================] - 0s 290ms/step - loss: 0.3391\n",
      "Epoch 45/1000\n",
      "1/1 [==============================] - 0s 291ms/step - loss: 0.3419\n",
      "Epoch 46/1000\n",
      "1/1 [==============================] - 0s 291ms/step - loss: 0.3424\n",
      "Epoch 47/1000\n",
      "1/1 [==============================] - 0s 289ms/step - loss: 0.3407\n",
      "Epoch 48/1000\n",
      "1/1 [==============================] - 0s 290ms/step - loss: 0.3431\n",
      "Epoch 49/1000\n",
      "1/1 [==============================] - 0s 290ms/step - loss: 0.3388\n",
      "Epoch 50/1000\n",
      "1/1 [==============================] - 0s 290ms/step - loss: 0.3399\n",
      "Epoch 51/1000\n",
      "1/1 [==============================] - 0s 292ms/step - loss: 0.3405\n",
      "Epoch 52/1000\n",
      "1/1 [==============================] - 0s 290ms/step - loss: 0.3382\n",
      "Epoch 53/1000\n",
      "1/1 [==============================] - 0s 290ms/step - loss: 0.3378\n",
      "Epoch 54/1000\n",
      "1/1 [==============================] - 0s 291ms/step - loss: 0.3389\n",
      "Epoch 55/1000\n",
      "1/1 [==============================] - 0s 291ms/step - loss: 0.3389\n",
      "Epoch 56/1000\n",
      "1/1 [==============================] - 0s 292ms/step - loss: 0.3388\n",
      "Epoch 57/1000\n",
      "1/1 [==============================] - 0s 290ms/step - loss: 0.3406\n",
      "Epoch 58/1000\n",
      "1/1 [==============================] - 0s 289ms/step - loss: 0.3389\n",
      "Epoch 59/1000\n",
      "1/1 [==============================] - 0s 291ms/step - loss: 0.3393\n",
      "Epoch 60/1000\n",
      "1/1 [==============================] - 0s 291ms/step - loss: 0.3418\n",
      "Epoch 61/1000\n",
      "1/1 [==============================] - 0s 292ms/step - loss: 0.3399\n",
      "Epoch 62/1000\n",
      "1/1 [==============================] - 0s 291ms/step - loss: 0.3388\n",
      "Epoch 63/1000\n",
      "1/1 [==============================] - 0s 289ms/step - loss: 0.3413\n",
      "Epoch 64/1000\n",
      "1/1 [==============================] - 0s 293ms/step - loss: 0.3393\n",
      "Epoch 65/1000\n",
      "1/1 [==============================] - 0s 292ms/step - loss: 0.3393\n",
      "Epoch 66/1000\n",
      "1/1 [==============================] - 0s 291ms/step - loss: 0.3384\n",
      "Epoch 67/1000\n",
      "1/1 [==============================] - 0s 293ms/step - loss: 0.3378\n",
      "Epoch 68/1000\n",
      "1/1 [==============================] - 0s 292ms/step - loss: 0.3380\n",
      "Epoch 69/1000\n",
      "1/1 [==============================] - 0s 294ms/step - loss: 0.3378\n",
      "Epoch 70/1000\n",
      "1/1 [==============================] - 0s 291ms/step - loss: 0.3389\n",
      "Epoch 71/1000\n",
      "1/1 [==============================] - 0s 292ms/step - loss: 0.3388\n",
      "Epoch 72/1000\n",
      "1/1 [==============================] - 0s 293ms/step - loss: 0.3386\n",
      "Epoch 73/1000\n",
      "1/1 [==============================] - 0s 293ms/step - loss: 0.3375\n",
      "Epoch 74/1000\n",
      "1/1 [==============================] - 0s 292ms/step - loss: 0.3367\n",
      "Epoch 75/1000\n",
      "1/1 [==============================] - 0s 293ms/step - loss: 0.3365\n",
      "Epoch 76/1000\n",
      "1/1 [==============================] - 0s 293ms/step - loss: 0.3362\n",
      "Epoch 77/1000\n",
      "1/1 [==============================] - 0s 293ms/step - loss: 0.3376\n",
      "Epoch 78/1000\n",
      "1/1 [==============================] - 0s 293ms/step - loss: 0.3371\n",
      "Epoch 79/1000\n",
      "1/1 [==============================] - 0s 292ms/step - loss: 0.3360\n",
      "Epoch 80/1000\n",
      "1/1 [==============================] - 0s 293ms/step - loss: 0.3367\n",
      "Epoch 81/1000\n",
      "1/1 [==============================] - 0s 294ms/step - loss: 0.3357\n",
      "Epoch 82/1000\n",
      "1/1 [==============================] - 0s 293ms/step - loss: 0.3370\n",
      "Epoch 83/1000\n",
      "1/1 [==============================] - 0s 292ms/step - loss: 0.3366\n",
      "Epoch 84/1000\n",
      "1/1 [==============================] - 0s 293ms/step - loss: 0.3357\n",
      "Epoch 85/1000\n",
      "1/1 [==============================] - 0s 294ms/step - loss: 0.3353\n",
      "Epoch 86/1000\n",
      "1/1 [==============================] - 0s 294ms/step - loss: 0.3364\n",
      "Epoch 87/1000\n",
      "1/1 [==============================] - 0s 292ms/step - loss: 0.3359\n",
      "Epoch 88/1000\n",
      "1/1 [==============================] - 0s 294ms/step - loss: 0.3349\n",
      "Epoch 89/1000\n",
      "1/1 [==============================] - 0s 294ms/step - loss: 0.3361\n",
      "Epoch 90/1000\n",
      "1/1 [==============================] - 0s 294ms/step - loss: 0.3351\n",
      "Epoch 91/1000\n",
      "1/1 [==============================] - 0s 293ms/step - loss: 0.3353\n",
      "Epoch 92/1000\n",
      "1/1 [==============================] - 0s 293ms/step - loss: 0.3347\n",
      "Epoch 93/1000\n",
      "1/1 [==============================] - 0s 294ms/step - loss: 0.3348\n",
      "Epoch 94/1000\n",
      "1/1 [==============================] - 0s 293ms/step - loss: 0.3356\n",
      "Epoch 95/1000\n",
      "1/1 [==============================] - 0s 293ms/step - loss: 0.3352\n",
      "Epoch 96/1000\n",
      "1/1 [==============================] - 0s 294ms/step - loss: 0.3360\n",
      "Epoch 97/1000\n",
      "1/1 [==============================] - 0s 295ms/step - loss: 0.3350\n",
      "Epoch 98/1000\n",
      "1/1 [==============================] - 0s 293ms/step - loss: 0.3347\n",
      "Epoch 99/1000\n",
      "1/1 [==============================] - 0s 293ms/step - loss: 0.3353\n",
      "Epoch 100/1000\n",
      "1/1 [==============================] - 0s 294ms/step - loss: 0.3339\n",
      "Epoch 101/1000\n",
      "1/1 [==============================] - 0s 294ms/step - loss: 0.3347\n",
      "Epoch 102/1000\n",
      "1/1 [==============================] - 0s 293ms/step - loss: 0.3342\n",
      "Epoch 103/1000\n",
      "1/1 [==============================] - 0s 294ms/step - loss: 0.3344\n",
      "Epoch 104/1000\n",
      "1/1 [==============================] - 0s 295ms/step - loss: 0.3343\n",
      "Epoch 105/1000\n",
      "1/1 [==============================] - 0s 295ms/step - loss: 0.3346\n",
      "Epoch 106/1000\n",
      "1/1 [==============================] - 0s 294ms/step - loss: 0.3342\n",
      "Epoch 107/1000\n",
      "1/1 [==============================] - 0s 293ms/step - loss: 0.3350\n",
      "Epoch 108/1000\n",
      "1/1 [==============================] - 0s 295ms/step - loss: 0.3349\n",
      "Epoch 109/1000\n",
      "1/1 [==============================] - 0s 295ms/step - loss: 0.3344\n",
      "Epoch 110/1000\n",
      "1/1 [==============================] - 0s 294ms/step - loss: 0.3352\n",
      "Epoch 111/1000\n",
      "1/1 [==============================] - 0s 295ms/step - loss: 0.3339\n",
      "Epoch 112/1000\n",
      "1/1 [==============================] - 0s 295ms/step - loss: 0.3336\n",
      "Epoch 113/1000\n",
      "1/1 [==============================] - 0s 293ms/step - loss: 0.3339\n",
      "Epoch 114/1000\n",
      "1/1 [==============================] - 0s 295ms/step - loss: 0.3347\n",
      "Epoch 115/1000\n",
      "1/1 [==============================] - 0s 295ms/step - loss: 0.3338\n",
      "Epoch 116/1000\n",
      "1/1 [==============================] - 0s 295ms/step - loss: 0.3348\n",
      "Epoch 117/1000\n",
      "1/1 [==============================] - 0s 297ms/step - loss: 0.3337\n",
      "Epoch 118/1000\n",
      "1/1 [==============================] - 0s 295ms/step - loss: 0.3336\n",
      "Epoch 119/1000\n",
      "1/1 [==============================] - 0s 295ms/step - loss: 0.3334\n",
      "Epoch 120/1000\n",
      "1/1 [==============================] - 0s 296ms/step - loss: 0.3330\n",
      "Epoch 121/1000\n",
      "1/1 [==============================] - 0s 296ms/step - loss: 0.3331\n",
      "Epoch 122/1000\n",
      "1/1 [==============================] - 0s 295ms/step - loss: 0.3331\n",
      "Epoch 123/1000\n",
      "1/1 [==============================] - 0s 295ms/step - loss: 0.3328\n",
      "Epoch 124/1000\n",
      "1/1 [==============================] - 0s 296ms/step - loss: 0.3337\n",
      "Epoch 125/1000\n",
      "1/1 [==============================] - 0s 295ms/step - loss: 0.3328\n",
      "Epoch 126/1000\n",
      "1/1 [==============================] - 0s 295ms/step - loss: 0.3331\n",
      "Epoch 127/1000\n",
      "1/1 [==============================] - 0s 296ms/step - loss: 0.3331\n",
      "Epoch 128/1000\n",
      "1/1 [==============================] - 0s 295ms/step - loss: 0.3346\n",
      "Epoch 129/1000\n",
      "1/1 [==============================] - 0s 295ms/step - loss: 0.3327\n",
      "Epoch 130/1000\n",
      "1/1 [==============================] - 0s 296ms/step - loss: 0.3342\n",
      "Epoch 131/1000\n",
      "1/1 [==============================] - 0s 295ms/step - loss: 0.3340\n",
      "Epoch 132/1000\n",
      "1/1 [==============================] - 0s 295ms/step - loss: 0.3329\n",
      "Epoch 133/1000\n",
      "1/1 [==============================] - 0s 296ms/step - loss: 0.3330\n",
      "Epoch 134/1000\n",
      "1/1 [==============================] - 0s 296ms/step - loss: 0.3328\n",
      "Epoch 135/1000\n",
      "1/1 [==============================] - 0s 295ms/step - loss: 0.3333\n",
      "Epoch 136/1000\n",
      "1/1 [==============================] - 0s 296ms/step - loss: 0.3327\n",
      "Epoch 137/1000\n",
      "1/1 [==============================] - 0s 295ms/step - loss: 0.3327\n",
      "Epoch 138/1000\n",
      "1/1 [==============================] - 0s 296ms/step - loss: 0.3325\n",
      "Epoch 139/1000\n",
      "1/1 [==============================] - 0s 296ms/step - loss: 0.3330\n",
      "Epoch 140/1000\n",
      "1/1 [==============================] - 0s 296ms/step - loss: 0.3329\n",
      "Epoch 141/1000\n",
      "1/1 [==============================] - 0s 296ms/step - loss: 0.3328\n",
      "Epoch 142/1000\n",
      "1/1 [==============================] - 0s 296ms/step - loss: 0.3321\n",
      "Epoch 143/1000\n",
      "1/1 [==============================] - 0s 296ms/step - loss: 0.3334\n",
      "Epoch 144/1000\n",
      "1/1 [==============================] - 0s 296ms/step - loss: 0.3327\n",
      "Epoch 145/1000\n",
      "1/1 [==============================] - 0s 296ms/step - loss: 0.3329\n",
      "Epoch 146/1000\n",
      "1/1 [==============================] - 0s 297ms/step - loss: 0.3336\n",
      "Epoch 147/1000\n",
      "1/1 [==============================] - 0s 297ms/step - loss: 0.3321\n",
      "Epoch 148/1000\n",
      "1/1 [==============================] - 0s 296ms/step - loss: 0.3326\n",
      "Epoch 149/1000\n",
      "1/1 [==============================] - 0s 297ms/step - loss: 0.3323\n",
      "Epoch 150/1000\n",
      "1/1 [==============================] - 0s 297ms/step - loss: 0.3325\n",
      "Epoch 151/1000\n",
      "1/1 [==============================] - 0s 296ms/step - loss: 0.3321\n",
      "Epoch 152/1000\n",
      "1/1 [==============================] - 0s 297ms/step - loss: 0.3318\n",
      "Epoch 153/1000\n",
      "1/1 [==============================] - 0s 297ms/step - loss: 0.3317\n",
      "Epoch 154/1000\n",
      "1/1 [==============================] - 0s 297ms/step - loss: 0.3316\n",
      "Epoch 155/1000\n",
      "1/1 [==============================] - 0s 296ms/step - loss: 0.3314\n",
      "Epoch 156/1000\n",
      "1/1 [==============================] - 0s 297ms/step - loss: 0.3316\n",
      "Epoch 157/1000\n",
      "1/1 [==============================] - 0s 296ms/step - loss: 0.3317\n",
      "Epoch 158/1000\n",
      "1/1 [==============================] - 0s 297ms/step - loss: 0.3321\n",
      "Epoch 159/1000\n",
      "1/1 [==============================] - 0s 298ms/step - loss: 0.3316\n",
      "Epoch 160/1000\n",
      "1/1 [==============================] - 0s 296ms/step - loss: 0.3314\n",
      "Epoch 161/1000\n",
      "1/1 [==============================] - 0s 297ms/step - loss: 0.3315\n",
      "Epoch 162/1000\n",
      "1/1 [==============================] - 0s 298ms/step - loss: 0.3318\n",
      "Epoch 163/1000\n",
      "1/1 [==============================] - 0s 296ms/step - loss: 0.3317\n",
      "Epoch 164/1000\n",
      "1/1 [==============================] - 0s 297ms/step - loss: 0.3316\n",
      "Epoch 165/1000\n",
      "1/1 [==============================] - 0s 298ms/step - loss: 0.3320\n",
      "Epoch 166/1000\n",
      "1/1 [==============================] - 0s 296ms/step - loss: 0.3314\n",
      "Epoch 167/1000\n",
      "1/1 [==============================] - 0s 297ms/step - loss: 0.3316\n",
      "Epoch 168/1000\n",
      "1/1 [==============================] - 0s 297ms/step - loss: 0.3315\n",
      "Epoch 169/1000\n"
     ]
    },
    {
     "ename": "KeyboardInterrupt",
     "evalue": "",
     "output_type": "error",
     "traceback": [
      "\u001b[0;31m---------------------------------------------------------------------------\u001b[0m",
      "\u001b[0;31mKeyboardInterrupt\u001b[0m                         Traceback (most recent call last)",
      "\u001b[1;32m/home/jtabalon/airway_seg/fit_one_image.ipynb Cell 31'\u001b[0m in \u001b[0;36m<module>\u001b[0;34m\u001b[0m\n\u001b[1;32m      <a href='vscode-notebook-cell://ssh-remote%2B130.191.31.61/home/jtabalon/airway_seg/fit_one_image.ipynb#ch0000023vscode-remote?line=0'>1</a>\u001b[0m \u001b[39m#model.fit(x=test_img, y=test_mask)\u001b[39;00m\n\u001b[1;32m      <a href='vscode-notebook-cell://ssh-remote%2B130.191.31.61/home/jtabalon/airway_seg/fit_one_image.ipynb#ch0000023vscode-remote?line=1'>2</a>\u001b[0m \u001b[39m# model.fit(x=test_img[:,(107-32):(107+32),(305-32):(305+32),(411-32):(411+32),:], y=test_mask[:,(107-32):(107+32),(305-32):(305+32),(411-32):(411+32),:], epochs=100 ) # this is wrong lmao\u001b[39;00m\n\u001b[0;32m----> <a href='vscode-notebook-cell://ssh-remote%2B130.191.31.61/home/jtabalon/airway_seg/fit_one_image.ipynb#ch0000023vscode-remote?line=2'>3</a>\u001b[0m model\u001b[39m.\u001b[39;49mfit(x\u001b[39m=\u001b[39;49mreal_test_image_slices, y\u001b[39m=\u001b[39;49mreal_test_mask_slices, epochs\u001b[39m=\u001b[39;49m\u001b[39m1000\u001b[39;49m )\n",
      "File \u001b[0;32m~/anaconda3/envs/tf_airway/lib/python3.9/site-packages/tensorflow/python/keras/engine/training.py:1105\u001b[0m, in \u001b[0;36mModel.fit\u001b[0;34m(self, x, y, batch_size, epochs, verbose, callbacks, validation_split, validation_data, shuffle, class_weight, sample_weight, initial_epoch, steps_per_epoch, validation_steps, validation_batch_size, validation_freq, max_queue_size, workers, use_multiprocessing)\u001b[0m\n\u001b[1;32m   <a href='file:///home/jtabalon/anaconda3/envs/tf_airway/lib/python3.9/site-packages/tensorflow/python/keras/engine/training.py?line=1102'>1103</a>\u001b[0m logs \u001b[39m=\u001b[39m tmp_logs  \u001b[39m# No error, now safe to assign to logs.\u001b[39;00m\n\u001b[1;32m   <a href='file:///home/jtabalon/anaconda3/envs/tf_airway/lib/python3.9/site-packages/tensorflow/python/keras/engine/training.py?line=1103'>1104</a>\u001b[0m end_step \u001b[39m=\u001b[39m step \u001b[39m+\u001b[39m data_handler\u001b[39m.\u001b[39mstep_increment\n\u001b[0;32m-> <a href='file:///home/jtabalon/anaconda3/envs/tf_airway/lib/python3.9/site-packages/tensorflow/python/keras/engine/training.py?line=1104'>1105</a>\u001b[0m callbacks\u001b[39m.\u001b[39;49mon_train_batch_end(end_step, logs)\n\u001b[1;32m   <a href='file:///home/jtabalon/anaconda3/envs/tf_airway/lib/python3.9/site-packages/tensorflow/python/keras/engine/training.py?line=1105'>1106</a>\u001b[0m \u001b[39mif\u001b[39;00m \u001b[39mself\u001b[39m\u001b[39m.\u001b[39mstop_training:\n\u001b[1;32m   <a href='file:///home/jtabalon/anaconda3/envs/tf_airway/lib/python3.9/site-packages/tensorflow/python/keras/engine/training.py?line=1106'>1107</a>\u001b[0m   \u001b[39mbreak\u001b[39;00m\n",
      "File \u001b[0;32m~/anaconda3/envs/tf_airway/lib/python3.9/site-packages/tensorflow/python/keras/callbacks.py:454\u001b[0m, in \u001b[0;36mCallbackList.on_train_batch_end\u001b[0;34m(self, batch, logs)\u001b[0m\n\u001b[1;32m    <a href='file:///home/jtabalon/anaconda3/envs/tf_airway/lib/python3.9/site-packages/tensorflow/python/keras/callbacks.py?line=446'>447</a>\u001b[0m \u001b[39m\"\"\"Calls the `on_train_batch_end` methods of its callbacks.\u001b[39;00m\n\u001b[1;32m    <a href='file:///home/jtabalon/anaconda3/envs/tf_airway/lib/python3.9/site-packages/tensorflow/python/keras/callbacks.py?line=447'>448</a>\u001b[0m \n\u001b[1;32m    <a href='file:///home/jtabalon/anaconda3/envs/tf_airway/lib/python3.9/site-packages/tensorflow/python/keras/callbacks.py?line=448'>449</a>\u001b[0m \u001b[39mArguments:\u001b[39;00m\n\u001b[1;32m    <a href='file:///home/jtabalon/anaconda3/envs/tf_airway/lib/python3.9/site-packages/tensorflow/python/keras/callbacks.py?line=449'>450</a>\u001b[0m \u001b[39m    batch: Integer, index of batch within the current epoch.\u001b[39;00m\n\u001b[1;32m    <a href='file:///home/jtabalon/anaconda3/envs/tf_airway/lib/python3.9/site-packages/tensorflow/python/keras/callbacks.py?line=450'>451</a>\u001b[0m \u001b[39m    logs: Dict. Aggregated metric results up until this batch.\u001b[39;00m\n\u001b[1;32m    <a href='file:///home/jtabalon/anaconda3/envs/tf_airway/lib/python3.9/site-packages/tensorflow/python/keras/callbacks.py?line=451'>452</a>\u001b[0m \u001b[39m\"\"\"\u001b[39;00m\n\u001b[1;32m    <a href='file:///home/jtabalon/anaconda3/envs/tf_airway/lib/python3.9/site-packages/tensorflow/python/keras/callbacks.py?line=452'>453</a>\u001b[0m \u001b[39mif\u001b[39;00m \u001b[39mself\u001b[39m\u001b[39m.\u001b[39m_should_call_train_batch_hooks:\n\u001b[0;32m--> <a href='file:///home/jtabalon/anaconda3/envs/tf_airway/lib/python3.9/site-packages/tensorflow/python/keras/callbacks.py?line=453'>454</a>\u001b[0m   \u001b[39mself\u001b[39;49m\u001b[39m.\u001b[39;49m_call_batch_hook(ModeKeys\u001b[39m.\u001b[39;49mTRAIN, \u001b[39m'\u001b[39;49m\u001b[39mend\u001b[39;49m\u001b[39m'\u001b[39;49m, batch, logs\u001b[39m=\u001b[39;49mlogs)\n",
      "File \u001b[0;32m~/anaconda3/envs/tf_airway/lib/python3.9/site-packages/tensorflow/python/keras/callbacks.py:296\u001b[0m, in \u001b[0;36mCallbackList._call_batch_hook\u001b[0;34m(self, mode, hook, batch, logs)\u001b[0m\n\u001b[1;32m    <a href='file:///home/jtabalon/anaconda3/envs/tf_airway/lib/python3.9/site-packages/tensorflow/python/keras/callbacks.py?line=293'>294</a>\u001b[0m   \u001b[39mself\u001b[39m\u001b[39m.\u001b[39m_call_batch_begin_hook(mode, batch, logs)\n\u001b[1;32m    <a href='file:///home/jtabalon/anaconda3/envs/tf_airway/lib/python3.9/site-packages/tensorflow/python/keras/callbacks.py?line=294'>295</a>\u001b[0m \u001b[39melif\u001b[39;00m hook \u001b[39m==\u001b[39m \u001b[39m'\u001b[39m\u001b[39mend\u001b[39m\u001b[39m'\u001b[39m:\n\u001b[0;32m--> <a href='file:///home/jtabalon/anaconda3/envs/tf_airway/lib/python3.9/site-packages/tensorflow/python/keras/callbacks.py?line=295'>296</a>\u001b[0m   \u001b[39mself\u001b[39;49m\u001b[39m.\u001b[39;49m_call_batch_end_hook(mode, batch, logs)\n\u001b[1;32m    <a href='file:///home/jtabalon/anaconda3/envs/tf_airway/lib/python3.9/site-packages/tensorflow/python/keras/callbacks.py?line=296'>297</a>\u001b[0m \u001b[39melse\u001b[39;00m:\n\u001b[1;32m    <a href='file:///home/jtabalon/anaconda3/envs/tf_airway/lib/python3.9/site-packages/tensorflow/python/keras/callbacks.py?line=297'>298</a>\u001b[0m   \u001b[39mraise\u001b[39;00m \u001b[39mValueError\u001b[39;00m(\u001b[39m'\u001b[39m\u001b[39mUnrecognized hook: \u001b[39m\u001b[39m{}\u001b[39;00m\u001b[39m'\u001b[39m\u001b[39m.\u001b[39mformat(hook))\n",
      "File \u001b[0;32m~/anaconda3/envs/tf_airway/lib/python3.9/site-packages/tensorflow/python/keras/callbacks.py:316\u001b[0m, in \u001b[0;36mCallbackList._call_batch_end_hook\u001b[0;34m(self, mode, batch, logs)\u001b[0m\n\u001b[1;32m    <a href='file:///home/jtabalon/anaconda3/envs/tf_airway/lib/python3.9/site-packages/tensorflow/python/keras/callbacks.py?line=312'>313</a>\u001b[0m   batch_time \u001b[39m=\u001b[39m time\u001b[39m.\u001b[39mtime() \u001b[39m-\u001b[39m \u001b[39mself\u001b[39m\u001b[39m.\u001b[39m_batch_start_time\n\u001b[1;32m    <a href='file:///home/jtabalon/anaconda3/envs/tf_airway/lib/python3.9/site-packages/tensorflow/python/keras/callbacks.py?line=313'>314</a>\u001b[0m   \u001b[39mself\u001b[39m\u001b[39m.\u001b[39m_batch_times\u001b[39m.\u001b[39mappend(batch_time)\n\u001b[0;32m--> <a href='file:///home/jtabalon/anaconda3/envs/tf_airway/lib/python3.9/site-packages/tensorflow/python/keras/callbacks.py?line=315'>316</a>\u001b[0m \u001b[39mself\u001b[39;49m\u001b[39m.\u001b[39;49m_call_batch_hook_helper(hook_name, batch, logs)\n\u001b[1;32m    <a href='file:///home/jtabalon/anaconda3/envs/tf_airway/lib/python3.9/site-packages/tensorflow/python/keras/callbacks.py?line=317'>318</a>\u001b[0m \u001b[39mif\u001b[39;00m \u001b[39mlen\u001b[39m(\u001b[39mself\u001b[39m\u001b[39m.\u001b[39m_batch_times) \u001b[39m>\u001b[39m\u001b[39m=\u001b[39m \u001b[39mself\u001b[39m\u001b[39m.\u001b[39m_num_batches_for_timing_check:\n\u001b[1;32m    <a href='file:///home/jtabalon/anaconda3/envs/tf_airway/lib/python3.9/site-packages/tensorflow/python/keras/callbacks.py?line=318'>319</a>\u001b[0m   end_hook_name \u001b[39m=\u001b[39m hook_name\n",
      "File \u001b[0;32m~/anaconda3/envs/tf_airway/lib/python3.9/site-packages/tensorflow/python/keras/callbacks.py:356\u001b[0m, in \u001b[0;36mCallbackList._call_batch_hook_helper\u001b[0;34m(self, hook_name, batch, logs)\u001b[0m\n\u001b[1;32m    <a href='file:///home/jtabalon/anaconda3/envs/tf_airway/lib/python3.9/site-packages/tensorflow/python/keras/callbacks.py?line=353'>354</a>\u001b[0m hook \u001b[39m=\u001b[39m \u001b[39mgetattr\u001b[39m(callback, hook_name)\n\u001b[1;32m    <a href='file:///home/jtabalon/anaconda3/envs/tf_airway/lib/python3.9/site-packages/tensorflow/python/keras/callbacks.py?line=354'>355</a>\u001b[0m \u001b[39mif\u001b[39;00m \u001b[39mgetattr\u001b[39m(callback, \u001b[39m'\u001b[39m\u001b[39m_supports_tf_logs\u001b[39m\u001b[39m'\u001b[39m, \u001b[39mFalse\u001b[39;00m):\n\u001b[0;32m--> <a href='file:///home/jtabalon/anaconda3/envs/tf_airway/lib/python3.9/site-packages/tensorflow/python/keras/callbacks.py?line=355'>356</a>\u001b[0m   hook(batch, logs)\n\u001b[1;32m    <a href='file:///home/jtabalon/anaconda3/envs/tf_airway/lib/python3.9/site-packages/tensorflow/python/keras/callbacks.py?line=356'>357</a>\u001b[0m \u001b[39melse\u001b[39;00m:\n\u001b[1;32m    <a href='file:///home/jtabalon/anaconda3/envs/tf_airway/lib/python3.9/site-packages/tensorflow/python/keras/callbacks.py?line=357'>358</a>\u001b[0m   \u001b[39mif\u001b[39;00m numpy_logs \u001b[39mis\u001b[39;00m \u001b[39mNone\u001b[39;00m:  \u001b[39m# Only convert once.\u001b[39;00m\n",
      "File \u001b[0;32m~/anaconda3/envs/tf_airway/lib/python3.9/site-packages/tensorflow/python/keras/callbacks.py:1020\u001b[0m, in \u001b[0;36mProgbarLogger.on_train_batch_end\u001b[0;34m(self, batch, logs)\u001b[0m\n\u001b[1;32m   <a href='file:///home/jtabalon/anaconda3/envs/tf_airway/lib/python3.9/site-packages/tensorflow/python/keras/callbacks.py?line=1018'>1019</a>\u001b[0m \u001b[39mdef\u001b[39;00m \u001b[39mon_train_batch_end\u001b[39m(\u001b[39mself\u001b[39m, batch, logs\u001b[39m=\u001b[39m\u001b[39mNone\u001b[39;00m):\n\u001b[0;32m-> <a href='file:///home/jtabalon/anaconda3/envs/tf_airway/lib/python3.9/site-packages/tensorflow/python/keras/callbacks.py?line=1019'>1020</a>\u001b[0m   \u001b[39mself\u001b[39;49m\u001b[39m.\u001b[39;49m_batch_update_progbar(batch, logs)\n",
      "File \u001b[0;32m~/anaconda3/envs/tf_airway/lib/python3.9/site-packages/tensorflow/python/keras/callbacks.py:1084\u001b[0m, in \u001b[0;36mProgbarLogger._batch_update_progbar\u001b[0;34m(self, batch, logs)\u001b[0m\n\u001b[1;32m   <a href='file:///home/jtabalon/anaconda3/envs/tf_airway/lib/python3.9/site-packages/tensorflow/python/keras/callbacks.py?line=1079'>1080</a>\u001b[0m   \u001b[39mself\u001b[39m\u001b[39m.\u001b[39mseen \u001b[39m+\u001b[39m\u001b[39m=\u001b[39m add_seen\n\u001b[1;32m   <a href='file:///home/jtabalon/anaconda3/envs/tf_airway/lib/python3.9/site-packages/tensorflow/python/keras/callbacks.py?line=1081'>1082</a>\u001b[0m \u001b[39mif\u001b[39;00m \u001b[39mself\u001b[39m\u001b[39m.\u001b[39mverbose \u001b[39m==\u001b[39m \u001b[39m1\u001b[39m:\n\u001b[1;32m   <a href='file:///home/jtabalon/anaconda3/envs/tf_airway/lib/python3.9/site-packages/tensorflow/python/keras/callbacks.py?line=1082'>1083</a>\u001b[0m   \u001b[39m# Only block async when verbose = 1.\u001b[39;00m\n\u001b[0;32m-> <a href='file:///home/jtabalon/anaconda3/envs/tf_airway/lib/python3.9/site-packages/tensorflow/python/keras/callbacks.py?line=1083'>1084</a>\u001b[0m   logs \u001b[39m=\u001b[39m tf_utils\u001b[39m.\u001b[39;49mto_numpy_or_python_type(logs)\n\u001b[1;32m   <a href='file:///home/jtabalon/anaconda3/envs/tf_airway/lib/python3.9/site-packages/tensorflow/python/keras/callbacks.py?line=1084'>1085</a>\u001b[0m   \u001b[39mself\u001b[39m\u001b[39m.\u001b[39mprogbar\u001b[39m.\u001b[39mupdate(\u001b[39mself\u001b[39m\u001b[39m.\u001b[39mseen, \u001b[39mlist\u001b[39m(logs\u001b[39m.\u001b[39mitems()), finalize\u001b[39m=\u001b[39m\u001b[39mFalse\u001b[39;00m)\n",
      "File \u001b[0;32m~/anaconda3/envs/tf_airway/lib/python3.9/site-packages/tensorflow/python/keras/utils/tf_utils.py:514\u001b[0m, in \u001b[0;36mto_numpy_or_python_type\u001b[0;34m(tensors)\u001b[0m\n\u001b[1;32m    <a href='file:///home/jtabalon/anaconda3/envs/tf_airway/lib/python3.9/site-packages/tensorflow/python/keras/utils/tf_utils.py?line=510'>511</a>\u001b[0m     \u001b[39mreturn\u001b[39;00m x\u001b[39m.\u001b[39mitem() \u001b[39mif\u001b[39;00m np\u001b[39m.\u001b[39mndim(x) \u001b[39m==\u001b[39m \u001b[39m0\u001b[39m \u001b[39melse\u001b[39;00m x\n\u001b[1;32m    <a href='file:///home/jtabalon/anaconda3/envs/tf_airway/lib/python3.9/site-packages/tensorflow/python/keras/utils/tf_utils.py?line=511'>512</a>\u001b[0m   \u001b[39mreturn\u001b[39;00m t  \u001b[39m# Don't turn ragged or sparse tensors to NumPy.\u001b[39;00m\n\u001b[0;32m--> <a href='file:///home/jtabalon/anaconda3/envs/tf_airway/lib/python3.9/site-packages/tensorflow/python/keras/utils/tf_utils.py?line=513'>514</a>\u001b[0m \u001b[39mreturn\u001b[39;00m nest\u001b[39m.\u001b[39;49mmap_structure(_to_single_numpy_or_python_type, tensors)\n",
      "File \u001b[0;32m~/anaconda3/envs/tf_airway/lib/python3.9/site-packages/tensorflow/python/util/nest.py:659\u001b[0m, in \u001b[0;36mmap_structure\u001b[0;34m(func, *structure, **kwargs)\u001b[0m\n\u001b[1;32m    <a href='file:///home/jtabalon/anaconda3/envs/tf_airway/lib/python3.9/site-packages/tensorflow/python/util/nest.py?line=654'>655</a>\u001b[0m flat_structure \u001b[39m=\u001b[39m (flatten(s, expand_composites) \u001b[39mfor\u001b[39;00m s \u001b[39min\u001b[39;00m structure)\n\u001b[1;32m    <a href='file:///home/jtabalon/anaconda3/envs/tf_airway/lib/python3.9/site-packages/tensorflow/python/util/nest.py?line=655'>656</a>\u001b[0m entries \u001b[39m=\u001b[39m \u001b[39mzip\u001b[39m(\u001b[39m*\u001b[39mflat_structure)\n\u001b[1;32m    <a href='file:///home/jtabalon/anaconda3/envs/tf_airway/lib/python3.9/site-packages/tensorflow/python/util/nest.py?line=657'>658</a>\u001b[0m \u001b[39mreturn\u001b[39;00m pack_sequence_as(\n\u001b[0;32m--> <a href='file:///home/jtabalon/anaconda3/envs/tf_airway/lib/python3.9/site-packages/tensorflow/python/util/nest.py?line=658'>659</a>\u001b[0m     structure[\u001b[39m0\u001b[39m], [func(\u001b[39m*\u001b[39mx) \u001b[39mfor\u001b[39;00m x \u001b[39min\u001b[39;00m entries],\n\u001b[1;32m    <a href='file:///home/jtabalon/anaconda3/envs/tf_airway/lib/python3.9/site-packages/tensorflow/python/util/nest.py?line=659'>660</a>\u001b[0m     expand_composites\u001b[39m=\u001b[39mexpand_composites)\n",
      "File \u001b[0;32m~/anaconda3/envs/tf_airway/lib/python3.9/site-packages/tensorflow/python/util/nest.py:659\u001b[0m, in \u001b[0;36m<listcomp>\u001b[0;34m(.0)\u001b[0m\n\u001b[1;32m    <a href='file:///home/jtabalon/anaconda3/envs/tf_airway/lib/python3.9/site-packages/tensorflow/python/util/nest.py?line=654'>655</a>\u001b[0m flat_structure \u001b[39m=\u001b[39m (flatten(s, expand_composites) \u001b[39mfor\u001b[39;00m s \u001b[39min\u001b[39;00m structure)\n\u001b[1;32m    <a href='file:///home/jtabalon/anaconda3/envs/tf_airway/lib/python3.9/site-packages/tensorflow/python/util/nest.py?line=655'>656</a>\u001b[0m entries \u001b[39m=\u001b[39m \u001b[39mzip\u001b[39m(\u001b[39m*\u001b[39mflat_structure)\n\u001b[1;32m    <a href='file:///home/jtabalon/anaconda3/envs/tf_airway/lib/python3.9/site-packages/tensorflow/python/util/nest.py?line=657'>658</a>\u001b[0m \u001b[39mreturn\u001b[39;00m pack_sequence_as(\n\u001b[0;32m--> <a href='file:///home/jtabalon/anaconda3/envs/tf_airway/lib/python3.9/site-packages/tensorflow/python/util/nest.py?line=658'>659</a>\u001b[0m     structure[\u001b[39m0\u001b[39m], [func(\u001b[39m*\u001b[39;49mx) \u001b[39mfor\u001b[39;00m x \u001b[39min\u001b[39;00m entries],\n\u001b[1;32m    <a href='file:///home/jtabalon/anaconda3/envs/tf_airway/lib/python3.9/site-packages/tensorflow/python/util/nest.py?line=659'>660</a>\u001b[0m     expand_composites\u001b[39m=\u001b[39mexpand_composites)\n",
      "File \u001b[0;32m~/anaconda3/envs/tf_airway/lib/python3.9/site-packages/tensorflow/python/keras/utils/tf_utils.py:510\u001b[0m, in \u001b[0;36mto_numpy_or_python_type.<locals>._to_single_numpy_or_python_type\u001b[0;34m(t)\u001b[0m\n\u001b[1;32m    <a href='file:///home/jtabalon/anaconda3/envs/tf_airway/lib/python3.9/site-packages/tensorflow/python/keras/utils/tf_utils.py?line=507'>508</a>\u001b[0m \u001b[39mdef\u001b[39;00m \u001b[39m_to_single_numpy_or_python_type\u001b[39m(t):\n\u001b[1;32m    <a href='file:///home/jtabalon/anaconda3/envs/tf_airway/lib/python3.9/site-packages/tensorflow/python/keras/utils/tf_utils.py?line=508'>509</a>\u001b[0m   \u001b[39mif\u001b[39;00m \u001b[39misinstance\u001b[39m(t, ops\u001b[39m.\u001b[39mTensor):\n\u001b[0;32m--> <a href='file:///home/jtabalon/anaconda3/envs/tf_airway/lib/python3.9/site-packages/tensorflow/python/keras/utils/tf_utils.py?line=509'>510</a>\u001b[0m     x \u001b[39m=\u001b[39m t\u001b[39m.\u001b[39;49mnumpy()\n\u001b[1;32m    <a href='file:///home/jtabalon/anaconda3/envs/tf_airway/lib/python3.9/site-packages/tensorflow/python/keras/utils/tf_utils.py?line=510'>511</a>\u001b[0m     \u001b[39mreturn\u001b[39;00m x\u001b[39m.\u001b[39mitem() \u001b[39mif\u001b[39;00m np\u001b[39m.\u001b[39mndim(x) \u001b[39m==\u001b[39m \u001b[39m0\u001b[39m \u001b[39melse\u001b[39;00m x\n\u001b[1;32m    <a href='file:///home/jtabalon/anaconda3/envs/tf_airway/lib/python3.9/site-packages/tensorflow/python/keras/utils/tf_utils.py?line=511'>512</a>\u001b[0m   \u001b[39mreturn\u001b[39;00m t\n",
      "File \u001b[0;32m~/anaconda3/envs/tf_airway/lib/python3.9/site-packages/tensorflow/python/framework/ops.py:1071\u001b[0m, in \u001b[0;36m_EagerTensorBase.numpy\u001b[0;34m(self)\u001b[0m\n\u001b[1;32m   <a href='file:///home/jtabalon/anaconda3/envs/tf_airway/lib/python3.9/site-packages/tensorflow/python/framework/ops.py?line=1047'>1048</a>\u001b[0m \u001b[39m\"\"\"Copy of the contents of this Tensor into a NumPy array or scalar.\u001b[39;00m\n\u001b[1;32m   <a href='file:///home/jtabalon/anaconda3/envs/tf_airway/lib/python3.9/site-packages/tensorflow/python/framework/ops.py?line=1048'>1049</a>\u001b[0m \n\u001b[1;32m   <a href='file:///home/jtabalon/anaconda3/envs/tf_airway/lib/python3.9/site-packages/tensorflow/python/framework/ops.py?line=1049'>1050</a>\u001b[0m \u001b[39mUnlike NumPy arrays, Tensors are immutable, so this method has to copy\u001b[39;00m\n\u001b[0;32m   (...)\u001b[0m\n\u001b[1;32m   <a href='file:///home/jtabalon/anaconda3/envs/tf_airway/lib/python3.9/site-packages/tensorflow/python/framework/ops.py?line=1067'>1068</a>\u001b[0m \u001b[39m    NumPy dtype.\u001b[39;00m\n\u001b[1;32m   <a href='file:///home/jtabalon/anaconda3/envs/tf_airway/lib/python3.9/site-packages/tensorflow/python/framework/ops.py?line=1068'>1069</a>\u001b[0m \u001b[39m\"\"\"\u001b[39;00m\n\u001b[1;32m   <a href='file:///home/jtabalon/anaconda3/envs/tf_airway/lib/python3.9/site-packages/tensorflow/python/framework/ops.py?line=1069'>1070</a>\u001b[0m \u001b[39m# TODO(slebedev): Consider avoiding a copy for non-CPU or remote tensors.\u001b[39;00m\n\u001b[0;32m-> <a href='file:///home/jtabalon/anaconda3/envs/tf_airway/lib/python3.9/site-packages/tensorflow/python/framework/ops.py?line=1070'>1071</a>\u001b[0m maybe_arr \u001b[39m=\u001b[39m \u001b[39mself\u001b[39;49m\u001b[39m.\u001b[39;49m_numpy()  \u001b[39m# pylint: disable=protected-access\u001b[39;00m\n\u001b[1;32m   <a href='file:///home/jtabalon/anaconda3/envs/tf_airway/lib/python3.9/site-packages/tensorflow/python/framework/ops.py?line=1071'>1072</a>\u001b[0m \u001b[39mreturn\u001b[39;00m maybe_arr\u001b[39m.\u001b[39mcopy() \u001b[39mif\u001b[39;00m \u001b[39misinstance\u001b[39m(maybe_arr, np\u001b[39m.\u001b[39mndarray) \u001b[39melse\u001b[39;00m maybe_arr\n",
      "File \u001b[0;32m~/anaconda3/envs/tf_airway/lib/python3.9/site-packages/tensorflow/python/framework/ops.py:1037\u001b[0m, in \u001b[0;36m_EagerTensorBase._numpy\u001b[0;34m(self)\u001b[0m\n\u001b[1;32m   <a href='file:///home/jtabalon/anaconda3/envs/tf_airway/lib/python3.9/site-packages/tensorflow/python/framework/ops.py?line=1034'>1035</a>\u001b[0m \u001b[39mdef\u001b[39;00m \u001b[39m_numpy\u001b[39m(\u001b[39mself\u001b[39m):\n\u001b[1;32m   <a href='file:///home/jtabalon/anaconda3/envs/tf_airway/lib/python3.9/site-packages/tensorflow/python/framework/ops.py?line=1035'>1036</a>\u001b[0m   \u001b[39mtry\u001b[39;00m:\n\u001b[0;32m-> <a href='file:///home/jtabalon/anaconda3/envs/tf_airway/lib/python3.9/site-packages/tensorflow/python/framework/ops.py?line=1036'>1037</a>\u001b[0m     \u001b[39mreturn\u001b[39;00m \u001b[39mself\u001b[39;49m\u001b[39m.\u001b[39;49m_numpy_internal()\n\u001b[1;32m   <a href='file:///home/jtabalon/anaconda3/envs/tf_airway/lib/python3.9/site-packages/tensorflow/python/framework/ops.py?line=1037'>1038</a>\u001b[0m   \u001b[39mexcept\u001b[39;00m core\u001b[39m.\u001b[39m_NotOkStatusException \u001b[39mas\u001b[39;00m e:  \u001b[39m# pylint: disable=protected-access\u001b[39;00m\n\u001b[1;32m   <a href='file:///home/jtabalon/anaconda3/envs/tf_airway/lib/python3.9/site-packages/tensorflow/python/framework/ops.py?line=1038'>1039</a>\u001b[0m     six\u001b[39m.\u001b[39mraise_from(core\u001b[39m.\u001b[39m_status_to_exception(e\u001b[39m.\u001b[39mcode, e\u001b[39m.\u001b[39mmessage), \u001b[39mNone\u001b[39;00m)\n",
      "\u001b[0;31mKeyboardInterrupt\u001b[0m: "
     ]
    }
   ],
   "source": [
    "#model.fit(x=test_img, y=test_mask)\n",
    "# model.fit(x=test_img[:,(107-32):(107+32),(305-32):(305+32),(411-32):(411+32),:], y=test_mask[:,(107-32):(107+32),(305-32):(305+32),(411-32):(411+32),:], epochs=100 ) # this is wrong lmao\n",
    "model.fit(x=real_test_image_slices, y=real_test_mask_slices, epochs=1000 )\n",
    "\n",
    "# TODO: add model checkpoint callback"
   ]
  },
  {
   "cell_type": "code",
   "execution_count": 94,
   "metadata": {},
   "outputs": [],
   "source": [
    "# TODO configure prediction section\n",
    "prediction = model.predict(real_test_image_slices)"
   ]
  },
  {
   "cell_type": "code",
   "execution_count": 95,
   "metadata": {},
   "outputs": [
    {
     "data": {
      "text/plain": [
       "<matplotlib.image.AxesImage at 0x7f11f124beb0>"
      ]
     },
     "execution_count": 95,
     "metadata": {},
     "output_type": "execute_result"
    },
    {
     "data": {
      "image/png": "[encoded data removed]",
      "text/plain": [
       "<Figure size 432x288 with 1 Axes>"
      ]
     },
     "metadata": {
      "needs_background": "light"
     },
     "output_type": "display_data"
    }
   ],
   "source": [
    "plt.imshow(prediction[0,:,:,32,0])"
   ]
  },
  {
   "cell_type": "code",
   "execution_count": 96,
   "metadata": {},
   "outputs": [
    {
     "data": {
      "text/plain": [
       "<matplotlib.image.AxesImage at 0x7f11f0199760>"
      ]
     },
     "execution_count": 96,
     "metadata": {},
     "output_type": "execute_result"
    },
    {
     "data": {
      "image/png": "[encoded data removed]",
      "text/plain": [
       "<Figure size 432x288 with 1 Axes>"
      ]
     },
     "metadata": {
      "needs_background": "light"
     },
     "output_type": "display_data"
    }
   ],
   "source": [
    "plt.imshow(real_test_mask_slices[0,:,:,32,0])"
   ]
  },
  {
   "cell_type": "code",
   "execution_count": 90,
   "metadata": {},
   "outputs": [],
   "source": [
    "# plt.imshow(test_predict[(107-32):(107+32),(305-32):(305+32),(411-32):(411+32)])"
   ]
  }
 ],
 "metadata": {
  "interpreter": {
   "hash": "9059a93f5d5beb21997891154bf5fa1a9f65ccdfc10ceb74be4f34e345aa7518"
  },
  "kernelspec": {
   "display_name": "Python 3",
   "language": "python",
   "name": "python3"
  },
  "language_info": {
   "codemirror_mode": {
    "name": "ipython",
    "version": 3
   },
   "file_extension": ".py",
   "mimetype": "text/x-python",
   "name": "python",
   "nbconvert_exporter": "python",
   "pygments_lexer": "ipython3",
   "version": "3.9.7"
  }
 },
 "nbformat": 4,
 "nbformat_minor": 2
}
