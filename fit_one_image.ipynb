{
 "cells": [
  {
   "cell_type": "code",
   "execution_count": 71,
   "metadata": {},
   "outputs": [],
   "source": [
    "os.environ[\"CUDA_DEVICE_ORDER\"] = \"PCI_BUS_ID\"   # see issue #152\n",
    "os.environ[\"CUDA_VISIBLE_DEVICES\"] = \"0\""
   ]
  },
  {
   "cell_type": "code",
   "execution_count": 72,
   "metadata": {},
   "outputs": [],
   "source": [
    "import os\n",
    "import numpy as np\n",
    "import matplotlib.pyplot as plt\n",
    "import nibabel as nib\n",
    "\n",
    "\"\"\" DL imports \"\"\"\n",
    "\n",
    "import tensorflow as tf\n",
    "from tensorflow.keras import layers\n",
    "from tensorflow.keras.models import Model\n",
    "from tensorflow.keras.models import *\n",
    "from tensorflow.keras.layers import *\n",
    "from tensorflow.keras.optimizers import *\n",
    "from tensorflow.keras.callbacks import ModelCheckpoint, LearningRateScheduler\n",
    "from tensorflow.keras import backend as keras\n",
    "from tensorflow.keras import Input"
   ]
  },
  {
   "cell_type": "markdown",
   "metadata": {},
   "source": [
    "# Data Generator"
   ]
  },
  {
   "cell_type": "code",
   "execution_count": 73,
   "metadata": {},
   "outputs": [],
   "source": [
    "def data_generator(ids, data_dir, batch_size=1, patch_size=64, shuffle=True):\n",
    "    while True:\n",
    "        # Set seed\n",
    "        # np.random.seed(42)   \n",
    "\n",
    "        # if shuffle:\n",
    "        #     np.random.shuffle(ids)\n",
    "        # num_batches = len(id) / batch_size\n",
    "\n",
    "        patch_distance = int(patch_size / 2)\n",
    "\n",
    "        for patient_id in ids:\n",
    "            # Read in image\n",
    "\n",
    "            img_dir = data_dir + \"/ct/ct_patients\" + str(patient_id) + \".nii\"\n",
    "            mask_dir = data_dir + \"/labels/aw_\" + str(patient_id) + \".nii\"\n",
    "\n",
    "            img = nib.load(img_dir).get_fdata() / 2000.\n",
    "            mask = nib.load(mask_dir).get_fdata()\n",
    "\n",
    "            row_dim = img.shape[0]\n",
    "            column_dim = img.shape[1]\n",
    "            slice_dim = img.shape[2]\n",
    "\n",
    "            # Define mask to randomly find patch midpoint within bounds of patch distance\n",
    "            working_mask = mask[patch_distance:(row_dim-patch_distance), \\\n",
    "                            patch_distance:(column_dim-patch_distance), \\\n",
    "                            patch_distance:(slice_dim-patch_distance)]\n",
    "\n",
    "            # Iterate through slices\n",
    "            slices = np.sum(working_mask, axis=(0,1))\n",
    "\n",
    "            # Find slices which contain mask\n",
    "            slices_with_airway = [i for i in range(0, len(slices)) if slices[i] > 0] # Potentially tune this 0 hyper parameter\n",
    "\n",
    "            # Randomly find slice\n",
    "            random_slice_index = np.random.randint(0, len(slices_with_airway)) # in small 3d... \n",
    "            random_slice = slices_with_airway[random_slice_index]\n",
    "\n",
    "            # Find columns which contain mask\n",
    "            row_column_locations = np.where(working_mask[:,:,random_slice] > 0)\n",
    "            num_mask_voxels = len(row_column_locations[0]) \n",
    "\n",
    "            # Randomly find row + column\n",
    "            random_row_column_index = np.random.randint(0, num_mask_voxels)\n",
    "            random_row = row_column_locations[0][random_row_column_index]\n",
    "            random_column = row_column_locations[1][random_row_column_index]\n",
    "\n",
    "            # Adjust voxel coordinates for larger image\n",
    "            adjusted_row = random_row + patch_distance\n",
    "            adjusted_column = random_column + patch_distance\n",
    "            adjusted_slice = random_slice + patch_distance\n",
    "\n",
    "            # Final voxel coordinates       \n",
    "            voxel_coordinates = (adjusted_row, adjusted_column, adjusted_slice)\n",
    "\n",
    "            # Index based on specified patch distance\n",
    "            indexed_patch_img = img[(adjusted_row-patch_distance):(adjusted_row+patch_distance), \\\n",
    "                    (adjusted_column-patch_distance):(adjusted_column+patch_distance), \\\n",
    "                    (adjusted_slice-patch_distance):(adjusted_slice+patch_distance)]\n",
    "\n",
    "            indexed_patch_label = mask[(adjusted_row-patch_distance):(adjusted_row+patch_distance), \\\n",
    "                            (adjusted_column-patch_distance):(adjusted_column+patch_distance), \\\n",
    "                            (adjusted_slice-patch_distance):(adjusted_slice+patch_distance)]\n",
    "\n",
    "            # Add patient and channel\n",
    "            patch_img = np.expand_dims(np.expand_dims(indexed_patch_img, -1), 0)\n",
    "            patch_mask = np.expand_dims(np.expand_dims(indexed_patch_label, -1), 0)\n",
    "\n",
    "            final_patch_img = tf.convert_to_tensor(patch_img)\n",
    "            final_patch_mask = tf.convert_to_tensor(patch_mask)\n",
    "\n",
    "            yield (final_patch_img, final_patch_mask)"
   ]
  },
  {
   "cell_type": "markdown",
   "metadata": {},
   "source": [
    "# Model Creation"
   ]
  },
  {
   "cell_type": "code",
   "execution_count": 74,
   "metadata": {},
   "outputs": [],
   "source": [
    "nb_enc_features = [32, 64, 64, 64]\n",
    "nb_dec_features = [64, 64, 64, 64, 64, 32, 32]"
   ]
  },
  {
   "cell_type": "code",
   "execution_count": 75,
   "metadata": {},
   "outputs": [],
   "source": [
    "# Hyperparameter Tuning\n",
    "batch_size = 1  \n",
    "learning_rate = 1e-5 # TODO: 1e-4: stuck at local minima... try with more data?"
   ]
  },
  {
   "cell_type": "code",
   "execution_count": 76,
   "metadata": {},
   "outputs": [],
   "source": [
    "def unet(pretrained_weights = None,input_size = (256,256,1)):\n",
    "    inputs = Input(input_size)\n",
    "    conv1 = Conv3D(64, 3, activation = 'relu', padding = 'same', kernel_initializer = 'he_normal')(inputs)\n",
    "    conv1 = Conv3D(64, 3, activation = 'relu', padding = 'same', kernel_initializer = 'he_normal')(conv1)\n",
    "    pool1 = MaxPooling3D(pool_size=(2, 2, 2))(conv1)\n",
    "    print(pool1)\n",
    "    conv2 = Conv3D(128, 3, activation = 'relu', padding = 'same', kernel_initializer = 'he_normal')(pool1)\n",
    "    conv2 = Conv3D(128, 3, activation = 'relu', padding = 'same', kernel_initializer = 'he_normal')(conv2)\n",
    "    pool2 = MaxPooling3D(pool_size=(2, 2, 2))(conv2)\n",
    "    print(pool2)\n",
    "    conv3 = Conv3D(256, 3, activation = 'relu', padding = 'same', kernel_initializer = 'he_normal')(pool2)\n",
    "    conv3 = Conv3D(256, 3, activation = 'relu', padding = 'same', kernel_initializer = 'he_normal')(conv3)\n",
    "    pool3 = MaxPooling3D(pool_size=(2, 2, 2))(conv3)\n",
    "    print(pool3)\n",
    "    conv4 = Conv3D(512, 3, activation = 'relu', padding = 'same', kernel_initializer = 'he_normal')(pool3)\n",
    "    conv4 = Conv3D(512, 3, activation = 'relu', padding = 'same', kernel_initializer = 'he_normal')(conv4)\n",
    "    drop4 = Dropout(0.5)(conv4)\n",
    "    pool4 = MaxPooling3D(pool_size=(2, 2, 2))(drop4)\n",
    "    print(pool4)\n",
    "\n",
    "    conv5 = Conv3D(1024, 3, activation = 'relu', padding = 'same', kernel_initializer = 'he_normal')(pool4)\n",
    "    conv5 = Conv3D(1024, 3, activation = 'relu', padding = 'same', kernel_initializer = 'he_normal')(conv5)\n",
    "    drop5 = Dropout(0.5)(conv5)\n",
    "\n",
    "    up6 = Conv3D(512, 2, activation = 'relu', padding = 'same', kernel_initializer = 'he_normal')(UpSampling3D(size = (2,2,2))(drop5))\n",
    "    merge6 = concatenate([drop4,up6], axis = -1)\n",
    "    conv6 = Conv3D(512, 3, activation = 'relu', padding = 'same', kernel_initializer = 'he_normal')(merge6)\n",
    "    conv6 = Conv3D(512, 3, activation = 'relu', padding = 'same', kernel_initializer = 'he_normal')(conv6)\n",
    "\n",
    "    up7 = Conv3D(256, 2, activation = 'relu', padding = 'same', kernel_initializer = 'he_normal')(UpSampling3D(size = (2,2,2))(conv6))\n",
    "    merge7 = concatenate([conv3,up7], axis = -1)\n",
    "    conv7 = Conv3D(256, 3, activation = 'relu', padding = 'same', kernel_initializer = 'he_normal')(merge7)\n",
    "    conv7 = Conv3D(256, 3, activation = 'relu', padding = 'same', kernel_initializer = 'he_normal')(conv7)\n",
    "\n",
    "    up8 = Conv3D(128, 2, activation = 'relu', padding = 'same', kernel_initializer = 'he_normal')(UpSampling3D(size = (2,2,2))(conv7))\n",
    "    merge8 = concatenate([conv2,up8], axis = -1)\n",
    "    conv8 = Conv3D(128, 3, activation = 'relu', padding = 'same', kernel_initializer = 'he_normal')(merge8)\n",
    "    conv8 = Conv3D(128, 3, activation = 'relu', padding = 'same', kernel_initializer = 'he_normal')(conv8)\n",
    "\n",
    "    up9 = Conv3D(64, 2, activation = 'relu', padding = 'same', kernel_initializer = 'he_normal')(UpSampling3D(size = (2,2,2))(conv8))\n",
    "    merge9 = concatenate([conv1,up9], axis = -1)\n",
    "    conv9 = Conv3D(64, 3, activation = 'relu', padding = 'same', kernel_initializer = 'he_normal')(merge9)\n",
    "    conv9 = Conv3D(64, 3, activation = 'relu', padding = 'same', kernel_initializer = 'he_normal')(conv9)\n",
    "    conv9 = Conv3D(2, 3, activation = 'relu', padding = 'same', kernel_initializer = 'he_normal')(conv9)\n",
    "    conv10 = Conv3D(1, 1, activation = 'sigmoid')(conv9)\n",
    "\n",
    "    model = Model(inputs, conv10)\n",
    "\n",
    "    return model"
   ]
  },
  {
   "cell_type": "code",
   "execution_count": 77,
   "metadata": {},
   "outputs": [],
   "source": [
    "# We'll leave the default branch of the git repo as a dice_loss for now until we get actually training.\n",
    "def dice_loss(y_true, y_pred):\n",
    "    numerator = 2 * tf.reduce_sum(y_true * y_pred)\n",
    "    denominator = tf.reduce_sum(y_true + y_pred)\n",
    "    return 1 - numerator / denominator"
   ]
  },
  {
   "cell_type": "code",
   "execution_count": 78,
   "metadata": {},
   "outputs": [],
   "source": [
    "def compile_model(learning_rate):\n",
    "    model.compile(optimizer = Adam(lr=learning_rate), loss = dice_loss)"
   ]
  },
  {
   "cell_type": "code",
   "execution_count": 79,
   "metadata": {},
   "outputs": [
    {
     "name": "stdout",
     "output_type": "stream",
     "text": [
      "KerasTensor(type_spec=TensorSpec(shape=(None, 32, 32, 32, 64), dtype=tf.float32, name=None), name='max_pooling3d_8/MaxPool3D:0', description=\"created by layer 'max_pooling3d_8'\")\n",
      "KerasTensor(type_spec=TensorSpec(shape=(None, 16, 16, 16, 128), dtype=tf.float32, name=None), name='max_pooling3d_9/MaxPool3D:0', description=\"created by layer 'max_pooling3d_9'\")\n",
      "KerasTensor(type_spec=TensorSpec(shape=(None, 8, 8, 8, 256), dtype=tf.float32, name=None), name='max_pooling3d_10/MaxPool3D:0', description=\"created by layer 'max_pooling3d_10'\")\n",
      "KerasTensor(type_spec=TensorSpec(shape=(None, 4, 4, 4, 512), dtype=tf.float32, name=None), name='max_pooling3d_11/MaxPool3D:0', description=\"created by layer 'max_pooling3d_11'\")\n"
     ]
    }
   ],
   "source": [
    "model = unet(input_size=(64,64,64, 1))\n",
    "compile_model(learning_rate)"
   ]
  },
  {
   "cell_type": "code",
   "execution_count": 80,
   "metadata": {},
   "outputs": [
    {
     "data": {
      "text/plain": [
       "<matplotlib.image.AxesImage at 0x7fb3498adb80>"
      ]
     },
     "execution_count": 80,
     "metadata": {},
     "output_type": "execute_result"
    },
    {
     "data": {
      "image/png": "[encoded data removed]",
      "text/plain": [
       "<Figure size 432x288 with 1 Axes>"
      ]
     },
     "metadata": {
      "needs_background": "light"
     },
     "output_type": "display_data"
    }
   ],
   "source": [
    "plt.imshow(final_patch_mask[0,:,:,52,0] , cmap = \"gray\")"
   ]
  },
  {
   "cell_type": "code",
   "execution_count": 81,
   "metadata": {},
   "outputs": [],
   "source": [
    "train_ids = [\"10004O\", \"10055F\"] \n",
    "# train_ids = [\"10004O\"]\n",
    "valid_ids = [\"10023S\", \"10032T\"]\n",
    "train_dir = \"/home/jtabalon/airway_seg_data/train\"\n",
    "valid_dir = \"/home/jtabalon/airway_seg_data/valid\""
   ]
  },
  {
   "cell_type": "code",
   "execution_count": 82,
   "metadata": {},
   "outputs": [],
   "source": [
    "# TODO: Fix valid_generator.\n",
    "# TODO: Read entire training directory.\n",
    "training_generator = data_generator(train_ids, train_dir, batch_size=1, patch_size=64)\n",
    "valid_generator = data_generator(valid_ids, valid_dir, batch_size=1, patch_size=64)"
   ]
  },
  {
   "cell_type": "code",
   "execution_count": 83,
   "metadata": {},
   "outputs": [],
   "source": [
    "checkpoint_filepath = \"/home/jtabalon/ckpt_airway_seg\"\n",
    "model_checkpoint_callback = tf.keras.callbacks.ModelCheckpoint(\n",
    "    filepath=checkpoint_filepath,\n",
    "    save_best_only=True,\n",
    "    monitor=\"loss\",\n",
    "    # monitor=\"val_loss\"\n",
    ")"
   ]
  },
  {
   "cell_type": "code",
   "execution_count": 84,
   "metadata": {},
   "outputs": [
    {
     "name": "stdout",
     "output_type": "stream",
     "text": [
      "Epoch 1/1000\n",
      "2/2 [==============================] - 2s 461ms/step - loss: 0.8794\n",
      "INFO:tensorflow:Assets written to: /home/jtabalon/ckpt_airway_seg/assets\n",
      "Epoch 2/1000\n",
      "2/2 [==============================] - 1s 514ms/step - loss: 0.9837\n",
      "Epoch 3/1000\n",
      "2/2 [==============================] - 1s 510ms/step - loss: 0.9599\n",
      "Epoch 4/1000\n",
      "2/2 [==============================] - 1s 499ms/step - loss: 0.9628\n",
      "Epoch 5/1000\n",
      "2/2 [==============================] - 1s 495ms/step - loss: 0.9553\n",
      "Epoch 6/1000\n",
      "2/2 [==============================] - 1s 501ms/step - loss: 0.8709\n"
     ]
    },
    {
     "ename": "KeyboardInterrupt",
     "evalue": "",
     "output_type": "error",
     "traceback": [
      "\u001b[0;31m---------------------------------------------------------------------------\u001b[0m",
      "\u001b[0;31mKeyboardInterrupt\u001b[0m                         Traceback (most recent call last)",
      "\u001b[1;32m/home/jtabalon/airway_seg/fit_one_image.ipynb Cell 16'\u001b[0m in \u001b[0;36m<module>\u001b[0;34m\u001b[0m\n\u001b[1;32m      <a href='vscode-notebook-cell://ssh-remote%2B130.191.31.61/home/jtabalon/airway_seg/fit_one_image.ipynb#ch0000035vscode-remote?line=0'>1</a>\u001b[0m \u001b[39m# TODO: fix validation loop.\u001b[39;00m\n\u001b[0;32m----> <a href='vscode-notebook-cell://ssh-remote%2B130.191.31.61/home/jtabalon/airway_seg/fit_one_image.ipynb#ch0000035vscode-remote?line=2'>3</a>\u001b[0m model\u001b[39m.\u001b[39;49mfit(x\u001b[39m=\u001b[39;49mtraining_generator, \\\n\u001b[1;32m      <a href='vscode-notebook-cell://ssh-remote%2B130.191.31.61/home/jtabalon/airway_seg/fit_one_image.ipynb#ch0000035vscode-remote?line=3'>4</a>\u001b[0m \u001b[39m#      validation_data=valid_generator, \\\u001b[39;49;00m\n\u001b[1;32m      <a href='vscode-notebook-cell://ssh-remote%2B130.191.31.61/home/jtabalon/airway_seg/fit_one_image.ipynb#ch0000035vscode-remote?line=4'>5</a>\u001b[0m \u001b[39m#      validation_batch_size=2, \\\u001b[39;49;00m\n\u001b[1;32m      <a href='vscode-notebook-cell://ssh-remote%2B130.191.31.61/home/jtabalon/airway_seg/fit_one_image.ipynb#ch0000035vscode-remote?line=5'>6</a>\u001b[0m \u001b[39m#      validation_freq=5, \\\u001b[39;49;00m\n\u001b[1;32m      <a href='vscode-notebook-cell://ssh-remote%2B130.191.31.61/home/jtabalon/airway_seg/fit_one_image.ipynb#ch0000035vscode-remote?line=6'>7</a>\u001b[0m      steps_per_epoch\u001b[39m=\u001b[39;49m\u001b[39m2\u001b[39;49m, \\\n\u001b[1;32m      <a href='vscode-notebook-cell://ssh-remote%2B130.191.31.61/home/jtabalon/airway_seg/fit_one_image.ipynb#ch0000035vscode-remote?line=7'>8</a>\u001b[0m       epochs\u001b[39m=\u001b[39;49m\u001b[39m1000\u001b[39;49m,\n\u001b[1;32m      <a href='vscode-notebook-cell://ssh-remote%2B130.191.31.61/home/jtabalon/airway_seg/fit_one_image.ipynb#ch0000035vscode-remote?line=8'>9</a>\u001b[0m       callbacks\u001b[39m=\u001b[39;49m[model_checkpoint_callback])\n",
      "File \u001b[0;32m~/anaconda3/envs/tf_airway/lib/python3.9/site-packages/tensorflow/python/keras/engine/training.py:1145\u001b[0m, in \u001b[0;36mModel.fit\u001b[0;34m(self, x, y, batch_size, epochs, verbose, callbacks, validation_split, validation_data, shuffle, class_weight, sample_weight, initial_epoch, steps_per_epoch, validation_steps, validation_batch_size, validation_freq, max_queue_size, workers, use_multiprocessing)\u001b[0m\n\u001b[1;32m   <a href='file:///home/jtabalon/anaconda3/envs/tf_airway/lib/python3.9/site-packages/tensorflow/python/keras/engine/training.py?line=1141'>1142</a>\u001b[0m   val_logs \u001b[39m=\u001b[39m {\u001b[39m'\u001b[39m\u001b[39mval_\u001b[39m\u001b[39m'\u001b[39m \u001b[39m+\u001b[39m name: val \u001b[39mfor\u001b[39;00m name, val \u001b[39min\u001b[39;00m val_logs\u001b[39m.\u001b[39mitems()}\n\u001b[1;32m   <a href='file:///home/jtabalon/anaconda3/envs/tf_airway/lib/python3.9/site-packages/tensorflow/python/keras/engine/training.py?line=1142'>1143</a>\u001b[0m   epoch_logs\u001b[39m.\u001b[39mupdate(val_logs)\n\u001b[0;32m-> <a href='file:///home/jtabalon/anaconda3/envs/tf_airway/lib/python3.9/site-packages/tensorflow/python/keras/engine/training.py?line=1144'>1145</a>\u001b[0m callbacks\u001b[39m.\u001b[39;49mon_epoch_end(epoch, epoch_logs)\n\u001b[1;32m   <a href='file:///home/jtabalon/anaconda3/envs/tf_airway/lib/python3.9/site-packages/tensorflow/python/keras/engine/training.py?line=1145'>1146</a>\u001b[0m training_logs \u001b[39m=\u001b[39m epoch_logs\n\u001b[1;32m   <a href='file:///home/jtabalon/anaconda3/envs/tf_airway/lib/python3.9/site-packages/tensorflow/python/keras/engine/training.py?line=1146'>1147</a>\u001b[0m \u001b[39mif\u001b[39;00m \u001b[39mself\u001b[39m\u001b[39m.\u001b[39mstop_training:\n",
      "File \u001b[0;32m~/anaconda3/envs/tf_airway/lib/python3.9/site-packages/tensorflow/python/keras/callbacks.py:428\u001b[0m, in \u001b[0;36mCallbackList.on_epoch_end\u001b[0;34m(self, epoch, logs)\u001b[0m\n\u001b[1;32m    <a href='file:///home/jtabalon/anaconda3/envs/tf_airway/lib/python3.9/site-packages/tensorflow/python/keras/callbacks.py?line=425'>426</a>\u001b[0m \u001b[39mfor\u001b[39;00m callback \u001b[39min\u001b[39;00m \u001b[39mself\u001b[39m\u001b[39m.\u001b[39mcallbacks:\n\u001b[1;32m    <a href='file:///home/jtabalon/anaconda3/envs/tf_airway/lib/python3.9/site-packages/tensorflow/python/keras/callbacks.py?line=426'>427</a>\u001b[0m   \u001b[39mif\u001b[39;00m \u001b[39mgetattr\u001b[39m(callback, \u001b[39m'\u001b[39m\u001b[39m_supports_tf_logs\u001b[39m\u001b[39m'\u001b[39m, \u001b[39mFalse\u001b[39;00m):\n\u001b[0;32m--> <a href='file:///home/jtabalon/anaconda3/envs/tf_airway/lib/python3.9/site-packages/tensorflow/python/keras/callbacks.py?line=427'>428</a>\u001b[0m     callback\u001b[39m.\u001b[39;49mon_epoch_end(epoch, logs)\n\u001b[1;32m    <a href='file:///home/jtabalon/anaconda3/envs/tf_airway/lib/python3.9/site-packages/tensorflow/python/keras/callbacks.py?line=428'>429</a>\u001b[0m   \u001b[39melse\u001b[39;00m:\n\u001b[1;32m    <a href='file:///home/jtabalon/anaconda3/envs/tf_airway/lib/python3.9/site-packages/tensorflow/python/keras/callbacks.py?line=429'>430</a>\u001b[0m     \u001b[39mif\u001b[39;00m numpy_logs \u001b[39mis\u001b[39;00m \u001b[39mNone\u001b[39;00m:  \u001b[39m# Only convert once.\u001b[39;00m\n",
      "File \u001b[0;32m~/anaconda3/envs/tf_airway/lib/python3.9/site-packages/tensorflow/python/keras/callbacks.py:1344\u001b[0m, in \u001b[0;36mModelCheckpoint.on_epoch_end\u001b[0;34m(self, epoch, logs)\u001b[0m\n\u001b[1;32m   <a href='file:///home/jtabalon/anaconda3/envs/tf_airway/lib/python3.9/site-packages/tensorflow/python/keras/callbacks.py?line=1341'>1342</a>\u001b[0m \u001b[39m# pylint: disable=protected-access\u001b[39;00m\n\u001b[1;32m   <a href='file:///home/jtabalon/anaconda3/envs/tf_airway/lib/python3.9/site-packages/tensorflow/python/keras/callbacks.py?line=1342'>1343</a>\u001b[0m \u001b[39mif\u001b[39;00m \u001b[39mself\u001b[39m\u001b[39m.\u001b[39msave_freq \u001b[39m==\u001b[39m \u001b[39m'\u001b[39m\u001b[39mepoch\u001b[39m\u001b[39m'\u001b[39m:\n\u001b[0;32m-> <a href='file:///home/jtabalon/anaconda3/envs/tf_airway/lib/python3.9/site-packages/tensorflow/python/keras/callbacks.py?line=1343'>1344</a>\u001b[0m   \u001b[39mself\u001b[39;49m\u001b[39m.\u001b[39;49m_save_model(epoch\u001b[39m=\u001b[39;49mepoch, logs\u001b[39m=\u001b[39;49mlogs)\n",
      "File \u001b[0;32m~/anaconda3/envs/tf_airway/lib/python3.9/site-packages/tensorflow/python/keras/callbacks.py:1396\u001b[0m, in \u001b[0;36mModelCheckpoint._save_model\u001b[0;34m(self, epoch, logs)\u001b[0m\n\u001b[1;32m   <a href='file:///home/jtabalon/anaconda3/envs/tf_airway/lib/python3.9/site-packages/tensorflow/python/keras/callbacks.py?line=1392'>1393</a>\u001b[0m     \u001b[39mself\u001b[39m\u001b[39m.\u001b[39mmodel\u001b[39m.\u001b[39msave_weights(\n\u001b[1;32m   <a href='file:///home/jtabalon/anaconda3/envs/tf_airway/lib/python3.9/site-packages/tensorflow/python/keras/callbacks.py?line=1393'>1394</a>\u001b[0m         filepath, overwrite\u001b[39m=\u001b[39m\u001b[39mTrue\u001b[39;00m, options\u001b[39m=\u001b[39m\u001b[39mself\u001b[39m\u001b[39m.\u001b[39m_options)\n\u001b[1;32m   <a href='file:///home/jtabalon/anaconda3/envs/tf_airway/lib/python3.9/site-packages/tensorflow/python/keras/callbacks.py?line=1394'>1395</a>\u001b[0m   \u001b[39melse\u001b[39;00m:\n\u001b[0;32m-> <a href='file:///home/jtabalon/anaconda3/envs/tf_airway/lib/python3.9/site-packages/tensorflow/python/keras/callbacks.py?line=1395'>1396</a>\u001b[0m     \u001b[39mself\u001b[39;49m\u001b[39m.\u001b[39;49mmodel\u001b[39m.\u001b[39;49msave(filepath, overwrite\u001b[39m=\u001b[39;49m\u001b[39mTrue\u001b[39;49;00m, options\u001b[39m=\u001b[39;49m\u001b[39mself\u001b[39;49m\u001b[39m.\u001b[39;49m_options)\n\u001b[1;32m   <a href='file:///home/jtabalon/anaconda3/envs/tf_airway/lib/python3.9/site-packages/tensorflow/python/keras/callbacks.py?line=1396'>1397</a>\u001b[0m \u001b[39melse\u001b[39;00m:\n\u001b[1;32m   <a href='file:///home/jtabalon/anaconda3/envs/tf_airway/lib/python3.9/site-packages/tensorflow/python/keras/callbacks.py?line=1397'>1398</a>\u001b[0m   \u001b[39mif\u001b[39;00m \u001b[39mself\u001b[39m\u001b[39m.\u001b[39mverbose \u001b[39m>\u001b[39m \u001b[39m0\u001b[39m:\n",
      "File \u001b[0;32m~/anaconda3/envs/tf_airway/lib/python3.9/site-packages/tensorflow/python/keras/engine/training.py:2001\u001b[0m, in \u001b[0;36mModel.save\u001b[0;34m(self, filepath, overwrite, include_optimizer, save_format, signatures, options, save_traces)\u001b[0m\n\u001b[1;32m   <a href='file:///home/jtabalon/anaconda3/envs/tf_airway/lib/python3.9/site-packages/tensorflow/python/keras/engine/training.py?line=1958'>1959</a>\u001b[0m \u001b[39m\"\"\"Saves the model to Tensorflow SavedModel or a single HDF5 file.\u001b[39;00m\n\u001b[1;32m   <a href='file:///home/jtabalon/anaconda3/envs/tf_airway/lib/python3.9/site-packages/tensorflow/python/keras/engine/training.py?line=1959'>1960</a>\u001b[0m \n\u001b[1;32m   <a href='file:///home/jtabalon/anaconda3/envs/tf_airway/lib/python3.9/site-packages/tensorflow/python/keras/engine/training.py?line=1960'>1961</a>\u001b[0m \u001b[39mPlease see `tf.keras.models.save_model` or the\u001b[39;00m\n\u001b[0;32m   (...)\u001b[0m\n\u001b[1;32m   <a href='file:///home/jtabalon/anaconda3/envs/tf_airway/lib/python3.9/site-packages/tensorflow/python/keras/engine/training.py?line=1997'>1998</a>\u001b[0m \u001b[39m```\u001b[39;00m\n\u001b[1;32m   <a href='file:///home/jtabalon/anaconda3/envs/tf_airway/lib/python3.9/site-packages/tensorflow/python/keras/engine/training.py?line=1998'>1999</a>\u001b[0m \u001b[39m\"\"\"\u001b[39;00m\n\u001b[1;32m   <a href='file:///home/jtabalon/anaconda3/envs/tf_airway/lib/python3.9/site-packages/tensorflow/python/keras/engine/training.py?line=1999'>2000</a>\u001b[0m \u001b[39m# pylint: enable=line-too-long\u001b[39;00m\n\u001b[0;32m-> <a href='file:///home/jtabalon/anaconda3/envs/tf_airway/lib/python3.9/site-packages/tensorflow/python/keras/engine/training.py?line=2000'>2001</a>\u001b[0m save\u001b[39m.\u001b[39;49msave_model(\u001b[39mself\u001b[39;49m, filepath, overwrite, include_optimizer, save_format,\n\u001b[1;32m   <a href='file:///home/jtabalon/anaconda3/envs/tf_airway/lib/python3.9/site-packages/tensorflow/python/keras/engine/training.py?line=2001'>2002</a>\u001b[0m                 signatures, options, save_traces)\n",
      "File \u001b[0;32m~/anaconda3/envs/tf_airway/lib/python3.9/site-packages/tensorflow/python/keras/saving/save.py:156\u001b[0m, in \u001b[0;36msave_model\u001b[0;34m(model, filepath, overwrite, include_optimizer, save_format, signatures, options, save_traces)\u001b[0m\n\u001b[1;32m    <a href='file:///home/jtabalon/anaconda3/envs/tf_airway/lib/python3.9/site-packages/tensorflow/python/keras/saving/save.py?line=152'>153</a>\u001b[0m   hdf5_format\u001b[39m.\u001b[39msave_model_to_hdf5(\n\u001b[1;32m    <a href='file:///home/jtabalon/anaconda3/envs/tf_airway/lib/python3.9/site-packages/tensorflow/python/keras/saving/save.py?line=153'>154</a>\u001b[0m       model, filepath, overwrite, include_optimizer)\n\u001b[1;32m    <a href='file:///home/jtabalon/anaconda3/envs/tf_airway/lib/python3.9/site-packages/tensorflow/python/keras/saving/save.py?line=154'>155</a>\u001b[0m \u001b[39melse\u001b[39;00m:\n\u001b[0;32m--> <a href='file:///home/jtabalon/anaconda3/envs/tf_airway/lib/python3.9/site-packages/tensorflow/python/keras/saving/save.py?line=155'>156</a>\u001b[0m   saved_model_save\u001b[39m.\u001b[39;49msave(model, filepath, overwrite, include_optimizer,\n\u001b[1;32m    <a href='file:///home/jtabalon/anaconda3/envs/tf_airway/lib/python3.9/site-packages/tensorflow/python/keras/saving/save.py?line=156'>157</a>\u001b[0m                         signatures, options, save_traces)\n",
      "File \u001b[0;32m~/anaconda3/envs/tf_airway/lib/python3.9/site-packages/tensorflow/python/keras/saving/saved_model/save.py:89\u001b[0m, in \u001b[0;36msave\u001b[0;34m(model, filepath, overwrite, include_optimizer, signatures, options, save_traces)\u001b[0m\n\u001b[1;32m     <a href='file:///home/jtabalon/anaconda3/envs/tf_airway/lib/python3.9/site-packages/tensorflow/python/keras/saving/saved_model/save.py?line=86'>87</a>\u001b[0m   \u001b[39mwith\u001b[39;00m distribution_strategy_context\u001b[39m.\u001b[39m_get_default_replica_context():  \u001b[39m# pylint: disable=protected-access\u001b[39;00m\n\u001b[1;32m     <a href='file:///home/jtabalon/anaconda3/envs/tf_airway/lib/python3.9/site-packages/tensorflow/python/keras/saving/saved_model/save.py?line=87'>88</a>\u001b[0m     \u001b[39mwith\u001b[39;00m utils\u001b[39m.\u001b[39mkeras_option_scope(save_traces):\n\u001b[0;32m---> <a href='file:///home/jtabalon/anaconda3/envs/tf_airway/lib/python3.9/site-packages/tensorflow/python/keras/saving/saved_model/save.py?line=88'>89</a>\u001b[0m       save_lib\u001b[39m.\u001b[39;49msave(model, filepath, signatures, options)\n\u001b[1;32m     <a href='file:///home/jtabalon/anaconda3/envs/tf_airway/lib/python3.9/site-packages/tensorflow/python/keras/saving/saved_model/save.py?line=90'>91</a>\u001b[0m \u001b[39mif\u001b[39;00m \u001b[39mnot\u001b[39;00m include_optimizer:\n\u001b[1;32m     <a href='file:///home/jtabalon/anaconda3/envs/tf_airway/lib/python3.9/site-packages/tensorflow/python/keras/saving/saved_model/save.py?line=91'>92</a>\u001b[0m   model\u001b[39m.\u001b[39moptimizer \u001b[39m=\u001b[39m orig_optimizer\n",
      "File \u001b[0;32m~/anaconda3/envs/tf_airway/lib/python3.9/site-packages/tensorflow/python/saved_model/save.py:1041\u001b[0m, in \u001b[0;36msave\u001b[0;34m(obj, export_dir, signatures, options)\u001b[0m\n\u001b[1;32m   <a href='file:///home/jtabalon/anaconda3/envs/tf_airway/lib/python3.9/site-packages/tensorflow/python/saved_model/save.py?line=1037'>1038</a>\u001b[0m utils_impl\u001b[39m.\u001b[39mget_or_create_variables_dir(export_dir)\n\u001b[1;32m   <a href='file:///home/jtabalon/anaconda3/envs/tf_airway/lib/python3.9/site-packages/tensorflow/python/saved_model/save.py?line=1038'>1039</a>\u001b[0m ckpt_options \u001b[39m=\u001b[39m checkpoint_options\u001b[39m.\u001b[39mCheckpointOptions(\n\u001b[1;32m   <a href='file:///home/jtabalon/anaconda3/envs/tf_airway/lib/python3.9/site-packages/tensorflow/python/saved_model/save.py?line=1039'>1040</a>\u001b[0m     experimental_io_device\u001b[39m=\u001b[39moptions\u001b[39m.\u001b[39mexperimental_io_device)\n\u001b[0;32m-> <a href='file:///home/jtabalon/anaconda3/envs/tf_airway/lib/python3.9/site-packages/tensorflow/python/saved_model/save.py?line=1040'>1041</a>\u001b[0m object_saver\u001b[39m.\u001b[39;49msave(\n\u001b[1;32m   <a href='file:///home/jtabalon/anaconda3/envs/tf_airway/lib/python3.9/site-packages/tensorflow/python/saved_model/save.py?line=1041'>1042</a>\u001b[0m     utils_impl\u001b[39m.\u001b[39;49mget_variables_path(export_dir), options\u001b[39m=\u001b[39;49mckpt_options)\n\u001b[1;32m   <a href='file:///home/jtabalon/anaconda3/envs/tf_airway/lib/python3.9/site-packages/tensorflow/python/saved_model/save.py?line=1042'>1043</a>\u001b[0m builder_impl\u001b[39m.\u001b[39mcopy_assets_to_destination_dir(asset_info\u001b[39m.\u001b[39masset_filename_map,\n\u001b[1;32m   <a href='file:///home/jtabalon/anaconda3/envs/tf_airway/lib/python3.9/site-packages/tensorflow/python/saved_model/save.py?line=1043'>1044</a>\u001b[0m                                             export_dir)\n\u001b[1;32m   <a href='file:///home/jtabalon/anaconda3/envs/tf_airway/lib/python3.9/site-packages/tensorflow/python/saved_model/save.py?line=1044'>1045</a>\u001b[0m \u001b[39m# Note that this needs to be the last file operation when saving the\u001b[39;00m\n\u001b[1;32m   <a href='file:///home/jtabalon/anaconda3/envs/tf_airway/lib/python3.9/site-packages/tensorflow/python/saved_model/save.py?line=1045'>1046</a>\u001b[0m \u001b[39m# SavedModel. Users rely on checking saved_model_dir/saved_model.pb as an\u001b[39;00m\n\u001b[1;32m   <a href='file:///home/jtabalon/anaconda3/envs/tf_airway/lib/python3.9/site-packages/tensorflow/python/saved_model/save.py?line=1046'>1047</a>\u001b[0m \u001b[39m# indication that the SavedModel is completely written.\u001b[39;00m\n",
      "File \u001b[0;32m~/anaconda3/envs/tf_airway/lib/python3.9/site-packages/tensorflow/python/training/tracking/util.py:1216\u001b[0m, in \u001b[0;36mTrackableSaver.save\u001b[0;34m(self, file_prefix, checkpoint_number, session, options)\u001b[0m\n\u001b[1;32m   <a href='file:///home/jtabalon/anaconda3/envs/tf_airway/lib/python3.9/site-packages/tensorflow/python/training/tracking/util.py?line=1212'>1213</a>\u001b[0m   object_graph_tensor \u001b[39m=\u001b[39m \u001b[39mNone\u001b[39;00m\n\u001b[1;32m   <a href='file:///home/jtabalon/anaconda3/envs/tf_airway/lib/python3.9/site-packages/tensorflow/python/training/tracking/util.py?line=1214'>1215</a>\u001b[0m file_io\u001b[39m.\u001b[39mrecursive_create_dir(os\u001b[39m.\u001b[39mpath\u001b[39m.\u001b[39mdirname(file_prefix))\n\u001b[0;32m-> <a href='file:///home/jtabalon/anaconda3/envs/tf_airway/lib/python3.9/site-packages/tensorflow/python/training/tracking/util.py?line=1215'>1216</a>\u001b[0m save_path, new_feed_additions \u001b[39m=\u001b[39m \u001b[39mself\u001b[39;49m\u001b[39m.\u001b[39;49m_save_cached_when_graph_building(\n\u001b[1;32m   <a href='file:///home/jtabalon/anaconda3/envs/tf_airway/lib/python3.9/site-packages/tensorflow/python/training/tracking/util.py?line=1216'>1217</a>\u001b[0m     file_prefix_tensor, object_graph_tensor, options)\n\u001b[1;32m   <a href='file:///home/jtabalon/anaconda3/envs/tf_airway/lib/python3.9/site-packages/tensorflow/python/training/tracking/util.py?line=1217'>1218</a>\u001b[0m \u001b[39mif\u001b[39;00m new_feed_additions:\n\u001b[1;32m   <a href='file:///home/jtabalon/anaconda3/envs/tf_airway/lib/python3.9/site-packages/tensorflow/python/training/tracking/util.py?line=1218'>1219</a>\u001b[0m   feed_dict\u001b[39m.\u001b[39mupdate(new_feed_additions)\n",
      "File \u001b[0;32m~/anaconda3/envs/tf_airway/lib/python3.9/site-packages/tensorflow/python/training/tracking/util.py:1162\u001b[0m, in \u001b[0;36mTrackableSaver._save_cached_when_graph_building\u001b[0;34m(self, file_prefix, object_graph_tensor, options)\u001b[0m\n\u001b[1;32m   <a href='file:///home/jtabalon/anaconda3/envs/tf_airway/lib/python3.9/site-packages/tensorflow/python/training/tracking/util.py?line=1154'>1155</a>\u001b[0m \u001b[39mif\u001b[39;00m (\u001b[39mself\u001b[39m\u001b[39m.\u001b[39m_last_save_object_graph \u001b[39m!=\u001b[39m graph_proto\n\u001b[1;32m   <a href='file:///home/jtabalon/anaconda3/envs/tf_airway/lib/python3.9/site-packages/tensorflow/python/training/tracking/util.py?line=1155'>1156</a>\u001b[0m     \u001b[39m# When executing eagerly, we need to re-create SaveableObjects each time\u001b[39;00m\n\u001b[1;32m   <a href='file:///home/jtabalon/anaconda3/envs/tf_airway/lib/python3.9/site-packages/tensorflow/python/training/tracking/util.py?line=1156'>1157</a>\u001b[0m     \u001b[39m# save() is called so they pick up new Tensors passed to their\u001b[39;00m\n\u001b[1;32m   <a href='file:///home/jtabalon/anaconda3/envs/tf_airway/lib/python3.9/site-packages/tensorflow/python/training/tracking/util.py?line=1157'>1158</a>\u001b[0m     \u001b[39m# constructors. That means the Saver needs to be copied with a new\u001b[39;00m\n\u001b[1;32m   <a href='file:///home/jtabalon/anaconda3/envs/tf_airway/lib/python3.9/site-packages/tensorflow/python/training/tracking/util.py?line=1158'>1159</a>\u001b[0m     \u001b[39m# var_list.\u001b[39;00m\n\u001b[1;32m   <a href='file:///home/jtabalon/anaconda3/envs/tf_airway/lib/python3.9/site-packages/tensorflow/python/training/tracking/util.py?line=1159'>1160</a>\u001b[0m     \u001b[39mor\u001b[39;00m context\u001b[39m.\u001b[39mexecuting_eagerly() \u001b[39mor\u001b[39;00m ops\u001b[39m.\u001b[39minside_function()):\n\u001b[1;32m   <a href='file:///home/jtabalon/anaconda3/envs/tf_airway/lib/python3.9/site-packages/tensorflow/python/training/tracking/util.py?line=1160'>1161</a>\u001b[0m   saver \u001b[39m=\u001b[39m functional_saver\u001b[39m.\u001b[39mMultiDeviceSaver(named_saveable_objects)\n\u001b[0;32m-> <a href='file:///home/jtabalon/anaconda3/envs/tf_airway/lib/python3.9/site-packages/tensorflow/python/training/tracking/util.py?line=1161'>1162</a>\u001b[0m   save_op \u001b[39m=\u001b[39m saver\u001b[39m.\u001b[39;49msave(file_prefix, options\u001b[39m=\u001b[39;49moptions)\n\u001b[1;32m   <a href='file:///home/jtabalon/anaconda3/envs/tf_airway/lib/python3.9/site-packages/tensorflow/python/training/tracking/util.py?line=1162'>1163</a>\u001b[0m   \u001b[39mwith\u001b[39;00m ops\u001b[39m.\u001b[39mdevice(\u001b[39m\"\u001b[39m\u001b[39m/cpu:0\u001b[39m\u001b[39m\"\u001b[39m):\n\u001b[1;32m   <a href='file:///home/jtabalon/anaconda3/envs/tf_airway/lib/python3.9/site-packages/tensorflow/python/training/tracking/util.py?line=1163'>1164</a>\u001b[0m     \u001b[39mwith\u001b[39;00m ops\u001b[39m.\u001b[39mcontrol_dependencies([save_op]):\n",
      "File \u001b[0;32m~/anaconda3/envs/tf_airway/lib/python3.9/site-packages/tensorflow/python/training/saving/functional_saver.py:300\u001b[0m, in \u001b[0;36mMultiDeviceSaver.save\u001b[0;34m(self, file_prefix, options)\u001b[0m\n\u001b[1;32m    <a href='file:///home/jtabalon/anaconda3/envs/tf_airway/lib/python3.9/site-packages/tensorflow/python/training/saving/functional_saver.py?line=297'>298</a>\u001b[0m   tf_function_save()\n\u001b[1;32m    <a href='file:///home/jtabalon/anaconda3/envs/tf_airway/lib/python3.9/site-packages/tensorflow/python/training/saving/functional_saver.py?line=298'>299</a>\u001b[0m \u001b[39melse\u001b[39;00m:\n\u001b[0;32m--> <a href='file:///home/jtabalon/anaconda3/envs/tf_airway/lib/python3.9/site-packages/tensorflow/python/training/saving/functional_saver.py?line=299'>300</a>\u001b[0m   \u001b[39mreturn\u001b[39;00m save_fn()\n",
      "File \u001b[0;32m~/anaconda3/envs/tf_airway/lib/python3.9/site-packages/tensorflow/python/training/saving/functional_saver.py:286\u001b[0m, in \u001b[0;36mMultiDeviceSaver.save.<locals>.save_fn\u001b[0;34m()\u001b[0m\n\u001b[1;32m    <a href='file:///home/jtabalon/anaconda3/envs/tf_airway/lib/python3.9/site-packages/tensorflow/python/training/saving/functional_saver.py?line=278'>279</a>\u001b[0m merge_device \u001b[39m=\u001b[39m (\n\u001b[1;32m    <a href='file:///home/jtabalon/anaconda3/envs/tf_airway/lib/python3.9/site-packages/tensorflow/python/training/saving/functional_saver.py?line=279'>280</a>\u001b[0m     options\u001b[39m.\u001b[39mexperimental_io_device \u001b[39mor\u001b[39;00m\n\u001b[1;32m    <a href='file:///home/jtabalon/anaconda3/envs/tf_airway/lib/python3.9/site-packages/tensorflow/python/training/saving/functional_saver.py?line=280'>281</a>\u001b[0m     saveable_object_util\u001b[39m.\u001b[39mset_cpu0(last_device))\n\u001b[1;32m    <a href='file:///home/jtabalon/anaconda3/envs/tf_airway/lib/python3.9/site-packages/tensorflow/python/training/saving/functional_saver.py?line=281'>282</a>\u001b[0m \u001b[39mwith\u001b[39;00m ops\u001b[39m.\u001b[39mdevice(merge_device):\n\u001b[1;32m    <a href='file:///home/jtabalon/anaconda3/envs/tf_airway/lib/python3.9/site-packages/tensorflow/python/training/saving/functional_saver.py?line=282'>283</a>\u001b[0m   \u001b[39m# V2 format write path consists of a metadata merge step.  Once\u001b[39;00m\n\u001b[1;32m    <a href='file:///home/jtabalon/anaconda3/envs/tf_airway/lib/python3.9/site-packages/tensorflow/python/training/saving/functional_saver.py?line=283'>284</a>\u001b[0m   \u001b[39m# merged, attempts to delete the temporary directory,\u001b[39;00m\n\u001b[1;32m    <a href='file:///home/jtabalon/anaconda3/envs/tf_airway/lib/python3.9/site-packages/tensorflow/python/training/saving/functional_saver.py?line=284'>285</a>\u001b[0m   \u001b[39m# \"<user-fed prefix>_temp\".\u001b[39;00m\n\u001b[0;32m--> <a href='file:///home/jtabalon/anaconda3/envs/tf_airway/lib/python3.9/site-packages/tensorflow/python/training/saving/functional_saver.py?line=285'>286</a>\u001b[0m   \u001b[39mreturn\u001b[39;00m gen_io_ops\u001b[39m.\u001b[39;49mmerge_v2_checkpoints(\n\u001b[1;32m    <a href='file:///home/jtabalon/anaconda3/envs/tf_airway/lib/python3.9/site-packages/tensorflow/python/training/saving/functional_saver.py?line=286'>287</a>\u001b[0m       sharded_prefixes, file_prefix, delete_old_dirs\u001b[39m=\u001b[39;49m\u001b[39mTrue\u001b[39;49;00m)\n",
      "File \u001b[0;32m~/anaconda3/envs/tf_airway/lib/python3.9/site-packages/tensorflow/python/ops/gen_io_ops.py:502\u001b[0m, in \u001b[0;36mmerge_v2_checkpoints\u001b[0;34m(checkpoint_prefixes, destination_prefix, delete_old_dirs, name)\u001b[0m\n\u001b[1;32m    <a href='file:///home/jtabalon/anaconda3/envs/tf_airway/lib/python3.9/site-packages/tensorflow/python/ops/gen_io_ops.py?line=499'>500</a>\u001b[0m   \u001b[39mpass\u001b[39;00m\n\u001b[1;32m    <a href='file:///home/jtabalon/anaconda3/envs/tf_airway/lib/python3.9/site-packages/tensorflow/python/ops/gen_io_ops.py?line=500'>501</a>\u001b[0m \u001b[39mtry\u001b[39;00m:\n\u001b[0;32m--> <a href='file:///home/jtabalon/anaconda3/envs/tf_airway/lib/python3.9/site-packages/tensorflow/python/ops/gen_io_ops.py?line=501'>502</a>\u001b[0m   \u001b[39mreturn\u001b[39;00m merge_v2_checkpoints_eager_fallback(\n\u001b[1;32m    <a href='file:///home/jtabalon/anaconda3/envs/tf_airway/lib/python3.9/site-packages/tensorflow/python/ops/gen_io_ops.py?line=502'>503</a>\u001b[0m       checkpoint_prefixes, destination_prefix,\n\u001b[1;32m    <a href='file:///home/jtabalon/anaconda3/envs/tf_airway/lib/python3.9/site-packages/tensorflow/python/ops/gen_io_ops.py?line=503'>504</a>\u001b[0m       delete_old_dirs\u001b[39m=\u001b[39;49mdelete_old_dirs, name\u001b[39m=\u001b[39;49mname, ctx\u001b[39m=\u001b[39;49m_ctx)\n\u001b[1;32m    <a href='file:///home/jtabalon/anaconda3/envs/tf_airway/lib/python3.9/site-packages/tensorflow/python/ops/gen_io_ops.py?line=504'>505</a>\u001b[0m \u001b[39mexcept\u001b[39;00m _core\u001b[39m.\u001b[39m_SymbolicException:\n\u001b[1;32m    <a href='file:///home/jtabalon/anaconda3/envs/tf_airway/lib/python3.9/site-packages/tensorflow/python/ops/gen_io_ops.py?line=505'>506</a>\u001b[0m   \u001b[39mpass\u001b[39;00m  \u001b[39m# Add nodes to the TensorFlow graph.\u001b[39;00m\n",
      "File \u001b[0;32m~/anaconda3/envs/tf_airway/lib/python3.9/site-packages/tensorflow/python/ops/gen_io_ops.py:527\u001b[0m, in \u001b[0;36mmerge_v2_checkpoints_eager_fallback\u001b[0;34m(checkpoint_prefixes, destination_prefix, delete_old_dirs, name, ctx)\u001b[0m\n\u001b[1;32m    <a href='file:///home/jtabalon/anaconda3/envs/tf_airway/lib/python3.9/site-packages/tensorflow/python/ops/gen_io_ops.py?line=524'>525</a>\u001b[0m _inputs_flat \u001b[39m=\u001b[39m [checkpoint_prefixes, destination_prefix]\n\u001b[1;32m    <a href='file:///home/jtabalon/anaconda3/envs/tf_airway/lib/python3.9/site-packages/tensorflow/python/ops/gen_io_ops.py?line=525'>526</a>\u001b[0m _attrs \u001b[39m=\u001b[39m (\u001b[39m\"\u001b[39m\u001b[39mdelete_old_dirs\u001b[39m\u001b[39m\"\u001b[39m, delete_old_dirs)\n\u001b[0;32m--> <a href='file:///home/jtabalon/anaconda3/envs/tf_airway/lib/python3.9/site-packages/tensorflow/python/ops/gen_io_ops.py?line=526'>527</a>\u001b[0m _result \u001b[39m=\u001b[39m _execute\u001b[39m.\u001b[39;49mexecute(\u001b[39mb\u001b[39;49m\u001b[39m\"\u001b[39;49m\u001b[39mMergeV2Checkpoints\u001b[39;49m\u001b[39m\"\u001b[39;49m, \u001b[39m0\u001b[39;49m, inputs\u001b[39m=\u001b[39;49m_inputs_flat,\n\u001b[1;32m    <a href='file:///home/jtabalon/anaconda3/envs/tf_airway/lib/python3.9/site-packages/tensorflow/python/ops/gen_io_ops.py?line=527'>528</a>\u001b[0m                            attrs\u001b[39m=\u001b[39;49m_attrs, ctx\u001b[39m=\u001b[39;49mctx, name\u001b[39m=\u001b[39;49mname)\n\u001b[1;32m    <a href='file:///home/jtabalon/anaconda3/envs/tf_airway/lib/python3.9/site-packages/tensorflow/python/ops/gen_io_ops.py?line=528'>529</a>\u001b[0m _result \u001b[39m=\u001b[39m \u001b[39mNone\u001b[39;00m\n\u001b[1;32m    <a href='file:///home/jtabalon/anaconda3/envs/tf_airway/lib/python3.9/site-packages/tensorflow/python/ops/gen_io_ops.py?line=529'>530</a>\u001b[0m \u001b[39mreturn\u001b[39;00m _result\n",
      "File \u001b[0;32m~/anaconda3/envs/tf_airway/lib/python3.9/site-packages/tensorflow/python/eager/execute.py:59\u001b[0m, in \u001b[0;36mquick_execute\u001b[0;34m(op_name, num_outputs, inputs, attrs, ctx, name)\u001b[0m\n\u001b[1;32m     <a href='file:///home/jtabalon/anaconda3/envs/tf_airway/lib/python3.9/site-packages/tensorflow/python/eager/execute.py?line=56'>57</a>\u001b[0m \u001b[39mtry\u001b[39;00m:\n\u001b[1;32m     <a href='file:///home/jtabalon/anaconda3/envs/tf_airway/lib/python3.9/site-packages/tensorflow/python/eager/execute.py?line=57'>58</a>\u001b[0m   ctx\u001b[39m.\u001b[39mensure_initialized()\n\u001b[0;32m---> <a href='file:///home/jtabalon/anaconda3/envs/tf_airway/lib/python3.9/site-packages/tensorflow/python/eager/execute.py?line=58'>59</a>\u001b[0m   tensors \u001b[39m=\u001b[39m pywrap_tfe\u001b[39m.\u001b[39;49mTFE_Py_Execute(ctx\u001b[39m.\u001b[39;49m_handle, device_name, op_name,\n\u001b[1;32m     <a href='file:///home/jtabalon/anaconda3/envs/tf_airway/lib/python3.9/site-packages/tensorflow/python/eager/execute.py?line=59'>60</a>\u001b[0m                                       inputs, attrs, num_outputs)\n\u001b[1;32m     <a href='file:///home/jtabalon/anaconda3/envs/tf_airway/lib/python3.9/site-packages/tensorflow/python/eager/execute.py?line=60'>61</a>\u001b[0m \u001b[39mexcept\u001b[39;00m core\u001b[39m.\u001b[39m_NotOkStatusException \u001b[39mas\u001b[39;00m e:\n\u001b[1;32m     <a href='file:///home/jtabalon/anaconda3/envs/tf_airway/lib/python3.9/site-packages/tensorflow/python/eager/execute.py?line=61'>62</a>\u001b[0m   \u001b[39mif\u001b[39;00m name \u001b[39mis\u001b[39;00m \u001b[39mnot\u001b[39;00m \u001b[39mNone\u001b[39;00m:\n",
      "\u001b[0;31mKeyboardInterrupt\u001b[0m: "
     ]
    }
   ],
   "source": [
    "# TODO: fix validation loop.\n",
    "# TODO: fix steps per epoch\n",
    "\n",
    "model.fit(x=training_generator, \\\n",
    "#      validation_data=valid_generator, \\\n",
    "#      validation_batch_size=2, \\\n",
    "#      validation_freq=5, \\\n",
    "     steps_per_epoch=2, \\\n",
    "      epochs=1000,\n",
    "      callbacks=[model_checkpoint_callback])"
   ]
  },
  {
   "cell_type": "code",
   "execution_count": null,
   "metadata": {},
   "outputs": [],
   "source": [
    "ct_path = \"/home/jtabalon/airway_seg/test_data/ct_patients10004O.nii\"\n",
    "aw_path = \"/home/jtabalon/airway_seg/test_data/aw_10004O.nii\"\n",
    "\n",
    "img = nib.load(ct_path).get_fdata() / 2000.\n",
    "mask = nib.load(aw_path).get_fdata()\n",
    "\n",
    "test_img = np.expand_dims(np.expand_dims(img, -1), 0)\n",
    "test_mask = np.expand_dims(np.expand_dims(mask, -1), 0)"
   ]
  },
  {
   "cell_type": "code",
   "execution_count": null,
   "metadata": {},
   "outputs": [],
   "source": [
    "# TODO configure prediction section\n",
    "#prediction = model.predict(test_img)"
   ]
  },
  {
   "cell_type": "code",
   "execution_count": null,
   "metadata": {},
   "outputs": [
    {
     "data": {
      "text/plain": [
       "0"
      ]
     },
     "execution_count": 174,
     "metadata": {},
     "output_type": "execute_result"
    }
   ],
   "source": [
    "# np.argmax(np.sum(prediction[0,:,:,:,0]))"
   ]
  },
  {
   "cell_type": "code",
   "execution_count": null,
   "metadata": {},
   "outputs": [],
   "source": [
    "# For visualizing distribution of mask\n",
    "# plt.hist(img_change.flatten())\n",
    "# plt.hist(label_change.flatten())"
   ]
  },
  {
   "cell_type": "code",
   "execution_count": null,
   "metadata": {},
   "outputs": [
    {
     "data": {
      "text/plain": [
       "<matplotlib.image.AxesImage at 0x7f1da86142e0>"
      ]
     },
     "execution_count": 175,
     "metadata": {},
     "output_type": "execute_result"
    },
    {
     "data": {
      "image/png": "[encoded data removed]",
      "text/plain": [
       "<Figure size 432x288 with 1 Axes>"
      ]
     },
     "metadata": {
      "needs_background": "light"
     },
     "output_type": "display_data"
    }
   ],
   "source": [
    "# plt.imshow(prediction[0,:,:,0,0])"
   ]
  },
  {
   "cell_type": "code",
   "execution_count": null,
   "metadata": {},
   "outputs": [
    {
     "data": {
      "text/plain": [
       "<matplotlib.image.AxesImage at 0x7f1da85f6400>"
      ]
     },
     "execution_count": 176,
     "metadata": {},
     "output_type": "execute_result"
    },
    {
     "data": {
      "image/png": "[encoded data removed]",
      "text/plain": [
       "<Figure size 432x288 with 1 Axes>"
      ]
     },
     "metadata": {
      "needs_background": "light"
     },
     "output_type": "display_data"
    }
   ],
   "source": [
    "# plt.imshow(test_mask[0,:,:,32,0])"
   ]
  }
 ],
 "metadata": {
  "interpreter": {
   "hash": "9059a93f5d5beb21997891154bf5fa1a9f65ccdfc10ceb74be4f34e345aa7518"
  },
  "kernelspec": {
   "display_name": "Python 3",
   "language": "python",
   "name": "python3"
  },
  "language_info": {
   "codemirror_mode": {
    "name": "ipython",
    "version": 3
   },
   "file_extension": ".py",
   "mimetype": "text/x-python",
   "name": "python",
   "nbconvert_exporter": "python",
   "pygments_lexer": "ipython3",
   "version": "3.9.7"
  }
 },
 "nbformat": 4,
 "nbformat_minor": 2
}
