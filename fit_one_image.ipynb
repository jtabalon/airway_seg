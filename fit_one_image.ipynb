{
 "cells": [
  {
   "cell_type": "code",
   "execution_count": 48,
   "metadata": {},
   "outputs": [],
   "source": [
    "os.environ[\"CUDA_DEVICE_ORDER\"] = \"PCI_BUS_ID\"   # see issue #152\n",
    "os.environ[\"CUDA_VISIBLE_DEVICES\"] = \"0\""
   ]
  },
  {
   "cell_type": "code",
   "execution_count": 32,
   "metadata": {},
   "outputs": [],
   "source": [
    "import os\n",
    "import numpy as np\n",
    "import matplotlib.pyplot as plt\n",
    "import nibabel as nib\n",
    "\n",
    "\"\"\" DL imports \"\"\"\n",
    "\n",
    "import tensorflow as tf\n",
    "from tensorflow.keras import layers\n",
    "from tensorflow.keras.models import Model\n",
    "from tensorflow.keras.models import *\n",
    "from tensorflow.keras.layers import *\n",
    "from tensorflow.keras.optimizers import *\n",
    "from tensorflow.keras.callbacks import ModelCheckpoint, LearningRateScheduler\n",
    "from tensorflow.keras import backend as keras\n",
    "from tensorflow.keras import Input"
   ]
  },
  {
   "cell_type": "markdown",
   "metadata": {},
   "source": [
    "# Data Generator"
   ]
  },
  {
   "cell_type": "code",
   "execution_count": 44,
   "metadata": {},
   "outputs": [],
   "source": [
    "def data_generator(ids, data_dir, batch_size=1, patch_size=64, shuffle=True):\n",
    "    while True:\n",
    "        # Set seed\n",
    "        # np.random.seed(42)   \n",
    "\n",
    "        # if shuffle:\n",
    "        #     np.random.shuffle(ids)\n",
    "        # num_batches = len(id) / batch_size\n",
    "\n",
    "        patch_distance = int(patch_size / 2)\n",
    "\n",
    "        for patient_id in ids:\n",
    "            # Read in image\n",
    "\n",
    "            img_dir = data_dir + \"/ct/ct_patients\" + str(patient_id) + \".nii\"\n",
    "            mask_dir = data_dir + \"/labels/aw_\" + str(patient_id) + \".nii\"\n",
    "\n",
    "            img = nib.load(img_dir).get_fdata() / 2000.\n",
    "            mask = nib.load(mask_dir).get_fdata()\n",
    "\n",
    "            row_dim = img.shape[0]\n",
    "            column_dim = img.shape[1]\n",
    "            slice_dim = img.shape[2]\n",
    "\n",
    "            # Define mask to randomly find patch midpoint within bounds of patch distance\n",
    "            working_mask = mask[patch_distance:(row_dim-patch_distance), \\\n",
    "                            patch_distance:(column_dim-patch_distance), \\\n",
    "                            patch_distance:(slice_dim-patch_distance)]\n",
    "\n",
    "            # Iterate through slices\n",
    "            slices = np.sum(working_mask, axis=(0,1))\n",
    "\n",
    "            # Find slices which contain mask\n",
    "            slices_with_airway = [i for i in range(0, len(slices)) if slices[i] > 0] # Potentially tune this 0 hyper parameter\n",
    "\n",
    "            # Randomly find slice\n",
    "            random_slice_index = np.random.randint(0, len(slices_with_airway)) # in small 3d... \n",
    "            random_slice = slices_with_airway[random_slice_index]\n",
    "\n",
    "            # Find columns which contain mask\n",
    "            row_column_locations = np.where(working_mask[:,:,random_slice] > 0)\n",
    "            num_mask_voxels = len(row_column_locations[0]) \n",
    "\n",
    "            # Randomly find row + column\n",
    "            random_row_column_index = np.random.randint(0, num_mask_voxels)\n",
    "            random_row = row_column_locations[0][random_row_column_index]\n",
    "            random_column = row_column_locations[1][random_row_column_index]\n",
    "\n",
    "            # Adjust voxel coordinates for larger image\n",
    "            adjusted_row = random_row + patch_distance\n",
    "            adjusted_column = random_column + patch_distance\n",
    "            adjusted_slice = random_slice + patch_distance\n",
    "\n",
    "            # Final voxel coordinates       \n",
    "            voxel_coordinates = (adjusted_row, adjusted_column, adjusted_slice)\n",
    "\n",
    "            # Index based on specified patch distance\n",
    "            indexed_patch_img = img[(adjusted_row-patch_distance):(adjusted_row+patch_distance), \\\n",
    "                    (adjusted_column-patch_distance):(adjusted_column+patch_distance), \\\n",
    "                    (adjusted_slice-patch_distance):(adjusted_slice+patch_distance)]\n",
    "\n",
    "            indexed_patch_label = mask[(adjusted_row-patch_distance):(adjusted_row+patch_distance), \\\n",
    "                            (adjusted_column-patch_distance):(adjusted_column+patch_distance), \\\n",
    "                            (adjusted_slice-patch_distance):(adjusted_slice+patch_distance)]\n",
    "\n",
    "            # Add patient and channel\n",
    "            patch_img = np.expand_dims(np.expand_dims(indexed_patch_img, -1), 0)\n",
    "            patch_mask = np.expand_dims(np.expand_dims(indexed_patch_label, -1), 0)\n",
    "\n",
    "            final_patch_img = tf.convert_to_tensor(patch_img)\n",
    "            final_patch_mask = tf.convert_to_tensor(patch_mask)\n",
    "\n",
    "            yield (final_patch_img, final_patch_mask)"
   ]
  },
  {
   "cell_type": "markdown",
   "metadata": {},
   "source": [
    "# Model Creation"
   ]
  },
  {
   "cell_type": "code",
   "execution_count": 46,
   "metadata": {},
   "outputs": [],
   "source": [
    "nb_enc_features = [32, 64, 64, 64]\n",
    "nb_dec_features = [64, 64, 64, 64, 64, 32, 32]"
   ]
  },
  {
   "cell_type": "code",
   "execution_count": 47,
   "metadata": {},
   "outputs": [],
   "source": [
    "# Hyperparameter Tuning\n",
    "batch_size = 1  \n",
    "learning_rate = 1e-5 # TODO: 1e-4: stuck at local minima... try with more data?"
   ]
  },
  {
   "cell_type": "code",
   "execution_count": 49,
   "metadata": {},
   "outputs": [],
   "source": [
    "def unet(pretrained_weights = None,input_size = (256,256,1)):\n",
    "    inputs = Input(input_size)\n",
    "    conv1 = Conv3D(64, 3, activation = 'relu', padding = 'same', kernel_initializer = 'he_normal')(inputs)\n",
    "    conv1 = Conv3D(64, 3, activation = 'relu', padding = 'same', kernel_initializer = 'he_normal')(conv1)\n",
    "    pool1 = MaxPooling3D(pool_size=(2, 2, 2))(conv1)\n",
    "    print(pool1)\n",
    "    conv2 = Conv3D(128, 3, activation = 'relu', padding = 'same', kernel_initializer = 'he_normal')(pool1)\n",
    "    conv2 = Conv3D(128, 3, activation = 'relu', padding = 'same', kernel_initializer = 'he_normal')(conv2)\n",
    "    pool2 = MaxPooling3D(pool_size=(2, 2, 2))(conv2)\n",
    "    print(pool2)\n",
    "    conv3 = Conv3D(256, 3, activation = 'relu', padding = 'same', kernel_initializer = 'he_normal')(pool2)\n",
    "    conv3 = Conv3D(256, 3, activation = 'relu', padding = 'same', kernel_initializer = 'he_normal')(conv3)\n",
    "    pool3 = MaxPooling3D(pool_size=(2, 2, 2))(conv3)\n",
    "    print(pool3)\n",
    "    conv4 = Conv3D(512, 3, activation = 'relu', padding = 'same', kernel_initializer = 'he_normal')(pool3)\n",
    "    conv4 = Conv3D(512, 3, activation = 'relu', padding = 'same', kernel_initializer = 'he_normal')(conv4)\n",
    "    drop4 = Dropout(0.5)(conv4)\n",
    "    pool4 = MaxPooling3D(pool_size=(2, 2, 2))(drop4)\n",
    "    print(pool4)\n",
    "\n",
    "    conv5 = Conv3D(1024, 3, activation = 'relu', padding = 'same', kernel_initializer = 'he_normal')(pool4)\n",
    "    conv5 = Conv3D(1024, 3, activation = 'relu', padding = 'same', kernel_initializer = 'he_normal')(conv5)\n",
    "    drop5 = Dropout(0.5)(conv5)\n",
    "\n",
    "    up6 = Conv3D(512, 2, activation = 'relu', padding = 'same', kernel_initializer = 'he_normal')(UpSampling3D(size = (2,2,2))(drop5))\n",
    "    merge6 = concatenate([drop4,up6], axis = -1)\n",
    "    conv6 = Conv3D(512, 3, activation = 'relu', padding = 'same', kernel_initializer = 'he_normal')(merge6)\n",
    "    conv6 = Conv3D(512, 3, activation = 'relu', padding = 'same', kernel_initializer = 'he_normal')(conv6)\n",
    "\n",
    "    up7 = Conv3D(256, 2, activation = 'relu', padding = 'same', kernel_initializer = 'he_normal')(UpSampling3D(size = (2,2,2))(conv6))\n",
    "    merge7 = concatenate([conv3,up7], axis = -1)\n",
    "    conv7 = Conv3D(256, 3, activation = 'relu', padding = 'same', kernel_initializer = 'he_normal')(merge7)\n",
    "    conv7 = Conv3D(256, 3, activation = 'relu', padding = 'same', kernel_initializer = 'he_normal')(conv7)\n",
    "\n",
    "    up8 = Conv3D(128, 2, activation = 'relu', padding = 'same', kernel_initializer = 'he_normal')(UpSampling3D(size = (2,2,2))(conv7))\n",
    "    merge8 = concatenate([conv2,up8], axis = -1)\n",
    "    conv8 = Conv3D(128, 3, activation = 'relu', padding = 'same', kernel_initializer = 'he_normal')(merge8)\n",
    "    conv8 = Conv3D(128, 3, activation = 'relu', padding = 'same', kernel_initializer = 'he_normal')(conv8)\n",
    "\n",
    "    up9 = Conv3D(64, 2, activation = 'relu', padding = 'same', kernel_initializer = 'he_normal')(UpSampling3D(size = (2,2,2))(conv8))\n",
    "    merge9 = concatenate([conv1,up9], axis = -1)\n",
    "    conv9 = Conv3D(64, 3, activation = 'relu', padding = 'same', kernel_initializer = 'he_normal')(merge9)\n",
    "    conv9 = Conv3D(64, 3, activation = 'relu', padding = 'same', kernel_initializer = 'he_normal')(conv9)\n",
    "    conv9 = Conv3D(2, 3, activation = 'relu', padding = 'same', kernel_initializer = 'he_normal')(conv9)\n",
    "    conv10 = Conv3D(1, 1, activation = 'sigmoid')(conv9)\n",
    "\n",
    "    model = Model(inputs, conv10)\n",
    "\n",
    "    return model"
   ]
  },
  {
   "cell_type": "code",
   "execution_count": 50,
   "metadata": {},
   "outputs": [],
   "source": [
    "# We'll leave the default branch of the git repo as a dice_loss for now until we get actually training.\n",
    "def dice_loss(y_true, y_pred):\n",
    "    numerator = 2 * tf.reduce_sum(y_true * y_pred)\n",
    "    denominator = tf.reduce_sum(y_true + y_pred)\n",
    "    return 1 - numerator / denominator"
   ]
  },
  {
   "cell_type": "code",
   "execution_count": 51,
   "metadata": {},
   "outputs": [],
   "source": [
    "def compile_model(learning_rate):\n",
    "    model.compile(optimizer = Adam(lr=learning_rate), loss = dice_loss)"
   ]
  },
  {
   "cell_type": "markdown",
   "metadata": {},
   "source": [
    "Next steps: \n",
    "- create data generator"
   ]
  },
  {
   "cell_type": "code",
   "execution_count": 52,
   "metadata": {},
   "outputs": [
    {
     "name": "stdout",
     "output_type": "stream",
     "text": [
      "KerasTensor(type_spec=TensorSpec(shape=(None, 32, 32, 32, 64), dtype=tf.float32, name=None), name='max_pooling3d_4/MaxPool3D:0', description=\"created by layer 'max_pooling3d_4'\")\n",
      "KerasTensor(type_spec=TensorSpec(shape=(None, 16, 16, 16, 128), dtype=tf.float32, name=None), name='max_pooling3d_5/MaxPool3D:0', description=\"created by layer 'max_pooling3d_5'\")\n",
      "KerasTensor(type_spec=TensorSpec(shape=(None, 8, 8, 8, 256), dtype=tf.float32, name=None), name='max_pooling3d_6/MaxPool3D:0', description=\"created by layer 'max_pooling3d_6'\")\n",
      "KerasTensor(type_spec=TensorSpec(shape=(None, 4, 4, 4, 512), dtype=tf.float32, name=None), name='max_pooling3d_7/MaxPool3D:0', description=\"created by layer 'max_pooling3d_7'\")\n"
     ]
    }
   ],
   "source": [
    "model = unet(input_size=(64,64,64, 1))\n",
    "compile_model(learning_rate)"
   ]
  },
  {
   "cell_type": "code",
   "execution_count": 53,
   "metadata": {},
   "outputs": [
    {
     "data": {
      "text/plain": [
       "<matplotlib.image.AxesImage at 0x7fb44a2298e0>"
      ]
     },
     "execution_count": 53,
     "metadata": {},
     "output_type": "execute_result"
    },
    {
     "data": {
      "image/png": "[encoded data removed]",
      "text/plain": [
       "<Figure size 432x288 with 1 Axes>"
      ]
     },
     "metadata": {
      "needs_background": "light"
     },
     "output_type": "display_data"
    }
   ],
   "source": [
    "plt.imshow(final_patch_mask[0,:,:,52,0] , cmap = \"gray\")"
   ]
  },
  {
   "cell_type": "code",
   "execution_count": 60,
   "metadata": {},
   "outputs": [],
   "source": [
    "train_ids = [\"10004O\", \"10055F\"] \n",
    "# train_ids = [\"10004O\"]\n",
    "valid_ids = [\"10023S\", \"10032T\"]\n",
    "train_dir = \"/home/jtabalon/airway_seg_data/train\"\n",
    "valid_dir = \"/home/jtabalon/airway_seg_data/valid\""
   ]
  },
  {
   "cell_type": "code",
   "execution_count": 61,
   "metadata": {},
   "outputs": [],
   "source": [
    "# TODO: Fix valid_generator.\n",
    "# TODO: Read entire training directory.\n",
    "training_generator = data_generator(train_ids, train_dir, batch_size=1, patch_size=64)\n",
    "valid_generator = data_generator(valid_ids, valid_dir, batch_size=1, patch_size=64)"
   ]
  },
  {
   "cell_type": "code",
   "execution_count": 65,
   "metadata": {},
   "outputs": [],
   "source": [
    "checkpoint_filepath = \"/home/jtabalon/ckpt_airway_seg\"\n",
    "model_checkpoint_callback = tf.keras.callbacks.ModelCheckpoint(\n",
    "    filepath=checkpoint_filepath,\n",
    "    save_best_only=True,\n",
    "    monitor=\"loss\",\n",
    "    # monitor=\"val_loss\"\n",
    ")"
   ]
  },
  {
   "cell_type": "code",
   "execution_count": 66,
   "metadata": {},
   "outputs": [
    {
     "name": "stdout",
     "output_type": "stream",
     "text": [
      "Epoch 1/1000\n",
      "2/2 [==============================] - 1s 620ms/step - loss: 0.9925\n"
     ]
    },
    {
     "name": "stderr",
     "output_type": "stream",
     "text": [
      "2022-03-26 17:54:50.506152: W tensorflow/python/util/util.cc:348] Sets are not currently considered sequences, but this may change in the future, so consider avoiding using them.\n"
     ]
    },
    {
     "name": "stdout",
     "output_type": "stream",
     "text": [
      "INFO:tensorflow:Assets written to: /home/jtabalon/ckpt_airway_seg/assets\n",
      "Epoch 2/1000\n",
      "2/2 [==============================] - 1s 673ms/step - loss: 0.9747\n",
      "INFO:tensorflow:Assets written to: /home/jtabalon/ckpt_airway_seg/assets\n",
      "Epoch 3/1000\n",
      "2/2 [==============================] - 1s 667ms/step - loss: 0.9908\n",
      "Epoch 4/1000\n",
      "2/2 [==============================] - 1s 669ms/step - loss: 0.8678\n",
      "INFO:tensorflow:Assets written to: /home/jtabalon/ckpt_airway_seg/assets\n",
      "Epoch 5/1000\n",
      "2/2 [==============================] - 1s 659ms/step - loss: 0.7457\n",
      "INFO:tensorflow:Assets written to: /home/jtabalon/ckpt_airway_seg/assets\n",
      "Epoch 6/1000\n",
      "2/2 [==============================] - 1s 666ms/step - loss: 0.8257\n",
      "Epoch 7/1000\n",
      "2/2 [==============================] - 1s 666ms/step - loss: 0.5956\n",
      "INFO:tensorflow:Assets written to: /home/jtabalon/ckpt_airway_seg/assets\n",
      "Epoch 8/1000\n",
      "2/2 [==============================] - 1s 674ms/step - loss: 0.9747\n",
      "Epoch 9/1000\n",
      "2/2 [==============================] - 1s 667ms/step - loss: 0.7631\n",
      "Epoch 10/1000\n",
      "2/2 [==============================] - 1s 670ms/step - loss: 0.9915\n",
      "Epoch 11/1000\n",
      "2/2 [==============================] - 1s 662ms/step - loss: 0.9718\n",
      "Epoch 12/1000\n",
      "2/2 [==============================] - 1s 669ms/step - loss: 0.9228\n",
      "Epoch 13/1000\n",
      "2/2 [==============================] - 1s 678ms/step - loss: 0.8343\n",
      "Epoch 14/1000\n",
      "2/2 [==============================] - 1s 662ms/step - loss: 0.7850\n",
      "Epoch 15/1000\n",
      "2/2 [==============================] - 1s 682ms/step - loss: 0.9781\n",
      "Epoch 16/1000\n",
      "2/2 [==============================] - 1s 670ms/step - loss: 0.7812\n",
      "Epoch 17/1000\n",
      "2/2 [==============================] - 1s 684ms/step - loss: 0.7545\n",
      "Epoch 18/1000\n",
      "2/2 [==============================] - 1s 666ms/step - loss: 0.9416\n",
      "Epoch 19/1000\n",
      "2/2 [==============================] - 1s 670ms/step - loss: 0.7884\n",
      "Epoch 20/1000\n",
      "2/2 [==============================] - 1s 668ms/step - loss: 0.8920\n",
      "Epoch 21/1000\n",
      "2/2 [==============================] - 1s 669ms/step - loss: 0.8117\n",
      "Epoch 22/1000\n",
      "2/2 [==============================] - 1s 669ms/step - loss: 0.6784\n",
      "Epoch 23/1000\n",
      "2/2 [==============================] - 1s 673ms/step - loss: 0.9169\n",
      "Epoch 24/1000\n",
      "2/2 [==============================] - 1s 675ms/step - loss: 0.9180\n",
      "Epoch 25/1000\n",
      "2/2 [==============================] - 1s 669ms/step - loss: 0.9459\n",
      "Epoch 26/1000\n",
      "2/2 [==============================] - 1s 669ms/step - loss: 0.9350\n",
      "Epoch 27/1000\n",
      "2/2 [==============================] - 1s 665ms/step - loss: 0.9407\n",
      "Epoch 28/1000\n",
      "2/2 [==============================] - 1s 670ms/step - loss: 0.6048\n",
      "Epoch 29/1000\n",
      "2/2 [==============================] - 1s 677ms/step - loss: 0.8044\n",
      "Epoch 30/1000\n",
      "2/2 [==============================] - 1s 673ms/step - loss: 0.5428\n",
      "INFO:tensorflow:Assets written to: /home/jtabalon/ckpt_airway_seg/assets\n",
      "Epoch 31/1000\n",
      "2/2 [==============================] - 1s 673ms/step - loss: 0.8404\n",
      "Epoch 32/1000\n",
      "2/2 [==============================] - 1s 673ms/step - loss: 0.8285\n",
      "Epoch 33/1000\n",
      "2/2 [==============================] - 1s 667ms/step - loss: 0.8901\n",
      "Epoch 34/1000\n",
      "2/2 [==============================] - 1s 669ms/step - loss: 0.9349\n",
      "Epoch 35/1000\n",
      "2/2 [==============================] - 1s 669ms/step - loss: 0.9242\n",
      "Epoch 36/1000\n",
      "2/2 [==============================] - 1s 666ms/step - loss: 0.8956\n",
      "Epoch 37/1000\n",
      "2/2 [==============================] - 1s 663ms/step - loss: 0.7488\n",
      "Epoch 38/1000\n",
      "2/2 [==============================] - 1s 677ms/step - loss: 0.7821\n",
      "Epoch 39/1000\n",
      "2/2 [==============================] - 1s 674ms/step - loss: 0.9306\n",
      "Epoch 40/1000\n",
      "2/2 [==============================] - 1s 683ms/step - loss: 0.9631\n",
      "Epoch 41/1000\n",
      "2/2 [==============================] - 1s 686ms/step - loss: 0.9380\n",
      "Epoch 42/1000\n",
      "2/2 [==============================] - 1s 677ms/step - loss: 0.6634\n",
      "Epoch 43/1000\n",
      "2/2 [==============================] - 1s 676ms/step - loss: 0.7035\n",
      "Epoch 44/1000\n",
      "2/2 [==============================] - 1s 674ms/step - loss: 0.7463\n",
      "Epoch 45/1000\n",
      "2/2 [==============================] - 1s 679ms/step - loss: 0.8303\n",
      "Epoch 46/1000\n",
      "2/2 [==============================] - 1s 682ms/step - loss: 0.9225\n",
      "Epoch 47/1000\n",
      "2/2 [==============================] - 1s 668ms/step - loss: 0.9803\n",
      "Epoch 48/1000\n",
      "2/2 [==============================] - 1s 693ms/step - loss: 0.9355\n",
      "Epoch 49/1000\n",
      "2/2 [==============================] - 1s 697ms/step - loss: 0.9463\n",
      "Epoch 50/1000\n",
      "2/2 [==============================] - 1s 684ms/step - loss: 0.8909\n",
      "Epoch 51/1000\n",
      "2/2 [==============================] - 1s 668ms/step - loss: 0.7966\n",
      "Epoch 52/1000\n",
      "2/2 [==============================] - 1s 672ms/step - loss: 0.9125\n",
      "Epoch 53/1000\n",
      "2/2 [==============================] - 1s 667ms/step - loss: 0.6684\n",
      "Epoch 54/1000\n",
      "2/2 [==============================] - 1s 680ms/step - loss: 0.9029\n",
      "Epoch 55/1000\n",
      "2/2 [==============================] - 1s 670ms/step - loss: 0.9390\n",
      "Epoch 56/1000\n",
      "2/2 [==============================] - 1s 665ms/step - loss: 0.8359\n",
      "Epoch 57/1000\n",
      "2/2 [==============================] - 1s 668ms/step - loss: 0.7085\n",
      "Epoch 58/1000\n",
      "2/2 [==============================] - 1s 665ms/step - loss: 0.7597\n",
      "Epoch 59/1000\n",
      "2/2 [==============================] - 1s 675ms/step - loss: 0.9740\n",
      "Epoch 60/1000\n",
      "2/2 [==============================] - 1s 670ms/step - loss: 0.9330\n",
      "Epoch 61/1000\n",
      "2/2 [==============================] - 1s 674ms/step - loss: 0.7931\n",
      "Epoch 62/1000\n",
      "2/2 [==============================] - 1s 677ms/step - loss: 0.7268\n",
      "Epoch 63/1000\n",
      "2/2 [==============================] - 1s 670ms/step - loss: 0.9150\n",
      "Epoch 64/1000\n",
      "2/2 [==============================] - 1s 679ms/step - loss: 0.8040\n",
      "Epoch 65/1000\n",
      "2/2 [==============================] - 1s 670ms/step - loss: 0.9080\n",
      "Epoch 66/1000\n",
      "2/2 [==============================] - 1s 670ms/step - loss: 0.9315\n",
      "Epoch 67/1000\n",
      "2/2 [==============================] - 1s 670ms/step - loss: 0.7207\n",
      "Epoch 68/1000\n",
      "2/2 [==============================] - 1s 676ms/step - loss: 0.4907\n",
      "INFO:tensorflow:Assets written to: /home/jtabalon/ckpt_airway_seg/assets\n",
      "Epoch 69/1000\n",
      "2/2 [==============================] - 1s 660ms/step - loss: 0.7626\n",
      "Epoch 70/1000\n",
      "2/2 [==============================] - 1s 670ms/step - loss: 0.8118\n",
      "Epoch 71/1000\n",
      "2/2 [==============================] - 1s 678ms/step - loss: 0.9784\n",
      "Epoch 72/1000\n",
      "2/2 [==============================] - 1s 677ms/step - loss: 0.8526\n",
      "Epoch 73/1000\n",
      "2/2 [==============================] - 1s 695ms/step - loss: 0.6726\n",
      "Epoch 74/1000\n",
      "2/2 [==============================] - 1s 673ms/step - loss: 0.9525\n",
      "Epoch 75/1000\n",
      "2/2 [==============================] - 1s 667ms/step - loss: 0.7855\n",
      "Epoch 76/1000\n",
      "2/2 [==============================] - 1s 667ms/step - loss: 0.9407\n",
      "Epoch 77/1000\n",
      "2/2 [==============================] - 1s 667ms/step - loss: 0.9505\n",
      "Epoch 78/1000\n",
      "2/2 [==============================] - 1s 674ms/step - loss: 0.9799\n",
      "Epoch 79/1000\n",
      "2/2 [==============================] - 1s 672ms/step - loss: 0.8338\n",
      "Epoch 80/1000\n",
      "2/2 [==============================] - 1s 677ms/step - loss: 0.8059\n",
      "Epoch 81/1000\n",
      "2/2 [==============================] - 1s 674ms/step - loss: 0.8925\n",
      "Epoch 82/1000\n",
      "2/2 [==============================] - 1s 663ms/step - loss: 0.6540\n",
      "Epoch 83/1000\n",
      "2/2 [==============================] - 1s 669ms/step - loss: 0.8529\n",
      "Epoch 84/1000\n",
      "2/2 [==============================] - 1s 673ms/step - loss: 0.5389\n",
      "Epoch 85/1000\n",
      "2/2 [==============================] - 1s 671ms/step - loss: 0.8939\n",
      "Epoch 86/1000\n",
      "2/2 [==============================] - 1s 673ms/step - loss: 0.7578\n",
      "Epoch 87/1000\n",
      "2/2 [==============================] - 1s 673ms/step - loss: 0.9381\n",
      "Epoch 88/1000\n",
      "2/2 [==============================] - 1s 682ms/step - loss: 0.6927\n",
      "Epoch 89/1000\n",
      "2/2 [==============================] - 1s 666ms/step - loss: 0.8129\n",
      "Epoch 90/1000\n",
      "2/2 [==============================] - 1s 677ms/step - loss: 0.5770\n",
      "Epoch 91/1000\n",
      "2/2 [==============================] - 1s 663ms/step - loss: 0.8227\n",
      "Epoch 92/1000\n",
      "2/2 [==============================] - 1s 664ms/step - loss: 0.9758\n",
      "Epoch 93/1000\n",
      "2/2 [==============================] - 1s 667ms/step - loss: 0.6501\n",
      "Epoch 94/1000\n",
      "2/2 [==============================] - 1s 668ms/step - loss: 0.7989\n",
      "Epoch 95/1000\n",
      "2/2 [==============================] - 1s 669ms/step - loss: 0.8496\n",
      "Epoch 96/1000\n",
      "2/2 [==============================] - 1s 673ms/step - loss: 0.6514\n",
      "Epoch 97/1000\n",
      "2/2 [==============================] - 1s 673ms/step - loss: 0.9706\n",
      "Epoch 98/1000\n",
      "2/2 [==============================] - 1s 667ms/step - loss: 0.7006\n",
      "Epoch 99/1000\n",
      "2/2 [==============================] - 1s 668ms/step - loss: 0.9041\n",
      "Epoch 100/1000\n",
      "2/2 [==============================] - 1s 672ms/step - loss: 0.9750\n",
      "Epoch 101/1000\n",
      "2/2 [==============================] - 1s 674ms/step - loss: 0.7387\n",
      "Epoch 102/1000\n",
      "2/2 [==============================] - 1s 672ms/step - loss: 0.4287\n",
      "INFO:tensorflow:Assets written to: /home/jtabalon/ckpt_airway_seg/assets\n",
      "Epoch 103/1000\n",
      "2/2 [==============================] - 1s 670ms/step - loss: 0.5264\n",
      "Epoch 104/1000\n",
      "2/2 [==============================] - 1s 666ms/step - loss: 0.9051\n",
      "Epoch 105/1000\n",
      "2/2 [==============================] - 1s 686ms/step - loss: 0.8019\n",
      "Epoch 106/1000\n",
      "2/2 [==============================] - 1s 685ms/step - loss: 0.9678\n",
      "Epoch 107/1000\n",
      "1/2 [==============>...............] - ETA: 0s - loss: 0.2872"
     ]
    },
    {
     "ename": "KeyboardInterrupt",
     "evalue": "",
     "output_type": "error",
     "traceback": [
      "\u001b[0;31m---------------------------------------------------------------------------\u001b[0m",
      "\u001b[0;31mKeyboardInterrupt\u001b[0m                         Traceback (most recent call last)",
      "\u001b[1;32m/home/jtabalon/airway_seg/fit_one_image.ipynb Cell 36'\u001b[0m in \u001b[0;36m<module>\u001b[0;34m\u001b[0m\n\u001b[1;32m      <a href='vscode-notebook-cell://ssh-remote%2B130.191.31.61/home/jtabalon/airway_seg/fit_one_image.ipynb#ch0000034vscode-remote?line=0'>1</a>\u001b[0m \u001b[39m#model.fit(x=test_img, y=test_mask)\u001b[39;00m\n\u001b[1;32m      <a href='vscode-notebook-cell://ssh-remote%2B130.191.31.61/home/jtabalon/airway_seg/fit_one_image.ipynb#ch0000034vscode-remote?line=1'>2</a>\u001b[0m \u001b[39m# model.fit(x=test_img[:,(107-32):(107+32),(305-32):(305+32),(411-32):(411+32),:], y=test_mask[:,(107-32):(107+32),(305-32):(305+32),(411-32):(411+32),:], epochs=100 ) # this is wrong lmao\u001b[39;00m\n\u001b[1;32m      <a href='vscode-notebook-cell://ssh-remote%2B130.191.31.61/home/jtabalon/airway_seg/fit_one_image.ipynb#ch0000034vscode-remote?line=2'>3</a>\u001b[0m \u001b[39m# model.fit(x=patch_images[0], y=patch_labels[0], epochs=1000 )\u001b[39;00m\n\u001b[0;32m----> <a href='vscode-notebook-cell://ssh-remote%2B130.191.31.61/home/jtabalon/airway_seg/fit_one_image.ipynb#ch0000034vscode-remote?line=3'>4</a>\u001b[0m model\u001b[39m.\u001b[39;49mfit(x\u001b[39m=\u001b[39;49mtraining_generator, \\\n\u001b[1;32m      <a href='vscode-notebook-cell://ssh-remote%2B130.191.31.61/home/jtabalon/airway_seg/fit_one_image.ipynb#ch0000034vscode-remote?line=4'>5</a>\u001b[0m \u001b[39m#      validation_data=valid_generator, \\\u001b[39;49;00m\n\u001b[1;32m      <a href='vscode-notebook-cell://ssh-remote%2B130.191.31.61/home/jtabalon/airway_seg/fit_one_image.ipynb#ch0000034vscode-remote?line=5'>6</a>\u001b[0m \u001b[39m#      validation_batch_size=2, \\\u001b[39;49;00m\n\u001b[1;32m      <a href='vscode-notebook-cell://ssh-remote%2B130.191.31.61/home/jtabalon/airway_seg/fit_one_image.ipynb#ch0000034vscode-remote?line=6'>7</a>\u001b[0m \u001b[39m#      validation_freq=5, \\\u001b[39;49;00m\n\u001b[1;32m      <a href='vscode-notebook-cell://ssh-remote%2B130.191.31.61/home/jtabalon/airway_seg/fit_one_image.ipynb#ch0000034vscode-remote?line=7'>8</a>\u001b[0m      steps_per_epoch\u001b[39m=\u001b[39;49m\u001b[39m2\u001b[39;49m, \\\n\u001b[1;32m      <a href='vscode-notebook-cell://ssh-remote%2B130.191.31.61/home/jtabalon/airway_seg/fit_one_image.ipynb#ch0000034vscode-remote?line=8'>9</a>\u001b[0m       epochs\u001b[39m=\u001b[39;49m\u001b[39m1000\u001b[39;49m,\n\u001b[1;32m     <a href='vscode-notebook-cell://ssh-remote%2B130.191.31.61/home/jtabalon/airway_seg/fit_one_image.ipynb#ch0000034vscode-remote?line=9'>10</a>\u001b[0m       callbacks\u001b[39m=\u001b[39;49m[model_checkpoint_callback])\n",
      "File \u001b[0;32m~/anaconda3/envs/tf_airway/lib/python3.9/site-packages/tensorflow/python/keras/engine/training.py:1105\u001b[0m, in \u001b[0;36mModel.fit\u001b[0;34m(self, x, y, batch_size, epochs, verbose, callbacks, validation_split, validation_data, shuffle, class_weight, sample_weight, initial_epoch, steps_per_epoch, validation_steps, validation_batch_size, validation_freq, max_queue_size, workers, use_multiprocessing)\u001b[0m\n\u001b[1;32m   <a href='file:///home/jtabalon/anaconda3/envs/tf_airway/lib/python3.9/site-packages/tensorflow/python/keras/engine/training.py?line=1102'>1103</a>\u001b[0m logs \u001b[39m=\u001b[39m tmp_logs  \u001b[39m# No error, now safe to assign to logs.\u001b[39;00m\n\u001b[1;32m   <a href='file:///home/jtabalon/anaconda3/envs/tf_airway/lib/python3.9/site-packages/tensorflow/python/keras/engine/training.py?line=1103'>1104</a>\u001b[0m end_step \u001b[39m=\u001b[39m step \u001b[39m+\u001b[39m data_handler\u001b[39m.\u001b[39mstep_increment\n\u001b[0;32m-> <a href='file:///home/jtabalon/anaconda3/envs/tf_airway/lib/python3.9/site-packages/tensorflow/python/keras/engine/training.py?line=1104'>1105</a>\u001b[0m callbacks\u001b[39m.\u001b[39;49mon_train_batch_end(end_step, logs)\n\u001b[1;32m   <a href='file:///home/jtabalon/anaconda3/envs/tf_airway/lib/python3.9/site-packages/tensorflow/python/keras/engine/training.py?line=1105'>1106</a>\u001b[0m \u001b[39mif\u001b[39;00m \u001b[39mself\u001b[39m\u001b[39m.\u001b[39mstop_training:\n\u001b[1;32m   <a href='file:///home/jtabalon/anaconda3/envs/tf_airway/lib/python3.9/site-packages/tensorflow/python/keras/engine/training.py?line=1106'>1107</a>\u001b[0m   \u001b[39mbreak\u001b[39;00m\n",
      "File \u001b[0;32m~/anaconda3/envs/tf_airway/lib/python3.9/site-packages/tensorflow/python/keras/callbacks.py:454\u001b[0m, in \u001b[0;36mCallbackList.on_train_batch_end\u001b[0;34m(self, batch, logs)\u001b[0m\n\u001b[1;32m    <a href='file:///home/jtabalon/anaconda3/envs/tf_airway/lib/python3.9/site-packages/tensorflow/python/keras/callbacks.py?line=446'>447</a>\u001b[0m \u001b[39m\"\"\"Calls the `on_train_batch_end` methods of its callbacks.\u001b[39;00m\n\u001b[1;32m    <a href='file:///home/jtabalon/anaconda3/envs/tf_airway/lib/python3.9/site-packages/tensorflow/python/keras/callbacks.py?line=447'>448</a>\u001b[0m \n\u001b[1;32m    <a href='file:///home/jtabalon/anaconda3/envs/tf_airway/lib/python3.9/site-packages/tensorflow/python/keras/callbacks.py?line=448'>449</a>\u001b[0m \u001b[39mArguments:\u001b[39;00m\n\u001b[1;32m    <a href='file:///home/jtabalon/anaconda3/envs/tf_airway/lib/python3.9/site-packages/tensorflow/python/keras/callbacks.py?line=449'>450</a>\u001b[0m \u001b[39m    batch: Integer, index of batch within the current epoch.\u001b[39;00m\n\u001b[1;32m    <a href='file:///home/jtabalon/anaconda3/envs/tf_airway/lib/python3.9/site-packages/tensorflow/python/keras/callbacks.py?line=450'>451</a>\u001b[0m \u001b[39m    logs: Dict. Aggregated metric results up until this batch.\u001b[39;00m\n\u001b[1;32m    <a href='file:///home/jtabalon/anaconda3/envs/tf_airway/lib/python3.9/site-packages/tensorflow/python/keras/callbacks.py?line=451'>452</a>\u001b[0m \u001b[39m\"\"\"\u001b[39;00m\n\u001b[1;32m    <a href='file:///home/jtabalon/anaconda3/envs/tf_airway/lib/python3.9/site-packages/tensorflow/python/keras/callbacks.py?line=452'>453</a>\u001b[0m \u001b[39mif\u001b[39;00m \u001b[39mself\u001b[39m\u001b[39m.\u001b[39m_should_call_train_batch_hooks:\n\u001b[0;32m--> <a href='file:///home/jtabalon/anaconda3/envs/tf_airway/lib/python3.9/site-packages/tensorflow/python/keras/callbacks.py?line=453'>454</a>\u001b[0m   \u001b[39mself\u001b[39;49m\u001b[39m.\u001b[39;49m_call_batch_hook(ModeKeys\u001b[39m.\u001b[39;49mTRAIN, \u001b[39m'\u001b[39;49m\u001b[39mend\u001b[39;49m\u001b[39m'\u001b[39;49m, batch, logs\u001b[39m=\u001b[39;49mlogs)\n",
      "File \u001b[0;32m~/anaconda3/envs/tf_airway/lib/python3.9/site-packages/tensorflow/python/keras/callbacks.py:296\u001b[0m, in \u001b[0;36mCallbackList._call_batch_hook\u001b[0;34m(self, mode, hook, batch, logs)\u001b[0m\n\u001b[1;32m    <a href='file:///home/jtabalon/anaconda3/envs/tf_airway/lib/python3.9/site-packages/tensorflow/python/keras/callbacks.py?line=293'>294</a>\u001b[0m   \u001b[39mself\u001b[39m\u001b[39m.\u001b[39m_call_batch_begin_hook(mode, batch, logs)\n\u001b[1;32m    <a href='file:///home/jtabalon/anaconda3/envs/tf_airway/lib/python3.9/site-packages/tensorflow/python/keras/callbacks.py?line=294'>295</a>\u001b[0m \u001b[39melif\u001b[39;00m hook \u001b[39m==\u001b[39m \u001b[39m'\u001b[39m\u001b[39mend\u001b[39m\u001b[39m'\u001b[39m:\n\u001b[0;32m--> <a href='file:///home/jtabalon/anaconda3/envs/tf_airway/lib/python3.9/site-packages/tensorflow/python/keras/callbacks.py?line=295'>296</a>\u001b[0m   \u001b[39mself\u001b[39;49m\u001b[39m.\u001b[39;49m_call_batch_end_hook(mode, batch, logs)\n\u001b[1;32m    <a href='file:///home/jtabalon/anaconda3/envs/tf_airway/lib/python3.9/site-packages/tensorflow/python/keras/callbacks.py?line=296'>297</a>\u001b[0m \u001b[39melse\u001b[39;00m:\n\u001b[1;32m    <a href='file:///home/jtabalon/anaconda3/envs/tf_airway/lib/python3.9/site-packages/tensorflow/python/keras/callbacks.py?line=297'>298</a>\u001b[0m   \u001b[39mraise\u001b[39;00m \u001b[39mValueError\u001b[39;00m(\u001b[39m'\u001b[39m\u001b[39mUnrecognized hook: \u001b[39m\u001b[39m{}\u001b[39;00m\u001b[39m'\u001b[39m\u001b[39m.\u001b[39mformat(hook))\n",
      "File \u001b[0;32m~/anaconda3/envs/tf_airway/lib/python3.9/site-packages/tensorflow/python/keras/callbacks.py:316\u001b[0m, in \u001b[0;36mCallbackList._call_batch_end_hook\u001b[0;34m(self, mode, batch, logs)\u001b[0m\n\u001b[1;32m    <a href='file:///home/jtabalon/anaconda3/envs/tf_airway/lib/python3.9/site-packages/tensorflow/python/keras/callbacks.py?line=312'>313</a>\u001b[0m   batch_time \u001b[39m=\u001b[39m time\u001b[39m.\u001b[39mtime() \u001b[39m-\u001b[39m \u001b[39mself\u001b[39m\u001b[39m.\u001b[39m_batch_start_time\n\u001b[1;32m    <a href='file:///home/jtabalon/anaconda3/envs/tf_airway/lib/python3.9/site-packages/tensorflow/python/keras/callbacks.py?line=313'>314</a>\u001b[0m   \u001b[39mself\u001b[39m\u001b[39m.\u001b[39m_batch_times\u001b[39m.\u001b[39mappend(batch_time)\n\u001b[0;32m--> <a href='file:///home/jtabalon/anaconda3/envs/tf_airway/lib/python3.9/site-packages/tensorflow/python/keras/callbacks.py?line=315'>316</a>\u001b[0m \u001b[39mself\u001b[39;49m\u001b[39m.\u001b[39;49m_call_batch_hook_helper(hook_name, batch, logs)\n\u001b[1;32m    <a href='file:///home/jtabalon/anaconda3/envs/tf_airway/lib/python3.9/site-packages/tensorflow/python/keras/callbacks.py?line=317'>318</a>\u001b[0m \u001b[39mif\u001b[39;00m \u001b[39mlen\u001b[39m(\u001b[39mself\u001b[39m\u001b[39m.\u001b[39m_batch_times) \u001b[39m>\u001b[39m\u001b[39m=\u001b[39m \u001b[39mself\u001b[39m\u001b[39m.\u001b[39m_num_batches_for_timing_check:\n\u001b[1;32m    <a href='file:///home/jtabalon/anaconda3/envs/tf_airway/lib/python3.9/site-packages/tensorflow/python/keras/callbacks.py?line=318'>319</a>\u001b[0m   end_hook_name \u001b[39m=\u001b[39m hook_name\n",
      "File \u001b[0;32m~/anaconda3/envs/tf_airway/lib/python3.9/site-packages/tensorflow/python/keras/callbacks.py:356\u001b[0m, in \u001b[0;36mCallbackList._call_batch_hook_helper\u001b[0;34m(self, hook_name, batch, logs)\u001b[0m\n\u001b[1;32m    <a href='file:///home/jtabalon/anaconda3/envs/tf_airway/lib/python3.9/site-packages/tensorflow/python/keras/callbacks.py?line=353'>354</a>\u001b[0m hook \u001b[39m=\u001b[39m \u001b[39mgetattr\u001b[39m(callback, hook_name)\n\u001b[1;32m    <a href='file:///home/jtabalon/anaconda3/envs/tf_airway/lib/python3.9/site-packages/tensorflow/python/keras/callbacks.py?line=354'>355</a>\u001b[0m \u001b[39mif\u001b[39;00m \u001b[39mgetattr\u001b[39m(callback, \u001b[39m'\u001b[39m\u001b[39m_supports_tf_logs\u001b[39m\u001b[39m'\u001b[39m, \u001b[39mFalse\u001b[39;00m):\n\u001b[0;32m--> <a href='file:///home/jtabalon/anaconda3/envs/tf_airway/lib/python3.9/site-packages/tensorflow/python/keras/callbacks.py?line=355'>356</a>\u001b[0m   hook(batch, logs)\n\u001b[1;32m    <a href='file:///home/jtabalon/anaconda3/envs/tf_airway/lib/python3.9/site-packages/tensorflow/python/keras/callbacks.py?line=356'>357</a>\u001b[0m \u001b[39melse\u001b[39;00m:\n\u001b[1;32m    <a href='file:///home/jtabalon/anaconda3/envs/tf_airway/lib/python3.9/site-packages/tensorflow/python/keras/callbacks.py?line=357'>358</a>\u001b[0m   \u001b[39mif\u001b[39;00m numpy_logs \u001b[39mis\u001b[39;00m \u001b[39mNone\u001b[39;00m:  \u001b[39m# Only convert once.\u001b[39;00m\n",
      "File \u001b[0;32m~/anaconda3/envs/tf_airway/lib/python3.9/site-packages/tensorflow/python/keras/callbacks.py:1020\u001b[0m, in \u001b[0;36mProgbarLogger.on_train_batch_end\u001b[0;34m(self, batch, logs)\u001b[0m\n\u001b[1;32m   <a href='file:///home/jtabalon/anaconda3/envs/tf_airway/lib/python3.9/site-packages/tensorflow/python/keras/callbacks.py?line=1018'>1019</a>\u001b[0m \u001b[39mdef\u001b[39;00m \u001b[39mon_train_batch_end\u001b[39m(\u001b[39mself\u001b[39m, batch, logs\u001b[39m=\u001b[39m\u001b[39mNone\u001b[39;00m):\n\u001b[0;32m-> <a href='file:///home/jtabalon/anaconda3/envs/tf_airway/lib/python3.9/site-packages/tensorflow/python/keras/callbacks.py?line=1019'>1020</a>\u001b[0m   \u001b[39mself\u001b[39;49m\u001b[39m.\u001b[39;49m_batch_update_progbar(batch, logs)\n",
      "File \u001b[0;32m~/anaconda3/envs/tf_airway/lib/python3.9/site-packages/tensorflow/python/keras/callbacks.py:1084\u001b[0m, in \u001b[0;36mProgbarLogger._batch_update_progbar\u001b[0;34m(self, batch, logs)\u001b[0m\n\u001b[1;32m   <a href='file:///home/jtabalon/anaconda3/envs/tf_airway/lib/python3.9/site-packages/tensorflow/python/keras/callbacks.py?line=1079'>1080</a>\u001b[0m   \u001b[39mself\u001b[39m\u001b[39m.\u001b[39mseen \u001b[39m+\u001b[39m\u001b[39m=\u001b[39m add_seen\n\u001b[1;32m   <a href='file:///home/jtabalon/anaconda3/envs/tf_airway/lib/python3.9/site-packages/tensorflow/python/keras/callbacks.py?line=1081'>1082</a>\u001b[0m \u001b[39mif\u001b[39;00m \u001b[39mself\u001b[39m\u001b[39m.\u001b[39mverbose \u001b[39m==\u001b[39m \u001b[39m1\u001b[39m:\n\u001b[1;32m   <a href='file:///home/jtabalon/anaconda3/envs/tf_airway/lib/python3.9/site-packages/tensorflow/python/keras/callbacks.py?line=1082'>1083</a>\u001b[0m   \u001b[39m# Only block async when verbose = 1.\u001b[39;00m\n\u001b[0;32m-> <a href='file:///home/jtabalon/anaconda3/envs/tf_airway/lib/python3.9/site-packages/tensorflow/python/keras/callbacks.py?line=1083'>1084</a>\u001b[0m   logs \u001b[39m=\u001b[39m tf_utils\u001b[39m.\u001b[39;49mto_numpy_or_python_type(logs)\n\u001b[1;32m   <a href='file:///home/jtabalon/anaconda3/envs/tf_airway/lib/python3.9/site-packages/tensorflow/python/keras/callbacks.py?line=1084'>1085</a>\u001b[0m   \u001b[39mself\u001b[39m\u001b[39m.\u001b[39mprogbar\u001b[39m.\u001b[39mupdate(\u001b[39mself\u001b[39m\u001b[39m.\u001b[39mseen, \u001b[39mlist\u001b[39m(logs\u001b[39m.\u001b[39mitems()), finalize\u001b[39m=\u001b[39m\u001b[39mFalse\u001b[39;00m)\n",
      "File \u001b[0;32m~/anaconda3/envs/tf_airway/lib/python3.9/site-packages/tensorflow/python/keras/utils/tf_utils.py:514\u001b[0m, in \u001b[0;36mto_numpy_or_python_type\u001b[0;34m(tensors)\u001b[0m\n\u001b[1;32m    <a href='file:///home/jtabalon/anaconda3/envs/tf_airway/lib/python3.9/site-packages/tensorflow/python/keras/utils/tf_utils.py?line=510'>511</a>\u001b[0m     \u001b[39mreturn\u001b[39;00m x\u001b[39m.\u001b[39mitem() \u001b[39mif\u001b[39;00m np\u001b[39m.\u001b[39mndim(x) \u001b[39m==\u001b[39m \u001b[39m0\u001b[39m \u001b[39melse\u001b[39;00m x\n\u001b[1;32m    <a href='file:///home/jtabalon/anaconda3/envs/tf_airway/lib/python3.9/site-packages/tensorflow/python/keras/utils/tf_utils.py?line=511'>512</a>\u001b[0m   \u001b[39mreturn\u001b[39;00m t  \u001b[39m# Don't turn ragged or sparse tensors to NumPy.\u001b[39;00m\n\u001b[0;32m--> <a href='file:///home/jtabalon/anaconda3/envs/tf_airway/lib/python3.9/site-packages/tensorflow/python/keras/utils/tf_utils.py?line=513'>514</a>\u001b[0m \u001b[39mreturn\u001b[39;00m nest\u001b[39m.\u001b[39;49mmap_structure(_to_single_numpy_or_python_type, tensors)\n",
      "File \u001b[0;32m~/anaconda3/envs/tf_airway/lib/python3.9/site-packages/tensorflow/python/util/nest.py:659\u001b[0m, in \u001b[0;36mmap_structure\u001b[0;34m(func, *structure, **kwargs)\u001b[0m\n\u001b[1;32m    <a href='file:///home/jtabalon/anaconda3/envs/tf_airway/lib/python3.9/site-packages/tensorflow/python/util/nest.py?line=654'>655</a>\u001b[0m flat_structure \u001b[39m=\u001b[39m (flatten(s, expand_composites) \u001b[39mfor\u001b[39;00m s \u001b[39min\u001b[39;00m structure)\n\u001b[1;32m    <a href='file:///home/jtabalon/anaconda3/envs/tf_airway/lib/python3.9/site-packages/tensorflow/python/util/nest.py?line=655'>656</a>\u001b[0m entries \u001b[39m=\u001b[39m \u001b[39mzip\u001b[39m(\u001b[39m*\u001b[39mflat_structure)\n\u001b[1;32m    <a href='file:///home/jtabalon/anaconda3/envs/tf_airway/lib/python3.9/site-packages/tensorflow/python/util/nest.py?line=657'>658</a>\u001b[0m \u001b[39mreturn\u001b[39;00m pack_sequence_as(\n\u001b[0;32m--> <a href='file:///home/jtabalon/anaconda3/envs/tf_airway/lib/python3.9/site-packages/tensorflow/python/util/nest.py?line=658'>659</a>\u001b[0m     structure[\u001b[39m0\u001b[39m], [func(\u001b[39m*\u001b[39mx) \u001b[39mfor\u001b[39;00m x \u001b[39min\u001b[39;00m entries],\n\u001b[1;32m    <a href='file:///home/jtabalon/anaconda3/envs/tf_airway/lib/python3.9/site-packages/tensorflow/python/util/nest.py?line=659'>660</a>\u001b[0m     expand_composites\u001b[39m=\u001b[39mexpand_composites)\n",
      "File \u001b[0;32m~/anaconda3/envs/tf_airway/lib/python3.9/site-packages/tensorflow/python/util/nest.py:659\u001b[0m, in \u001b[0;36m<listcomp>\u001b[0;34m(.0)\u001b[0m\n\u001b[1;32m    <a href='file:///home/jtabalon/anaconda3/envs/tf_airway/lib/python3.9/site-packages/tensorflow/python/util/nest.py?line=654'>655</a>\u001b[0m flat_structure \u001b[39m=\u001b[39m (flatten(s, expand_composites) \u001b[39mfor\u001b[39;00m s \u001b[39min\u001b[39;00m structure)\n\u001b[1;32m    <a href='file:///home/jtabalon/anaconda3/envs/tf_airway/lib/python3.9/site-packages/tensorflow/python/util/nest.py?line=655'>656</a>\u001b[0m entries \u001b[39m=\u001b[39m \u001b[39mzip\u001b[39m(\u001b[39m*\u001b[39mflat_structure)\n\u001b[1;32m    <a href='file:///home/jtabalon/anaconda3/envs/tf_airway/lib/python3.9/site-packages/tensorflow/python/util/nest.py?line=657'>658</a>\u001b[0m \u001b[39mreturn\u001b[39;00m pack_sequence_as(\n\u001b[0;32m--> <a href='file:///home/jtabalon/anaconda3/envs/tf_airway/lib/python3.9/site-packages/tensorflow/python/util/nest.py?line=658'>659</a>\u001b[0m     structure[\u001b[39m0\u001b[39m], [func(\u001b[39m*\u001b[39;49mx) \u001b[39mfor\u001b[39;00m x \u001b[39min\u001b[39;00m entries],\n\u001b[1;32m    <a href='file:///home/jtabalon/anaconda3/envs/tf_airway/lib/python3.9/site-packages/tensorflow/python/util/nest.py?line=659'>660</a>\u001b[0m     expand_composites\u001b[39m=\u001b[39mexpand_composites)\n",
      "File \u001b[0;32m~/anaconda3/envs/tf_airway/lib/python3.9/site-packages/tensorflow/python/keras/utils/tf_utils.py:510\u001b[0m, in \u001b[0;36mto_numpy_or_python_type.<locals>._to_single_numpy_or_python_type\u001b[0;34m(t)\u001b[0m\n\u001b[1;32m    <a href='file:///home/jtabalon/anaconda3/envs/tf_airway/lib/python3.9/site-packages/tensorflow/python/keras/utils/tf_utils.py?line=507'>508</a>\u001b[0m \u001b[39mdef\u001b[39;00m \u001b[39m_to_single_numpy_or_python_type\u001b[39m(t):\n\u001b[1;32m    <a href='file:///home/jtabalon/anaconda3/envs/tf_airway/lib/python3.9/site-packages/tensorflow/python/keras/utils/tf_utils.py?line=508'>509</a>\u001b[0m   \u001b[39mif\u001b[39;00m \u001b[39misinstance\u001b[39m(t, ops\u001b[39m.\u001b[39mTensor):\n\u001b[0;32m--> <a href='file:///home/jtabalon/anaconda3/envs/tf_airway/lib/python3.9/site-packages/tensorflow/python/keras/utils/tf_utils.py?line=509'>510</a>\u001b[0m     x \u001b[39m=\u001b[39m t\u001b[39m.\u001b[39;49mnumpy()\n\u001b[1;32m    <a href='file:///home/jtabalon/anaconda3/envs/tf_airway/lib/python3.9/site-packages/tensorflow/python/keras/utils/tf_utils.py?line=510'>511</a>\u001b[0m     \u001b[39mreturn\u001b[39;00m x\u001b[39m.\u001b[39mitem() \u001b[39mif\u001b[39;00m np\u001b[39m.\u001b[39mndim(x) \u001b[39m==\u001b[39m \u001b[39m0\u001b[39m \u001b[39melse\u001b[39;00m x\n\u001b[1;32m    <a href='file:///home/jtabalon/anaconda3/envs/tf_airway/lib/python3.9/site-packages/tensorflow/python/keras/utils/tf_utils.py?line=511'>512</a>\u001b[0m   \u001b[39mreturn\u001b[39;00m t\n",
      "File \u001b[0;32m~/anaconda3/envs/tf_airway/lib/python3.9/site-packages/tensorflow/python/framework/ops.py:1071\u001b[0m, in \u001b[0;36m_EagerTensorBase.numpy\u001b[0;34m(self)\u001b[0m\n\u001b[1;32m   <a href='file:///home/jtabalon/anaconda3/envs/tf_airway/lib/python3.9/site-packages/tensorflow/python/framework/ops.py?line=1047'>1048</a>\u001b[0m \u001b[39m\"\"\"Copy of the contents of this Tensor into a NumPy array or scalar.\u001b[39;00m\n\u001b[1;32m   <a href='file:///home/jtabalon/anaconda3/envs/tf_airway/lib/python3.9/site-packages/tensorflow/python/framework/ops.py?line=1048'>1049</a>\u001b[0m \n\u001b[1;32m   <a href='file:///home/jtabalon/anaconda3/envs/tf_airway/lib/python3.9/site-packages/tensorflow/python/framework/ops.py?line=1049'>1050</a>\u001b[0m \u001b[39mUnlike NumPy arrays, Tensors are immutable, so this method has to copy\u001b[39;00m\n\u001b[0;32m   (...)\u001b[0m\n\u001b[1;32m   <a href='file:///home/jtabalon/anaconda3/envs/tf_airway/lib/python3.9/site-packages/tensorflow/python/framework/ops.py?line=1067'>1068</a>\u001b[0m \u001b[39m    NumPy dtype.\u001b[39;00m\n\u001b[1;32m   <a href='file:///home/jtabalon/anaconda3/envs/tf_airway/lib/python3.9/site-packages/tensorflow/python/framework/ops.py?line=1068'>1069</a>\u001b[0m \u001b[39m\"\"\"\u001b[39;00m\n\u001b[1;32m   <a href='file:///home/jtabalon/anaconda3/envs/tf_airway/lib/python3.9/site-packages/tensorflow/python/framework/ops.py?line=1069'>1070</a>\u001b[0m \u001b[39m# TODO(slebedev): Consider avoiding a copy for non-CPU or remote tensors.\u001b[39;00m\n\u001b[0;32m-> <a href='file:///home/jtabalon/anaconda3/envs/tf_airway/lib/python3.9/site-packages/tensorflow/python/framework/ops.py?line=1070'>1071</a>\u001b[0m maybe_arr \u001b[39m=\u001b[39m \u001b[39mself\u001b[39;49m\u001b[39m.\u001b[39;49m_numpy()  \u001b[39m# pylint: disable=protected-access\u001b[39;00m\n\u001b[1;32m   <a href='file:///home/jtabalon/anaconda3/envs/tf_airway/lib/python3.9/site-packages/tensorflow/python/framework/ops.py?line=1071'>1072</a>\u001b[0m \u001b[39mreturn\u001b[39;00m maybe_arr\u001b[39m.\u001b[39mcopy() \u001b[39mif\u001b[39;00m \u001b[39misinstance\u001b[39m(maybe_arr, np\u001b[39m.\u001b[39mndarray) \u001b[39melse\u001b[39;00m maybe_arr\n",
      "File \u001b[0;32m~/anaconda3/envs/tf_airway/lib/python3.9/site-packages/tensorflow/python/framework/ops.py:1037\u001b[0m, in \u001b[0;36m_EagerTensorBase._numpy\u001b[0;34m(self)\u001b[0m\n\u001b[1;32m   <a href='file:///home/jtabalon/anaconda3/envs/tf_airway/lib/python3.9/site-packages/tensorflow/python/framework/ops.py?line=1034'>1035</a>\u001b[0m \u001b[39mdef\u001b[39;00m \u001b[39m_numpy\u001b[39m(\u001b[39mself\u001b[39m):\n\u001b[1;32m   <a href='file:///home/jtabalon/anaconda3/envs/tf_airway/lib/python3.9/site-packages/tensorflow/python/framework/ops.py?line=1035'>1036</a>\u001b[0m   \u001b[39mtry\u001b[39;00m:\n\u001b[0;32m-> <a href='file:///home/jtabalon/anaconda3/envs/tf_airway/lib/python3.9/site-packages/tensorflow/python/framework/ops.py?line=1036'>1037</a>\u001b[0m     \u001b[39mreturn\u001b[39;00m \u001b[39mself\u001b[39;49m\u001b[39m.\u001b[39;49m_numpy_internal()\n\u001b[1;32m   <a href='file:///home/jtabalon/anaconda3/envs/tf_airway/lib/python3.9/site-packages/tensorflow/python/framework/ops.py?line=1037'>1038</a>\u001b[0m   \u001b[39mexcept\u001b[39;00m core\u001b[39m.\u001b[39m_NotOkStatusException \u001b[39mas\u001b[39;00m e:  \u001b[39m# pylint: disable=protected-access\u001b[39;00m\n\u001b[1;32m   <a href='file:///home/jtabalon/anaconda3/envs/tf_airway/lib/python3.9/site-packages/tensorflow/python/framework/ops.py?line=1038'>1039</a>\u001b[0m     six\u001b[39m.\u001b[39mraise_from(core\u001b[39m.\u001b[39m_status_to_exception(e\u001b[39m.\u001b[39mcode, e\u001b[39m.\u001b[39mmessage), \u001b[39mNone\u001b[39;00m)\n",
      "\u001b[0;31mKeyboardInterrupt\u001b[0m: "
     ]
    }
   ],
   "source": [
    "#model.fit(x=test_img, y=test_mask)\n",
    "# model.fit(x=test_img[:,(107-32):(107+32),(305-32):(305+32),(411-32):(411+32),:], y=test_mask[:,(107-32):(107+32),(305-32):(305+32),(411-32):(411+32),:], epochs=100 ) # this is wrong lmao\n",
    "# model.fit(x=patch_images[0], y=patch_labels[0], epochs=1000 )\n",
    "model.fit(x=training_generator, \\\n",
    "#      validation_data=valid_generator, \\\n",
    "#      validation_batch_size=2, \\\n",
    "#      validation_freq=5, \\\n",
    "     steps_per_epoch=2, \\\n",
    "      epochs=1000,\n",
    "      callbacks=[model_checkpoint_callback])\n",
    "\n",
    "# model.fit(x=og_train_gen, steps_per_epoch=1, epochs=1000)\n",
    "# model.fit(x=final_patch_img[0], y=final_patch_mask[0], epochs=1000 )\n",
    "\n",
    "#model.fit(x = data_dict[\"10004O\"][\"patch_img\"], y = [data_dict[patient_id][\"patch_label\"]], epochs=1000)\n",
    "\n",
    "\n",
    "# TODO: add model checkpoint callback"
   ]
  },
  {
   "cell_type": "code",
   "execution_count": null,
   "metadata": {},
   "outputs": [],
   "source": [
    "ct_path = \"/home/jtabalon/airway_seg/test_data/ct_patients10004O.nii\"\n",
    "aw_path = \"/home/jtabalon/airway_seg/test_data/aw_10004O.nii\"\n",
    "\n",
    "img = nib.load(ct_path).get_fdata() / 2000.\n",
    "mask = nib.load(aw_path).get_fdata()\n",
    "\n",
    "test_img = np.expand_dims(np.expand_dims(img, -1), 0)\n",
    "test_mask = np.expand_dims(np.expand_dims(mask, -1), 0)"
   ]
  },
  {
   "cell_type": "code",
   "execution_count": 64,
   "metadata": {},
   "outputs": [],
   "source": [
    "# TODO configure prediction section\n",
    "#prediction = model.predict(test_img)"
   ]
  },
  {
   "cell_type": "code",
   "execution_count": null,
   "metadata": {},
   "outputs": [
    {
     "data": {
      "text/plain": [
       "0"
      ]
     },
     "execution_count": 174,
     "metadata": {},
     "output_type": "execute_result"
    }
   ],
   "source": [
    "# np.argmax(np.sum(prediction[0,:,:,:,0]))"
   ]
  },
  {
   "cell_type": "code",
   "execution_count": null,
   "metadata": {},
   "outputs": [],
   "source": [
    "plt.hist(img_change.flatten())\n",
    "plt.hist(label_change.flatten())"
   ]
  },
  {
   "cell_type": "code",
   "execution_count": null,
   "metadata": {},
   "outputs": [
    {
     "data": {
      "text/plain": [
       "<matplotlib.image.AxesImage at 0x7f1da86142e0>"
      ]
     },
     "execution_count": 175,
     "metadata": {},
     "output_type": "execute_result"
    },
    {
     "data": {
      "image/png": "[encoded data removed]",
      "text/plain": [
       "<Figure size 432x288 with 1 Axes>"
      ]
     },
     "metadata": {
      "needs_background": "light"
     },
     "output_type": "display_data"
    }
   ],
   "source": [
    "plt.imshow(prediction[0,:,:,0,0])"
   ]
  },
  {
   "cell_type": "code",
   "execution_count": null,
   "metadata": {},
   "outputs": [
    {
     "data": {
      "text/plain": [
       "<matplotlib.image.AxesImage at 0x7f1da85f6400>"
      ]
     },
     "execution_count": 176,
     "metadata": {},
     "output_type": "execute_result"
    },
    {
     "data": {
      "image/png": "[encoded data removed]",
      "text/plain": [
       "<Figure size 432x288 with 1 Axes>"
      ]
     },
     "metadata": {
      "needs_background": "light"
     },
     "output_type": "display_data"
    }
   ],
   "source": [
    "# plt.imshow(test_mask[0,:,:,32,0])"
   ]
  }
 ],
 "metadata": {
  "interpreter": {
   "hash": "9059a93f5d5beb21997891154bf5fa1a9f65ccdfc10ceb74be4f34e345aa7518"
  },
  "kernelspec": {
   "display_name": "Python 3",
   "language": "python",
   "name": "python3"
  },
  "language_info": {
   "codemirror_mode": {
    "name": "ipython",
    "version": 3
   },
   "file_extension": ".py",
   "mimetype": "text/x-python",
   "name": "python",
   "nbconvert_exporter": "python",
   "pygments_lexer": "ipython3",
   "version": "3.9.7"
  }
 },
 "nbformat": 4,
 "nbformat_minor": 2
}
