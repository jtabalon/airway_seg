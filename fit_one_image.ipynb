{
 "cells": [
  {
   "cell_type": "code",
   "execution_count": 20,
   "metadata": {},
   "outputs": [],
   "source": [
    "import os\n",
    "import numpy as np\n",
    "import matplotlib.pyplot as plt\n",
    "import nibabel as nib\n",
    "\n",
    "\"\"\" DL imports \"\"\"\n",
    "\n",
    "import tensorflow as tf\n",
    "from tensorflow.keras import layers\n",
    "from tensorflow.keras.models import Model\n",
    "#import voxelmorph as vxm\n",
    "#from tensorflow.keras \n"
   ]
  },
  {
   "cell_type": "code",
   "execution_count": 21,
   "metadata": {},
   "outputs": [
    {
     "name": "stdout",
     "output_type": "stream",
     "text": [
      "(512, 512, 662) (512, 512, 662) <class 'numpy.memmap'> <class 'numpy.memmap'>\n"
     ]
    }
   ],
   "source": [
    "ct_path = \"/home/jtabalon/airway_seg/test_data/ct_patients10004O.nii\"\n",
    "aw_path = \"/home/jtabalon/airway_seg/test_data/aw_10004O.nii\"\n",
    "\n",
    "img = nib.load(ct_path).get_fdata()\n",
    "mask = nib.load(aw_path).get_fdata()\n",
    "\n",
    "test_img = np.expand_dims(np.expand_dims(img, -1), 0)\n",
    "test_mask = np.expand_dims(np.expand_dims(mask, -1), 0)\n",
    "\n",
    "\n",
    "print(img.shape, mask.shape, type(img), type(mask))\n",
    "\n",
    "# Visualize CT\n",
    "\n",
    "#plt.imshow(img[:, :, 100], cmap = \"gray\")\n",
    "#plt.show()"
   ]
  },
  {
   "cell_type": "code",
   "execution_count": 22,
   "metadata": {},
   "outputs": [
    {
     "name": "stdout",
     "output_type": "stream",
     "text": [
      "(1, 512, 512, 662, 1) (1, 512, 512, 662, 1)\n"
     ]
    }
   ],
   "source": [
    "print(test_img.shape, test_mask.shape)"
   ]
  },
  {
   "cell_type": "code",
   "execution_count": 23,
   "metadata": {},
   "outputs": [
    {
     "data": {
      "text/plain": [
       "411"
      ]
     },
     "execution_count": 23,
     "metadata": {},
     "output_type": "execute_result"
    }
   ],
   "source": [
    "# 0 -> patient\n",
    "# 1 -> row\n",
    "# 2 -> column\n",
    "# 3 -> slice\n",
    "# 4 -> channel\n",
    "\n",
    "np.argmax(np.sum(test_mask, axis = (0,1,2,4)))"
   ]
  },
  {
   "cell_type": "code",
   "execution_count": 24,
   "metadata": {},
   "outputs": [
    {
     "data": {
      "text/plain": [
       "(array([107, 107, 107, ..., 511, 511, 511]),\n",
       " array([305, 308, 310, ..., 103, 104, 105]))"
      ]
     },
     "execution_count": 24,
     "metadata": {},
     "output_type": "execute_result"
    }
   ],
   "source": [
    "np.where(test_img[0,:,:,411,0] > 0)"
   ]
  },
  {
   "cell_type": "code",
   "execution_count": 25,
   "metadata": {},
   "outputs": [
    {
     "data": {
      "text/plain": [
       "(1, 64, 64, 64, 1)"
      ]
     },
     "execution_count": 25,
     "metadata": {},
     "output_type": "execute_result"
    }
   ],
   "source": [
    "test_img[:,(107-32):(107+32),(305-32):(305+32),(411-32):(411+32),:].shape"
   ]
  },
  {
   "cell_type": "markdown",
   "metadata": {},
   "source": [
    "# Model Creation"
   ]
  },
  {
   "cell_type": "code",
   "execution_count": 26,
   "metadata": {},
   "outputs": [],
   "source": [
    "nb_enc_features = [32, 64, 64, 64]\n",
    "nb_dec_features = [64, 64, 64, 64, 64, 32, 32]"
   ]
  },
  {
   "cell_type": "code",
   "execution_count": 27,
   "metadata": {},
   "outputs": [],
   "source": [
    "# Hyperparameters\n",
    "\n",
    "batch_size = 1  # from torch notebook\n",
    "learning_rate = 1e-2"
   ]
  },
  {
   "cell_type": "code",
   "execution_count": 28,
   "metadata": {},
   "outputs": [],
   "source": [
    "os.environ[\"CUDA_DEVICE_ORDER\"] = \"PCI_BUS_ID\"   # see issue #152\n",
    "os.environ[\"CUDA_VISIBLE_DEVICES\"] = \"0\""
   ]
  },
  {
   "cell_type": "code",
   "execution_count": 29,
   "metadata": {},
   "outputs": [],
   "source": [
    "\n",
    "import numpy as np \n",
    "import os\n",
    "import skimage.io as io\n",
    "import skimage.transform as trans\n",
    "import numpy as np\n",
    "from tensorflow.keras.models import *\n",
    "from tensorflow.keras.layers import *\n",
    "from tensorflow.keras.optimizers import *\n",
    "from tensorflow.keras.callbacks import ModelCheckpoint, LearningRateScheduler\n",
    "from tensorflow.keras import backend as keras\n",
    "from tensorflow.keras import Input\n",
    "\n",
    "\n",
    "def unet(pretrained_weights = None,input_size = (256,256,1)):\n",
    "    inputs = Input(input_size)\n",
    "    conv1 = Conv3D(64, 3, activation = 'relu', padding = 'same', kernel_initializer = 'he_normal')(inputs)\n",
    "    conv1 = Conv3D(64, 3, activation = 'relu', padding = 'same', kernel_initializer = 'he_normal')(conv1)\n",
    "    pool1 = MaxPooling3D(pool_size=(2, 2, 2))(conv1)\n",
    "    print(pool1)\n",
    "    conv2 = Conv3D(128, 3, activation = 'relu', padding = 'same', kernel_initializer = 'he_normal')(pool1)\n",
    "    conv2 = Conv3D(128, 3, activation = 'relu', padding = 'same', kernel_initializer = 'he_normal')(conv2)\n",
    "    pool2 = MaxPooling3D(pool_size=(2, 2, 2))(conv2)\n",
    "    print(pool2)\n",
    "    conv3 = Conv3D(256, 3, activation = 'relu', padding = 'same', kernel_initializer = 'he_normal')(pool2)\n",
    "    conv3 = Conv3D(256, 3, activation = 'relu', padding = 'same', kernel_initializer = 'he_normal')(conv3)\n",
    "    pool3 = MaxPooling3D(pool_size=(2, 2, 2))(conv3)\n",
    "    print(pool3)\n",
    "    conv4 = Conv3D(512, 3, activation = 'relu', padding = 'same', kernel_initializer = 'he_normal')(pool3)\n",
    "    conv4 = Conv3D(512, 3, activation = 'relu', padding = 'same', kernel_initializer = 'he_normal')(conv4)\n",
    "    drop4 = Dropout(0.5)(conv4)\n",
    "    pool4 = MaxPooling3D(pool_size=(2, 2, 2))(drop4)\n",
    "    print(pool4)\n",
    "\n",
    "    conv5 = Conv3D(1024, 3, activation = 'relu', padding = 'same', kernel_initializer = 'he_normal')(pool4)\n",
    "    conv5 = Conv3D(1024, 3, activation = 'relu', padding = 'same', kernel_initializer = 'he_normal')(conv5)\n",
    "    drop5 = Dropout(0.5)(conv5)\n",
    "\n",
    "    up6 = Conv3D(512, 2, activation = 'relu', padding = 'same', kernel_initializer = 'he_normal')(UpSampling3D(size = (2,2,2))(drop5))\n",
    "    merge6 = concatenate([drop4,up6], axis = -1)\n",
    "    conv6 = Conv3D(512, 3, activation = 'relu', padding = 'same', kernel_initializer = 'he_normal')(merge6)\n",
    "    conv6 = Conv3D(512, 3, activation = 'relu', padding = 'same', kernel_initializer = 'he_normal')(conv6)\n",
    "\n",
    "    up7 = Conv3D(256, 2, activation = 'relu', padding = 'same', kernel_initializer = 'he_normal')(UpSampling3D(size = (2,2,2))(conv6))\n",
    "    merge7 = concatenate([conv3,up7], axis = -1)\n",
    "    conv7 = Conv3D(256, 3, activation = 'relu', padding = 'same', kernel_initializer = 'he_normal')(merge7)\n",
    "    conv7 = Conv3D(256, 3, activation = 'relu', padding = 'same', kernel_initializer = 'he_normal')(conv7)\n",
    "\n",
    "    up8 = Conv3D(128, 2, activation = 'relu', padding = 'same', kernel_initializer = 'he_normal')(UpSampling3D(size = (2,2,2))(conv7))\n",
    "    merge8 = concatenate([conv2,up8], axis = -1)\n",
    "    conv8 = Conv3D(128, 3, activation = 'relu', padding = 'same', kernel_initializer = 'he_normal')(merge8)\n",
    "    conv8 = Conv3D(128, 3, activation = 'relu', padding = 'same', kernel_initializer = 'he_normal')(conv8)\n",
    "\n",
    "    up9 = Conv3D(64, 2, activation = 'relu', padding = 'same', kernel_initializer = 'he_normal')(UpSampling3D(size = (2,2,2))(conv8))\n",
    "    merge9 = concatenate([conv1,up9], axis = -1)\n",
    "    conv9 = Conv3D(64, 3, activation = 'relu', padding = 'same', kernel_initializer = 'he_normal')(merge9)\n",
    "    conv9 = Conv3D(64, 3, activation = 'relu', padding = 'same', kernel_initializer = 'he_normal')(conv9)\n",
    "    conv9 = Conv3D(2, 3, activation = 'relu', padding = 'same', kernel_initializer = 'he_normal')(conv9)\n",
    "    conv10 = Conv3D(1, 1, activation = 'sigmoid')(conv9)\n",
    "\n",
    "    #model = Model(input = inputs, output = conv10)\n",
    "    model = Model(inputs, conv10)\n",
    "    \n",
    "    # if(pretrained_weights):\n",
    "    \t# model.load_weights(pretrained_weights)\n",
    "\n",
    "    return model"
   ]
  },
  {
   "cell_type": "markdown",
   "metadata": {},
   "source": [
    "Problem:\n",
    "- concatenating on the slice instead of the channel\n",
    "\n",
    "Bug Fix:\n",
    "- change axis to -1"
   ]
  },
  {
   "cell_type": "code",
   "execution_count": 46,
   "metadata": {},
   "outputs": [
    {
     "ename": "TypeError",
     "evalue": "add() missing 2 required positional arguments: 'x' and 'y'",
     "output_type": "error",
     "traceback": [
      "\u001b[0;31m---------------------------------------------------------------------------\u001b[0m",
      "\u001b[0;31mTypeError\u001b[0m                                 Traceback (most recent call last)",
      "\u001b[1;32m/home/jtabalon/airway_seg/fit_one_image.ipynb Cell 13'\u001b[0m in \u001b[0;36m<module>\u001b[0;34m\u001b[0m\n\u001b[0;32m----> <a href='vscode-notebook-cell://ssh-remote%2B130.191.31.61/home/jtabalon/airway_seg/fit_one_image.ipynb#ch0000023vscode-remote?line=0'>1</a>\u001b[0m tf\u001b[39m.\u001b[39;49mmath\u001b[39m.\u001b[39;49madd()\n",
      "\u001b[0;31mTypeError\u001b[0m: add() missing 2 required positional arguments: 'x' and 'y'"
     ]
    }
   ],
   "source": [
    "tf.math.add()"
   ]
  },
  {
   "cell_type": "code",
   "execution_count": 43,
   "metadata": {},
   "outputs": [],
   "source": [
    "def dice_loss(y_true, y_pred):\n",
    "    y_true = tf.cast(y_true, tf.float32)\n",
    "    #y_pred = tf.math.sigmoid(y_pred)\n",
    "    numerator = 2 * tf.reduce_sum(y_true * y_pred)\n",
    "    denominator = tf.reduce_sum(y_true + y_pred)\n",
    "    return 1 - numerator / denominator\n",
    "\n",
    "\n",
    "\n"
   ]
  },
  {
   "cell_type": "code",
   "execution_count": 35,
   "metadata": {},
   "outputs": [],
   "source": [
    "def compile_model(learning_rate):\n",
    "    #model.compile(optimizer = Adam(lr=learning_rate), loss = 'binary_crossentropy', metrics = ['accuracy'])\n",
    "    # TODO: code up and use DiceLoss, remove metrics\n",
    "    model.compile(optimizer = Adam(lr=learning_rate), loss = dice_loss)\n"
   ]
  },
  {
   "cell_type": "markdown",
   "metadata": {},
   "source": [
    "Next steps: \n",
    "- create data generator"
   ]
  },
  {
   "cell_type": "code",
   "execution_count": 36,
   "metadata": {},
   "outputs": [
    {
     "name": "stdout",
     "output_type": "stream",
     "text": [
      "KerasTensor(type_spec=TensorSpec(shape=(None, 32, 32, 32, 64), dtype=tf.float32, name=None), name='max_pooling3d_12/MaxPool3D:0', description=\"created by layer 'max_pooling3d_12'\")\n",
      "KerasTensor(type_spec=TensorSpec(shape=(None, 16, 16, 16, 128), dtype=tf.float32, name=None), name='max_pooling3d_13/MaxPool3D:0', description=\"created by layer 'max_pooling3d_13'\")\n",
      "KerasTensor(type_spec=TensorSpec(shape=(None, 8, 8, 8, 256), dtype=tf.float32, name=None), name='max_pooling3d_14/MaxPool3D:0', description=\"created by layer 'max_pooling3d_14'\")\n",
      "KerasTensor(type_spec=TensorSpec(shape=(None, 4, 4, 4, 512), dtype=tf.float32, name=None), name='max_pooling3d_15/MaxPool3D:0', description=\"created by layer 'max_pooling3d_15'\")\n"
     ]
    }
   ],
   "source": [
    "model = unet(input_size=(64,64,64, 1))\n",
    "compile_model(learning_rate)"
   ]
  },
  {
   "cell_type": "code",
   "execution_count": 37,
   "metadata": {},
   "outputs": [
    {
     "name": "stdout",
     "output_type": "stream",
     "text": [
      "[(None, 64, 64, 64, 1)]\n",
      "(None, 64, 64, 64, 64)\n",
      "(None, 64, 64, 64, 64)\n",
      "(None, 32, 32, 32, 64)\n",
      "(None, 32, 32, 32, 128)\n",
      "(None, 32, 32, 32, 128)\n",
      "(None, 16, 16, 16, 128)\n",
      "(None, 16, 16, 16, 256)\n",
      "(None, 16, 16, 16, 256)\n",
      "(None, 8, 8, 8, 256)\n",
      "(None, 8, 8, 8, 512)\n",
      "(None, 8, 8, 8, 512)\n",
      "(None, 8, 8, 8, 512)\n",
      "(None, 4, 4, 4, 512)\n",
      "(None, 4, 4, 4, 1024)\n",
      "(None, 4, 4, 4, 1024)\n",
      "(None, 4, 4, 4, 1024)\n",
      "(None, 8, 8, 8, 1024)\n",
      "(None, 8, 8, 8, 512)\n",
      "(None, 8, 8, 8, 1024)\n",
      "(None, 8, 8, 8, 512)\n",
      "(None, 8, 8, 8, 512)\n",
      "(None, 16, 16, 16, 512)\n",
      "(None, 16, 16, 16, 256)\n",
      "(None, 16, 16, 16, 512)\n",
      "(None, 16, 16, 16, 256)\n",
      "(None, 16, 16, 16, 256)\n",
      "(None, 32, 32, 32, 256)\n",
      "(None, 32, 32, 32, 128)\n",
      "(None, 32, 32, 32, 256)\n",
      "(None, 32, 32, 32, 128)\n",
      "(None, 32, 32, 32, 128)\n",
      "(None, 64, 64, 64, 128)\n",
      "(None, 64, 64, 64, 64)\n",
      "(None, 64, 64, 64, 128)\n",
      "(None, 64, 64, 64, 64)\n",
      "(None, 64, 64, 64, 64)\n",
      "(None, 64, 64, 64, 2)\n",
      "(None, 64, 64, 64, 1)\n"
     ]
    }
   ],
   "source": [
    "for layer in model.layers:\n",
    "    print(layer.output_shape)"
   ]
  },
  {
   "cell_type": "code",
   "execution_count": 38,
   "metadata": {},
   "outputs": [
    {
     "data": {
      "text/plain": [
       "<KerasTensor: shape=(None, 64, 64, 64, 1) dtype=float32 (created by layer 'input_4')>"
      ]
     },
     "execution_count": 38,
     "metadata": {},
     "output_type": "execute_result"
    }
   ],
   "source": [
    "model.input"
   ]
  },
  {
   "cell_type": "code",
   "execution_count": 39,
   "metadata": {},
   "outputs": [
    {
     "data": {
      "text/plain": [
       "<KerasTensor: shape=(None, 64, 64, 64, 1) dtype=float32 (created by layer 'conv3d_95')>"
      ]
     },
     "execution_count": 39,
     "metadata": {},
     "output_type": "execute_result"
    }
   ],
   "source": [
    "model.output"
   ]
  },
  {
   "cell_type": "code",
   "execution_count": 40,
   "metadata": {},
   "outputs": [
    {
     "name": "stdout",
     "output_type": "stream",
     "text": [
      "Model: \"model_3\"\n",
      "__________________________________________________________________________________________________\n",
      "Layer (type)                    Output Shape         Param #     Connected to                     \n",
      "==================================================================================================\n",
      "input_4 (InputLayer)            [(None, 64, 64, 64,  0                                            \n",
      "__________________________________________________________________________________________________\n",
      "conv3d_72 (Conv3D)              (None, 64, 64, 64, 6 1792        input_4[0][0]                    \n",
      "__________________________________________________________________________________________________\n",
      "conv3d_73 (Conv3D)              (None, 64, 64, 64, 6 110656      conv3d_72[0][0]                  \n",
      "__________________________________________________________________________________________________\n",
      "max_pooling3d_12 (MaxPooling3D) (None, 32, 32, 32, 6 0           conv3d_73[0][0]                  \n",
      "__________________________________________________________________________________________________\n",
      "conv3d_74 (Conv3D)              (None, 32, 32, 32, 1 221312      max_pooling3d_12[0][0]           \n",
      "__________________________________________________________________________________________________\n",
      "conv3d_75 (Conv3D)              (None, 32, 32, 32, 1 442496      conv3d_74[0][0]                  \n",
      "__________________________________________________________________________________________________\n",
      "max_pooling3d_13 (MaxPooling3D) (None, 16, 16, 16, 1 0           conv3d_75[0][0]                  \n",
      "__________________________________________________________________________________________________\n",
      "conv3d_76 (Conv3D)              (None, 16, 16, 16, 2 884992      max_pooling3d_13[0][0]           \n",
      "__________________________________________________________________________________________________\n",
      "conv3d_77 (Conv3D)              (None, 16, 16, 16, 2 1769728     conv3d_76[0][0]                  \n",
      "__________________________________________________________________________________________________\n",
      "max_pooling3d_14 (MaxPooling3D) (None, 8, 8, 8, 256) 0           conv3d_77[0][0]                  \n",
      "__________________________________________________________________________________________________\n",
      "conv3d_78 (Conv3D)              (None, 8, 8, 8, 512) 3539456     max_pooling3d_14[0][0]           \n",
      "__________________________________________________________________________________________________\n",
      "conv3d_79 (Conv3D)              (None, 8, 8, 8, 512) 7078400     conv3d_78[0][0]                  \n",
      "__________________________________________________________________________________________________\n",
      "dropout_6 (Dropout)             (None, 8, 8, 8, 512) 0           conv3d_79[0][0]                  \n",
      "__________________________________________________________________________________________________\n",
      "max_pooling3d_15 (MaxPooling3D) (None, 4, 4, 4, 512) 0           dropout_6[0][0]                  \n",
      "__________________________________________________________________________________________________\n",
      "conv3d_80 (Conv3D)              (None, 4, 4, 4, 1024 14156800    max_pooling3d_15[0][0]           \n",
      "__________________________________________________________________________________________________\n",
      "conv3d_81 (Conv3D)              (None, 4, 4, 4, 1024 28312576    conv3d_80[0][0]                  \n",
      "__________________________________________________________________________________________________\n",
      "dropout_7 (Dropout)             (None, 4, 4, 4, 1024 0           conv3d_81[0][0]                  \n",
      "__________________________________________________________________________________________________\n",
      "up_sampling3d_12 (UpSampling3D) (None, 8, 8, 8, 1024 0           dropout_7[0][0]                  \n",
      "__________________________________________________________________________________________________\n",
      "conv3d_82 (Conv3D)              (None, 8, 8, 8, 512) 4194816     up_sampling3d_12[0][0]           \n",
      "__________________________________________________________________________________________________\n",
      "concatenate_12 (Concatenate)    (None, 8, 8, 8, 1024 0           dropout_6[0][0]                  \n",
      "                                                                 conv3d_82[0][0]                  \n",
      "__________________________________________________________________________________________________\n",
      "conv3d_83 (Conv3D)              (None, 8, 8, 8, 512) 14156288    concatenate_12[0][0]             \n",
      "__________________________________________________________________________________________________\n",
      "conv3d_84 (Conv3D)              (None, 8, 8, 8, 512) 7078400     conv3d_83[0][0]                  \n",
      "__________________________________________________________________________________________________\n",
      "up_sampling3d_13 (UpSampling3D) (None, 16, 16, 16, 5 0           conv3d_84[0][0]                  \n",
      "__________________________________________________________________________________________________\n",
      "conv3d_85 (Conv3D)              (None, 16, 16, 16, 2 1048832     up_sampling3d_13[0][0]           \n",
      "__________________________________________________________________________________________________\n",
      "concatenate_13 (Concatenate)    (None, 16, 16, 16, 5 0           conv3d_77[0][0]                  \n",
      "                                                                 conv3d_85[0][0]                  \n",
      "__________________________________________________________________________________________________\n",
      "conv3d_86 (Conv3D)              (None, 16, 16, 16, 2 3539200     concatenate_13[0][0]             \n",
      "__________________________________________________________________________________________________\n",
      "conv3d_87 (Conv3D)              (None, 16, 16, 16, 2 1769728     conv3d_86[0][0]                  \n",
      "__________________________________________________________________________________________________\n",
      "up_sampling3d_14 (UpSampling3D) (None, 32, 32, 32, 2 0           conv3d_87[0][0]                  \n",
      "__________________________________________________________________________________________________\n",
      "conv3d_88 (Conv3D)              (None, 32, 32, 32, 1 262272      up_sampling3d_14[0][0]           \n",
      "__________________________________________________________________________________________________\n",
      "concatenate_14 (Concatenate)    (None, 32, 32, 32, 2 0           conv3d_75[0][0]                  \n",
      "                                                                 conv3d_88[0][0]                  \n",
      "__________________________________________________________________________________________________\n",
      "conv3d_89 (Conv3D)              (None, 32, 32, 32, 1 884864      concatenate_14[0][0]             \n",
      "__________________________________________________________________________________________________\n",
      "conv3d_90 (Conv3D)              (None, 32, 32, 32, 1 442496      conv3d_89[0][0]                  \n",
      "__________________________________________________________________________________________________\n",
      "up_sampling3d_15 (UpSampling3D) (None, 64, 64, 64, 1 0           conv3d_90[0][0]                  \n",
      "__________________________________________________________________________________________________\n",
      "conv3d_91 (Conv3D)              (None, 64, 64, 64, 6 65600       up_sampling3d_15[0][0]           \n",
      "__________________________________________________________________________________________________\n",
      "concatenate_15 (Concatenate)    (None, 64, 64, 64, 1 0           conv3d_73[0][0]                  \n",
      "                                                                 conv3d_91[0][0]                  \n",
      "__________________________________________________________________________________________________\n",
      "conv3d_92 (Conv3D)              (None, 64, 64, 64, 6 221248      concatenate_15[0][0]             \n",
      "__________________________________________________________________________________________________\n",
      "conv3d_93 (Conv3D)              (None, 64, 64, 64, 6 110656      conv3d_92[0][0]                  \n",
      "__________________________________________________________________________________________________\n",
      "conv3d_94 (Conv3D)              (None, 64, 64, 64, 2 3458        conv3d_93[0][0]                  \n",
      "__________________________________________________________________________________________________\n",
      "conv3d_95 (Conv3D)              (None, 64, 64, 64, 1 3           conv3d_94[0][0]                  \n",
      "==================================================================================================\n",
      "Total params: 90,296,069\n",
      "Trainable params: 90,296,069\n",
      "Non-trainable params: 0\n",
      "__________________________________________________________________________________________________\n"
     ]
    }
   ],
   "source": [
    "model.summary()\n",
    "\n"
   ]
  },
  {
   "cell_type": "code",
   "execution_count": 41,
   "metadata": {},
   "outputs": [
    {
     "data": {
      "text/plain": [
       "<matplotlib.image.AxesImage at 0x7fa0f1536340>"
      ]
     },
     "execution_count": 41,
     "metadata": {},
     "output_type": "execute_result"
    },
    {
     "data": {
      "image/png": "[encoded data removed]",
      "text/plain": [
       "<Figure size 432x288 with 1 Axes>"
      ]
     },
     "metadata": {
      "needs_background": "light"
     },
     "output_type": "display_data"
    }
   ],
   "source": [
    "plt.imshow(test_img[:,(107-32):(107+32),(305-32):(305+32),(411-32):(411+32),:][0,:,:,32,0], cmap = \"gray\")"
   ]
  },
  {
   "cell_type": "code",
   "execution_count": 42,
   "metadata": {},
   "outputs": [
    {
     "name": "stdout",
     "output_type": "stream",
     "text": [
      "Epoch 1/20\n"
     ]
    },
    {
     "ename": "NotImplementedError",
     "evalue": "in user code:\n\n    /home/jtabalon/anaconda3/envs/tf_airway/lib/python3.9/site-packages/tensorflow/python/keras/engine/training.py:805 train_function  *\n        return step_function(self, iterator)\n    /tmp/ipykernel_168950/3852583639.py:4 dice_loss  *\n        return ((2.0 * np.sum([y_pred * y_true])) / (np.sum(y_pred) + np.sum(y_true)))\n    <__array_function__ internals>:180 sum  **\n        \n    /home/jtabalon/anaconda3/envs/tf_airway/lib/python3.9/site-packages/numpy/core/fromnumeric.py:2296 sum\n        return _wrapreduction(a, np.add, 'sum', axis, dtype, out, keepdims=keepdims,\n    /home/jtabalon/anaconda3/envs/tf_airway/lib/python3.9/site-packages/numpy/core/fromnumeric.py:86 _wrapreduction\n        return ufunc.reduce(obj, axis, dtype, out, **passkwargs)\n    /home/jtabalon/anaconda3/envs/tf_airway/lib/python3.9/site-packages/tensorflow/python/framework/ops.py:852 __array__\n        raise NotImplementedError(\n\n    NotImplementedError: Cannot convert a symbolic Tensor (dice_loss/mul:0) to a numpy array. This error may indicate that you're trying to pass a Tensor to a NumPy call, which is not supported\n",
     "output_type": "error",
     "traceback": [
      "\u001b[0;31m---------------------------------------------------------------------------\u001b[0m",
      "\u001b[0;31mNotImplementedError\u001b[0m                       Traceback (most recent call last)",
      "\u001b[1;32m/home/jtabalon/airway_seg/fit_one_image.ipynb Cell 22'\u001b[0m in \u001b[0;36m<module>\u001b[0;34m\u001b[0m\n\u001b[1;32m      <a href='vscode-notebook-cell://ssh-remote%2B130.191.31.61/home/jtabalon/airway_seg/fit_one_image.ipynb#ch0000020vscode-remote?line=0'>1</a>\u001b[0m \u001b[39m#model.fit(x=test_img, y=test_mask)\u001b[39;00m\n\u001b[0;32m----> <a href='vscode-notebook-cell://ssh-remote%2B130.191.31.61/home/jtabalon/airway_seg/fit_one_image.ipynb#ch0000020vscode-remote?line=1'>2</a>\u001b[0m model\u001b[39m.\u001b[39;49mfit(x\u001b[39m=\u001b[39;49mtest_img[:,(\u001b[39m107\u001b[39;49m\u001b[39m-\u001b[39;49m\u001b[39m32\u001b[39;49m):(\u001b[39m107\u001b[39;49m\u001b[39m+\u001b[39;49m\u001b[39m32\u001b[39;49m),(\u001b[39m305\u001b[39;49m\u001b[39m-\u001b[39;49m\u001b[39m32\u001b[39;49m):(\u001b[39m305\u001b[39;49m\u001b[39m+\u001b[39;49m\u001b[39m32\u001b[39;49m),(\u001b[39m411\u001b[39;49m\u001b[39m-\u001b[39;49m\u001b[39m32\u001b[39;49m):(\u001b[39m411\u001b[39;49m\u001b[39m+\u001b[39;49m\u001b[39m32\u001b[39;49m),:], y\u001b[39m=\u001b[39;49mtest_mask[:,(\u001b[39m107\u001b[39;49m\u001b[39m-\u001b[39;49m\u001b[39m32\u001b[39;49m):(\u001b[39m107\u001b[39;49m\u001b[39m+\u001b[39;49m\u001b[39m32\u001b[39;49m),(\u001b[39m305\u001b[39;49m\u001b[39m-\u001b[39;49m\u001b[39m32\u001b[39;49m):(\u001b[39m305\u001b[39;49m\u001b[39m+\u001b[39;49m\u001b[39m32\u001b[39;49m),(\u001b[39m411\u001b[39;49m\u001b[39m-\u001b[39;49m\u001b[39m32\u001b[39;49m):(\u001b[39m411\u001b[39;49m\u001b[39m+\u001b[39;49m\u001b[39m32\u001b[39;49m),:], epochs\u001b[39m=\u001b[39;49m\u001b[39m20\u001b[39;49m )\n",
      "File \u001b[0;32m~/anaconda3/envs/tf_airway/lib/python3.9/site-packages/tensorflow/python/keras/engine/training.py:1100\u001b[0m, in \u001b[0;36mModel.fit\u001b[0;34m(self, x, y, batch_size, epochs, verbose, callbacks, validation_split, validation_data, shuffle, class_weight, sample_weight, initial_epoch, steps_per_epoch, validation_steps, validation_batch_size, validation_freq, max_queue_size, workers, use_multiprocessing)\u001b[0m\n\u001b[1;32m   <a href='file:///home/jtabalon/anaconda3/envs/tf_airway/lib/python3.9/site-packages/tensorflow/python/keras/engine/training.py?line=1092'>1093</a>\u001b[0m \u001b[39mwith\u001b[39;00m trace\u001b[39m.\u001b[39mTrace(\n\u001b[1;32m   <a href='file:///home/jtabalon/anaconda3/envs/tf_airway/lib/python3.9/site-packages/tensorflow/python/keras/engine/training.py?line=1093'>1094</a>\u001b[0m     \u001b[39m'\u001b[39m\u001b[39mtrain\u001b[39m\u001b[39m'\u001b[39m,\n\u001b[1;32m   <a href='file:///home/jtabalon/anaconda3/envs/tf_airway/lib/python3.9/site-packages/tensorflow/python/keras/engine/training.py?line=1094'>1095</a>\u001b[0m     epoch_num\u001b[39m=\u001b[39mepoch,\n\u001b[1;32m   <a href='file:///home/jtabalon/anaconda3/envs/tf_airway/lib/python3.9/site-packages/tensorflow/python/keras/engine/training.py?line=1095'>1096</a>\u001b[0m     step_num\u001b[39m=\u001b[39mstep,\n\u001b[1;32m   <a href='file:///home/jtabalon/anaconda3/envs/tf_airway/lib/python3.9/site-packages/tensorflow/python/keras/engine/training.py?line=1096'>1097</a>\u001b[0m     batch_size\u001b[39m=\u001b[39mbatch_size,\n\u001b[1;32m   <a href='file:///home/jtabalon/anaconda3/envs/tf_airway/lib/python3.9/site-packages/tensorflow/python/keras/engine/training.py?line=1097'>1098</a>\u001b[0m     _r\u001b[39m=\u001b[39m\u001b[39m1\u001b[39m):\n\u001b[1;32m   <a href='file:///home/jtabalon/anaconda3/envs/tf_airway/lib/python3.9/site-packages/tensorflow/python/keras/engine/training.py?line=1098'>1099</a>\u001b[0m   callbacks\u001b[39m.\u001b[39mon_train_batch_begin(step)\n\u001b[0;32m-> <a href='file:///home/jtabalon/anaconda3/envs/tf_airway/lib/python3.9/site-packages/tensorflow/python/keras/engine/training.py?line=1099'>1100</a>\u001b[0m   tmp_logs \u001b[39m=\u001b[39m \u001b[39mself\u001b[39;49m\u001b[39m.\u001b[39;49mtrain_function(iterator)\n\u001b[1;32m   <a href='file:///home/jtabalon/anaconda3/envs/tf_airway/lib/python3.9/site-packages/tensorflow/python/keras/engine/training.py?line=1100'>1101</a>\u001b[0m   \u001b[39mif\u001b[39;00m data_handler\u001b[39m.\u001b[39mshould_sync:\n\u001b[1;32m   <a href='file:///home/jtabalon/anaconda3/envs/tf_airway/lib/python3.9/site-packages/tensorflow/python/keras/engine/training.py?line=1101'>1102</a>\u001b[0m     context\u001b[39m.\u001b[39masync_wait()\n",
      "File \u001b[0;32m~/anaconda3/envs/tf_airway/lib/python3.9/site-packages/tensorflow/python/eager/def_function.py:828\u001b[0m, in \u001b[0;36mFunction.__call__\u001b[0;34m(self, *args, **kwds)\u001b[0m\n\u001b[1;32m    <a href='file:///home/jtabalon/anaconda3/envs/tf_airway/lib/python3.9/site-packages/tensorflow/python/eager/def_function.py?line=825'>826</a>\u001b[0m tracing_count \u001b[39m=\u001b[39m \u001b[39mself\u001b[39m\u001b[39m.\u001b[39mexperimental_get_tracing_count()\n\u001b[1;32m    <a href='file:///home/jtabalon/anaconda3/envs/tf_airway/lib/python3.9/site-packages/tensorflow/python/eager/def_function.py?line=826'>827</a>\u001b[0m \u001b[39mwith\u001b[39;00m trace\u001b[39m.\u001b[39mTrace(\u001b[39mself\u001b[39m\u001b[39m.\u001b[39m_name) \u001b[39mas\u001b[39;00m tm:\n\u001b[0;32m--> <a href='file:///home/jtabalon/anaconda3/envs/tf_airway/lib/python3.9/site-packages/tensorflow/python/eager/def_function.py?line=827'>828</a>\u001b[0m   result \u001b[39m=\u001b[39m \u001b[39mself\u001b[39;49m\u001b[39m.\u001b[39;49m_call(\u001b[39m*\u001b[39;49margs, \u001b[39m*\u001b[39;49m\u001b[39m*\u001b[39;49mkwds)\n\u001b[1;32m    <a href='file:///home/jtabalon/anaconda3/envs/tf_airway/lib/python3.9/site-packages/tensorflow/python/eager/def_function.py?line=828'>829</a>\u001b[0m   compiler \u001b[39m=\u001b[39m \u001b[39m\"\u001b[39m\u001b[39mxla\u001b[39m\u001b[39m\"\u001b[39m \u001b[39mif\u001b[39;00m \u001b[39mself\u001b[39m\u001b[39m.\u001b[39m_experimental_compile \u001b[39melse\u001b[39;00m \u001b[39m\"\u001b[39m\u001b[39mnonXla\u001b[39m\u001b[39m\"\u001b[39m\n\u001b[1;32m    <a href='file:///home/jtabalon/anaconda3/envs/tf_airway/lib/python3.9/site-packages/tensorflow/python/eager/def_function.py?line=829'>830</a>\u001b[0m   new_tracing_count \u001b[39m=\u001b[39m \u001b[39mself\u001b[39m\u001b[39m.\u001b[39mexperimental_get_tracing_count()\n",
      "File \u001b[0;32m~/anaconda3/envs/tf_airway/lib/python3.9/site-packages/tensorflow/python/eager/def_function.py:871\u001b[0m, in \u001b[0;36mFunction._call\u001b[0;34m(self, *args, **kwds)\u001b[0m\n\u001b[1;32m    <a href='file:///home/jtabalon/anaconda3/envs/tf_airway/lib/python3.9/site-packages/tensorflow/python/eager/def_function.py?line=867'>868</a>\u001b[0m \u001b[39mtry\u001b[39;00m:\n\u001b[1;32m    <a href='file:///home/jtabalon/anaconda3/envs/tf_airway/lib/python3.9/site-packages/tensorflow/python/eager/def_function.py?line=868'>869</a>\u001b[0m   \u001b[39m# This is the first call of __call__, so we have to initialize.\u001b[39;00m\n\u001b[1;32m    <a href='file:///home/jtabalon/anaconda3/envs/tf_airway/lib/python3.9/site-packages/tensorflow/python/eager/def_function.py?line=869'>870</a>\u001b[0m   initializers \u001b[39m=\u001b[39m []\n\u001b[0;32m--> <a href='file:///home/jtabalon/anaconda3/envs/tf_airway/lib/python3.9/site-packages/tensorflow/python/eager/def_function.py?line=870'>871</a>\u001b[0m   \u001b[39mself\u001b[39;49m\u001b[39m.\u001b[39;49m_initialize(args, kwds, add_initializers_to\u001b[39m=\u001b[39;49minitializers)\n\u001b[1;32m    <a href='file:///home/jtabalon/anaconda3/envs/tf_airway/lib/python3.9/site-packages/tensorflow/python/eager/def_function.py?line=871'>872</a>\u001b[0m \u001b[39mfinally\u001b[39;00m:\n\u001b[1;32m    <a href='file:///home/jtabalon/anaconda3/envs/tf_airway/lib/python3.9/site-packages/tensorflow/python/eager/def_function.py?line=872'>873</a>\u001b[0m   \u001b[39m# At this point we know that the initialization is complete (or less\u001b[39;00m\n\u001b[1;32m    <a href='file:///home/jtabalon/anaconda3/envs/tf_airway/lib/python3.9/site-packages/tensorflow/python/eager/def_function.py?line=873'>874</a>\u001b[0m   \u001b[39m# interestingly an exception was raised) so we no longer need a lock.\u001b[39;00m\n\u001b[1;32m    <a href='file:///home/jtabalon/anaconda3/envs/tf_airway/lib/python3.9/site-packages/tensorflow/python/eager/def_function.py?line=874'>875</a>\u001b[0m   \u001b[39mself\u001b[39m\u001b[39m.\u001b[39m_lock\u001b[39m.\u001b[39mrelease()\n",
      "File \u001b[0;32m~/anaconda3/envs/tf_airway/lib/python3.9/site-packages/tensorflow/python/eager/def_function.py:725\u001b[0m, in \u001b[0;36mFunction._initialize\u001b[0;34m(self, args, kwds, add_initializers_to)\u001b[0m\n\u001b[1;32m    <a href='file:///home/jtabalon/anaconda3/envs/tf_airway/lib/python3.9/site-packages/tensorflow/python/eager/def_function.py?line=721'>722</a>\u001b[0m \u001b[39mself\u001b[39m\u001b[39m.\u001b[39m_lifted_initializer_graph \u001b[39m=\u001b[39m lifted_initializer_graph\n\u001b[1;32m    <a href='file:///home/jtabalon/anaconda3/envs/tf_airway/lib/python3.9/site-packages/tensorflow/python/eager/def_function.py?line=722'>723</a>\u001b[0m \u001b[39mself\u001b[39m\u001b[39m.\u001b[39m_graph_deleter \u001b[39m=\u001b[39m FunctionDeleter(\u001b[39mself\u001b[39m\u001b[39m.\u001b[39m_lifted_initializer_graph)\n\u001b[1;32m    <a href='file:///home/jtabalon/anaconda3/envs/tf_airway/lib/python3.9/site-packages/tensorflow/python/eager/def_function.py?line=723'>724</a>\u001b[0m \u001b[39mself\u001b[39m\u001b[39m.\u001b[39m_concrete_stateful_fn \u001b[39m=\u001b[39m (\n\u001b[0;32m--> <a href='file:///home/jtabalon/anaconda3/envs/tf_airway/lib/python3.9/site-packages/tensorflow/python/eager/def_function.py?line=724'>725</a>\u001b[0m     \u001b[39mself\u001b[39;49m\u001b[39m.\u001b[39;49m_stateful_fn\u001b[39m.\u001b[39;49m_get_concrete_function_internal_garbage_collected(  \u001b[39m# pylint: disable=protected-access\u001b[39;49;00m\n\u001b[1;32m    <a href='file:///home/jtabalon/anaconda3/envs/tf_airway/lib/python3.9/site-packages/tensorflow/python/eager/def_function.py?line=725'>726</a>\u001b[0m         \u001b[39m*\u001b[39;49margs, \u001b[39m*\u001b[39;49m\u001b[39m*\u001b[39;49mkwds))\n\u001b[1;32m    <a href='file:///home/jtabalon/anaconda3/envs/tf_airway/lib/python3.9/site-packages/tensorflow/python/eager/def_function.py?line=727'>728</a>\u001b[0m \u001b[39mdef\u001b[39;00m \u001b[39minvalid_creator_scope\u001b[39m(\u001b[39m*\u001b[39munused_args, \u001b[39m*\u001b[39m\u001b[39m*\u001b[39munused_kwds):\n\u001b[1;32m    <a href='file:///home/jtabalon/anaconda3/envs/tf_airway/lib/python3.9/site-packages/tensorflow/python/eager/def_function.py?line=728'>729</a>\u001b[0m   \u001b[39m\"\"\"Disables variable creation.\"\"\"\u001b[39;00m\n",
      "File \u001b[0;32m~/anaconda3/envs/tf_airway/lib/python3.9/site-packages/tensorflow/python/eager/function.py:2969\u001b[0m, in \u001b[0;36mFunction._get_concrete_function_internal_garbage_collected\u001b[0;34m(self, *args, **kwargs)\u001b[0m\n\u001b[1;32m   <a href='file:///home/jtabalon/anaconda3/envs/tf_airway/lib/python3.9/site-packages/tensorflow/python/eager/function.py?line=2966'>2967</a>\u001b[0m   args, kwargs \u001b[39m=\u001b[39m \u001b[39mNone\u001b[39;00m, \u001b[39mNone\u001b[39;00m\n\u001b[1;32m   <a href='file:///home/jtabalon/anaconda3/envs/tf_airway/lib/python3.9/site-packages/tensorflow/python/eager/function.py?line=2967'>2968</a>\u001b[0m \u001b[39mwith\u001b[39;00m \u001b[39mself\u001b[39m\u001b[39m.\u001b[39m_lock:\n\u001b[0;32m-> <a href='file:///home/jtabalon/anaconda3/envs/tf_airway/lib/python3.9/site-packages/tensorflow/python/eager/function.py?line=2968'>2969</a>\u001b[0m   graph_function, _ \u001b[39m=\u001b[39m \u001b[39mself\u001b[39;49m\u001b[39m.\u001b[39;49m_maybe_define_function(args, kwargs)\n\u001b[1;32m   <a href='file:///home/jtabalon/anaconda3/envs/tf_airway/lib/python3.9/site-packages/tensorflow/python/eager/function.py?line=2969'>2970</a>\u001b[0m \u001b[39mreturn\u001b[39;00m graph_function\n",
      "File \u001b[0;32m~/anaconda3/envs/tf_airway/lib/python3.9/site-packages/tensorflow/python/eager/function.py:3361\u001b[0m, in \u001b[0;36mFunction._maybe_define_function\u001b[0;34m(self, args, kwargs)\u001b[0m\n\u001b[1;32m   <a href='file:///home/jtabalon/anaconda3/envs/tf_airway/lib/python3.9/site-packages/tensorflow/python/eager/function.py?line=3356'>3357</a>\u001b[0m   \u001b[39mreturn\u001b[39;00m \u001b[39mself\u001b[39m\u001b[39m.\u001b[39m_define_function_with_shape_relaxation(\n\u001b[1;32m   <a href='file:///home/jtabalon/anaconda3/envs/tf_airway/lib/python3.9/site-packages/tensorflow/python/eager/function.py?line=3357'>3358</a>\u001b[0m       args, kwargs, flat_args, filtered_flat_args, cache_key_context)\n\u001b[1;32m   <a href='file:///home/jtabalon/anaconda3/envs/tf_airway/lib/python3.9/site-packages/tensorflow/python/eager/function.py?line=3359'>3360</a>\u001b[0m \u001b[39mself\u001b[39m\u001b[39m.\u001b[39m_function_cache\u001b[39m.\u001b[39mmissed\u001b[39m.\u001b[39madd(call_context_key)\n\u001b[0;32m-> <a href='file:///home/jtabalon/anaconda3/envs/tf_airway/lib/python3.9/site-packages/tensorflow/python/eager/function.py?line=3360'>3361</a>\u001b[0m graph_function \u001b[39m=\u001b[39m \u001b[39mself\u001b[39;49m\u001b[39m.\u001b[39;49m_create_graph_function(args, kwargs)\n\u001b[1;32m   <a href='file:///home/jtabalon/anaconda3/envs/tf_airway/lib/python3.9/site-packages/tensorflow/python/eager/function.py?line=3361'>3362</a>\u001b[0m \u001b[39mself\u001b[39m\u001b[39m.\u001b[39m_function_cache\u001b[39m.\u001b[39mprimary[cache_key] \u001b[39m=\u001b[39m graph_function\n\u001b[1;32m   <a href='file:///home/jtabalon/anaconda3/envs/tf_airway/lib/python3.9/site-packages/tensorflow/python/eager/function.py?line=3363'>3364</a>\u001b[0m \u001b[39mreturn\u001b[39;00m graph_function, filtered_flat_args\n",
      "File \u001b[0;32m~/anaconda3/envs/tf_airway/lib/python3.9/site-packages/tensorflow/python/eager/function.py:3196\u001b[0m, in \u001b[0;36mFunction._create_graph_function\u001b[0;34m(self, args, kwargs, override_flat_arg_shapes)\u001b[0m\n\u001b[1;32m   <a href='file:///home/jtabalon/anaconda3/envs/tf_airway/lib/python3.9/site-packages/tensorflow/python/eager/function.py?line=3190'>3191</a>\u001b[0m missing_arg_names \u001b[39m=\u001b[39m [\n\u001b[1;32m   <a href='file:///home/jtabalon/anaconda3/envs/tf_airway/lib/python3.9/site-packages/tensorflow/python/eager/function.py?line=3191'>3192</a>\u001b[0m     \u001b[39m\"\u001b[39m\u001b[39m%s\u001b[39;00m\u001b[39m_\u001b[39m\u001b[39m%d\u001b[39;00m\u001b[39m\"\u001b[39m \u001b[39m%\u001b[39m (arg, i) \u001b[39mfor\u001b[39;00m i, arg \u001b[39min\u001b[39;00m \u001b[39menumerate\u001b[39m(missing_arg_names)\n\u001b[1;32m   <a href='file:///home/jtabalon/anaconda3/envs/tf_airway/lib/python3.9/site-packages/tensorflow/python/eager/function.py?line=3192'>3193</a>\u001b[0m ]\n\u001b[1;32m   <a href='file:///home/jtabalon/anaconda3/envs/tf_airway/lib/python3.9/site-packages/tensorflow/python/eager/function.py?line=3193'>3194</a>\u001b[0m arg_names \u001b[39m=\u001b[39m base_arg_names \u001b[39m+\u001b[39m missing_arg_names\n\u001b[1;32m   <a href='file:///home/jtabalon/anaconda3/envs/tf_airway/lib/python3.9/site-packages/tensorflow/python/eager/function.py?line=3194'>3195</a>\u001b[0m graph_function \u001b[39m=\u001b[39m ConcreteFunction(\n\u001b[0;32m-> <a href='file:///home/jtabalon/anaconda3/envs/tf_airway/lib/python3.9/site-packages/tensorflow/python/eager/function.py?line=3195'>3196</a>\u001b[0m     func_graph_module\u001b[39m.\u001b[39;49mfunc_graph_from_py_func(\n\u001b[1;32m   <a href='file:///home/jtabalon/anaconda3/envs/tf_airway/lib/python3.9/site-packages/tensorflow/python/eager/function.py?line=3196'>3197</a>\u001b[0m         \u001b[39mself\u001b[39;49m\u001b[39m.\u001b[39;49m_name,\n\u001b[1;32m   <a href='file:///home/jtabalon/anaconda3/envs/tf_airway/lib/python3.9/site-packages/tensorflow/python/eager/function.py?line=3197'>3198</a>\u001b[0m         \u001b[39mself\u001b[39;49m\u001b[39m.\u001b[39;49m_python_function,\n\u001b[1;32m   <a href='file:///home/jtabalon/anaconda3/envs/tf_airway/lib/python3.9/site-packages/tensorflow/python/eager/function.py?line=3198'>3199</a>\u001b[0m         args,\n\u001b[1;32m   <a href='file:///home/jtabalon/anaconda3/envs/tf_airway/lib/python3.9/site-packages/tensorflow/python/eager/function.py?line=3199'>3200</a>\u001b[0m         kwargs,\n\u001b[1;32m   <a href='file:///home/jtabalon/anaconda3/envs/tf_airway/lib/python3.9/site-packages/tensorflow/python/eager/function.py?line=3200'>3201</a>\u001b[0m         \u001b[39mself\u001b[39;49m\u001b[39m.\u001b[39;49minput_signature,\n\u001b[1;32m   <a href='file:///home/jtabalon/anaconda3/envs/tf_airway/lib/python3.9/site-packages/tensorflow/python/eager/function.py?line=3201'>3202</a>\u001b[0m         autograph\u001b[39m=\u001b[39;49m\u001b[39mself\u001b[39;49m\u001b[39m.\u001b[39;49m_autograph,\n\u001b[1;32m   <a href='file:///home/jtabalon/anaconda3/envs/tf_airway/lib/python3.9/site-packages/tensorflow/python/eager/function.py?line=3202'>3203</a>\u001b[0m         autograph_options\u001b[39m=\u001b[39;49m\u001b[39mself\u001b[39;49m\u001b[39m.\u001b[39;49m_autograph_options,\n\u001b[1;32m   <a href='file:///home/jtabalon/anaconda3/envs/tf_airway/lib/python3.9/site-packages/tensorflow/python/eager/function.py?line=3203'>3204</a>\u001b[0m         arg_names\u001b[39m=\u001b[39;49marg_names,\n\u001b[1;32m   <a href='file:///home/jtabalon/anaconda3/envs/tf_airway/lib/python3.9/site-packages/tensorflow/python/eager/function.py?line=3204'>3205</a>\u001b[0m         override_flat_arg_shapes\u001b[39m=\u001b[39;49moverride_flat_arg_shapes,\n\u001b[1;32m   <a href='file:///home/jtabalon/anaconda3/envs/tf_airway/lib/python3.9/site-packages/tensorflow/python/eager/function.py?line=3205'>3206</a>\u001b[0m         capture_by_value\u001b[39m=\u001b[39;49m\u001b[39mself\u001b[39;49m\u001b[39m.\u001b[39;49m_capture_by_value),\n\u001b[1;32m   <a href='file:///home/jtabalon/anaconda3/envs/tf_airway/lib/python3.9/site-packages/tensorflow/python/eager/function.py?line=3206'>3207</a>\u001b[0m     \u001b[39mself\u001b[39m\u001b[39m.\u001b[39m_function_attributes,\n\u001b[1;32m   <a href='file:///home/jtabalon/anaconda3/envs/tf_airway/lib/python3.9/site-packages/tensorflow/python/eager/function.py?line=3207'>3208</a>\u001b[0m     function_spec\u001b[39m=\u001b[39m\u001b[39mself\u001b[39m\u001b[39m.\u001b[39mfunction_spec,\n\u001b[1;32m   <a href='file:///home/jtabalon/anaconda3/envs/tf_airway/lib/python3.9/site-packages/tensorflow/python/eager/function.py?line=3208'>3209</a>\u001b[0m     \u001b[39m# Tell the ConcreteFunction to clean up its graph once it goes out of\u001b[39;00m\n\u001b[1;32m   <a href='file:///home/jtabalon/anaconda3/envs/tf_airway/lib/python3.9/site-packages/tensorflow/python/eager/function.py?line=3209'>3210</a>\u001b[0m     \u001b[39m# scope. This is not the default behavior since it gets used in some\u001b[39;00m\n\u001b[1;32m   <a href='file:///home/jtabalon/anaconda3/envs/tf_airway/lib/python3.9/site-packages/tensorflow/python/eager/function.py?line=3210'>3211</a>\u001b[0m     \u001b[39m# places (like Keras) where the FuncGraph lives longer than the\u001b[39;00m\n\u001b[1;32m   <a href='file:///home/jtabalon/anaconda3/envs/tf_airway/lib/python3.9/site-packages/tensorflow/python/eager/function.py?line=3211'>3212</a>\u001b[0m     \u001b[39m# ConcreteFunction.\u001b[39;00m\n\u001b[1;32m   <a href='file:///home/jtabalon/anaconda3/envs/tf_airway/lib/python3.9/site-packages/tensorflow/python/eager/function.py?line=3212'>3213</a>\u001b[0m     shared_func_graph\u001b[39m=\u001b[39m\u001b[39mFalse\u001b[39;00m)\n\u001b[1;32m   <a href='file:///home/jtabalon/anaconda3/envs/tf_airway/lib/python3.9/site-packages/tensorflow/python/eager/function.py?line=3213'>3214</a>\u001b[0m \u001b[39mreturn\u001b[39;00m graph_function\n",
      "File \u001b[0;32m~/anaconda3/envs/tf_airway/lib/python3.9/site-packages/tensorflow/python/framework/func_graph.py:990\u001b[0m, in \u001b[0;36mfunc_graph_from_py_func\u001b[0;34m(name, python_func, args, kwargs, signature, func_graph, autograph, autograph_options, add_control_dependencies, arg_names, op_return_value, collections, capture_by_value, override_flat_arg_shapes)\u001b[0m\n\u001b[1;32m    <a href='file:///home/jtabalon/anaconda3/envs/tf_airway/lib/python3.9/site-packages/tensorflow/python/framework/func_graph.py?line=986'>987</a>\u001b[0m \u001b[39melse\u001b[39;00m:\n\u001b[1;32m    <a href='file:///home/jtabalon/anaconda3/envs/tf_airway/lib/python3.9/site-packages/tensorflow/python/framework/func_graph.py?line=987'>988</a>\u001b[0m   _, original_func \u001b[39m=\u001b[39m tf_decorator\u001b[39m.\u001b[39munwrap(python_func)\n\u001b[0;32m--> <a href='file:///home/jtabalon/anaconda3/envs/tf_airway/lib/python3.9/site-packages/tensorflow/python/framework/func_graph.py?line=989'>990</a>\u001b[0m func_outputs \u001b[39m=\u001b[39m python_func(\u001b[39m*\u001b[39;49mfunc_args, \u001b[39m*\u001b[39;49m\u001b[39m*\u001b[39;49mfunc_kwargs)\n\u001b[1;32m    <a href='file:///home/jtabalon/anaconda3/envs/tf_airway/lib/python3.9/site-packages/tensorflow/python/framework/func_graph.py?line=991'>992</a>\u001b[0m \u001b[39m# invariant: `func_outputs` contains only Tensors, CompositeTensors,\u001b[39;00m\n\u001b[1;32m    <a href='file:///home/jtabalon/anaconda3/envs/tf_airway/lib/python3.9/site-packages/tensorflow/python/framework/func_graph.py?line=992'>993</a>\u001b[0m \u001b[39m# TensorArrays and `None`s.\u001b[39;00m\n\u001b[1;32m    <a href='file:///home/jtabalon/anaconda3/envs/tf_airway/lib/python3.9/site-packages/tensorflow/python/framework/func_graph.py?line=993'>994</a>\u001b[0m func_outputs \u001b[39m=\u001b[39m nest\u001b[39m.\u001b[39mmap_structure(convert, func_outputs,\n\u001b[1;32m    <a href='file:///home/jtabalon/anaconda3/envs/tf_airway/lib/python3.9/site-packages/tensorflow/python/framework/func_graph.py?line=994'>995</a>\u001b[0m                                   expand_composites\u001b[39m=\u001b[39m\u001b[39mTrue\u001b[39;00m)\n",
      "File \u001b[0;32m~/anaconda3/envs/tf_airway/lib/python3.9/site-packages/tensorflow/python/eager/def_function.py:634\u001b[0m, in \u001b[0;36mFunction._defun_with_scope.<locals>.wrapped_fn\u001b[0;34m(*args, **kwds)\u001b[0m\n\u001b[1;32m    <a href='file:///home/jtabalon/anaconda3/envs/tf_airway/lib/python3.9/site-packages/tensorflow/python/eager/def_function.py?line=631'>632</a>\u001b[0m     xla_context\u001b[39m.\u001b[39mExit()\n\u001b[1;32m    <a href='file:///home/jtabalon/anaconda3/envs/tf_airway/lib/python3.9/site-packages/tensorflow/python/eager/def_function.py?line=632'>633</a>\u001b[0m \u001b[39melse\u001b[39;00m:\n\u001b[0;32m--> <a href='file:///home/jtabalon/anaconda3/envs/tf_airway/lib/python3.9/site-packages/tensorflow/python/eager/def_function.py?line=633'>634</a>\u001b[0m   out \u001b[39m=\u001b[39m weak_wrapped_fn()\u001b[39m.\u001b[39;49m__wrapped__(\u001b[39m*\u001b[39;49margs, \u001b[39m*\u001b[39;49m\u001b[39m*\u001b[39;49mkwds)\n\u001b[1;32m    <a href='file:///home/jtabalon/anaconda3/envs/tf_airway/lib/python3.9/site-packages/tensorflow/python/eager/def_function.py?line=634'>635</a>\u001b[0m \u001b[39mreturn\u001b[39;00m out\n",
      "File \u001b[0;32m~/anaconda3/envs/tf_airway/lib/python3.9/site-packages/tensorflow/python/framework/func_graph.py:977\u001b[0m, in \u001b[0;36mfunc_graph_from_py_func.<locals>.wrapper\u001b[0;34m(*args, **kwargs)\u001b[0m\n\u001b[1;32m    <a href='file:///home/jtabalon/anaconda3/envs/tf_airway/lib/python3.9/site-packages/tensorflow/python/framework/func_graph.py?line=974'>975</a>\u001b[0m \u001b[39mexcept\u001b[39;00m \u001b[39mException\u001b[39;00m \u001b[39mas\u001b[39;00m e:  \u001b[39m# pylint:disable=broad-except\u001b[39;00m\n\u001b[1;32m    <a href='file:///home/jtabalon/anaconda3/envs/tf_airway/lib/python3.9/site-packages/tensorflow/python/framework/func_graph.py?line=975'>976</a>\u001b[0m   \u001b[39mif\u001b[39;00m \u001b[39mhasattr\u001b[39m(e, \u001b[39m\"\u001b[39m\u001b[39mag_error_metadata\u001b[39m\u001b[39m\"\u001b[39m):\n\u001b[0;32m--> <a href='file:///home/jtabalon/anaconda3/envs/tf_airway/lib/python3.9/site-packages/tensorflow/python/framework/func_graph.py?line=976'>977</a>\u001b[0m     \u001b[39mraise\u001b[39;00m e\u001b[39m.\u001b[39mag_error_metadata\u001b[39m.\u001b[39mto_exception(e)\n\u001b[1;32m    <a href='file:///home/jtabalon/anaconda3/envs/tf_airway/lib/python3.9/site-packages/tensorflow/python/framework/func_graph.py?line=977'>978</a>\u001b[0m   \u001b[39melse\u001b[39;00m:\n\u001b[1;32m    <a href='file:///home/jtabalon/anaconda3/envs/tf_airway/lib/python3.9/site-packages/tensorflow/python/framework/func_graph.py?line=978'>979</a>\u001b[0m     \u001b[39mraise\u001b[39;00m\n",
      "\u001b[0;31mNotImplementedError\u001b[0m: in user code:\n\n    /home/jtabalon/anaconda3/envs/tf_airway/lib/python3.9/site-packages/tensorflow/python/keras/engine/training.py:805 train_function  *\n        return step_function(self, iterator)\n    /tmp/ipykernel_168950/3852583639.py:4 dice_loss  *\n        return ((2.0 * np.sum([y_pred * y_true])) / (np.sum(y_pred) + np.sum(y_true)))\n    <__array_function__ internals>:180 sum  **\n        \n    /home/jtabalon/anaconda3/envs/tf_airway/lib/python3.9/site-packages/numpy/core/fromnumeric.py:2296 sum\n        return _wrapreduction(a, np.add, 'sum', axis, dtype, out, keepdims=keepdims,\n    /home/jtabalon/anaconda3/envs/tf_airway/lib/python3.9/site-packages/numpy/core/fromnumeric.py:86 _wrapreduction\n        return ufunc.reduce(obj, axis, dtype, out, **passkwargs)\n    /home/jtabalon/anaconda3/envs/tf_airway/lib/python3.9/site-packages/tensorflow/python/framework/ops.py:852 __array__\n        raise NotImplementedError(\n\n    NotImplementedError: Cannot convert a symbolic Tensor (dice_loss/mul:0) to a numpy array. This error may indicate that you're trying to pass a Tensor to a NumPy call, which is not supported\n"
     ]
    }
   ],
   "source": [
    "#model.fit(x=test_img, y=test_mask)\n",
    "model.fit(x=test_img[:,(107-32):(107+32),(305-32):(305+32),(411-32):(411+32),:], y=test_mask[:,(107-32):(107+32),(305-32):(305+32),(411-32):(411+32),:], epochs=20 )"
   ]
  },
  {
   "cell_type": "code",
   "execution_count": null,
   "metadata": {},
   "outputs": [],
   "source": []
  }
 ],
 "metadata": {
  "interpreter": {
   "hash": "9059a93f5d5beb21997891154bf5fa1a9f65ccdfc10ceb74be4f34e345aa7518"
  },
  "kernelspec": {
   "display_name": "Python 3",
   "language": "python",
   "name": "python3"
  },
  "language_info": {
   "codemirror_mode": {
    "name": "ipython",
    "version": 3
   },
   "file_extension": ".py",
   "mimetype": "text/x-python",
   "name": "python",
   "nbconvert_exporter": "python",
   "pygments_lexer": "ipython3",
   "version": "3.9.7"
  }
 },
 "nbformat": 4,
 "nbformat_minor": 2
}
